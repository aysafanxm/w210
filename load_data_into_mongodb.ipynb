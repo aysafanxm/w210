{
 "cells": [
  {
   "cell_type": "code",
   "execution_count": 12,
   "metadata": {},
   "outputs": [],
   "source": [
    "import os\n",
    "import json\n",
    "import pandas as pd\n",
    "from pymongo import MongoClient\n",
    "\n",
    "def get_matching_files(root_dir, keyword):\n",
    "    for r, d, files in os.walk(root_dir):\n",
    "        reviews = filter(lambda x: keyword in x, files)\n",
    "    \n",
    "    return reviews\n",
    "    \n",
    "\n",
    "root_dir = './data/Archive'\n",
    "reviews = get_matching_files(root_dir, 'reviews')\n",
    "\n",
    "def load_data_into_mongo(input_file, db_name, collection):\n",
    "    client = MongoClient('localhost', 27017)\n",
    "    db = client[db_name]    \n",
    "    coll = db[collection]\n",
    "    data = pd.read_csv(input_file, encoding='utf8')\n",
    "    payload = json.loads(data.to_json(orient='records'))\n",
    "    # print payload\n",
    "    # coll.update_many({}, payload, upsert=True)\n",
    "    coll.insert_many(payload)\n",
    "    return coll.count()\n",
    "    "
   ]
  },
  {
   "cell_type": "code",
   "execution_count": 13,
   "metadata": {},
   "outputs": [],
   "source": [
    "root_dir = './data/Archive'\n",
    "\n",
    "# reviews = get_matching_files(root_dir, 'reviews')\n",
    "# map(lambda x: load_data_into_mongo(root_dir + '/' + x, db_name='airbnb', collection='reviews'), reviews)"
   ]
  },
  {
   "cell_type": "code",
   "execution_count": 14,
   "metadata": {},
   "outputs": [
    {
     "data": {
      "text/plain": [
       "[9035,\n",
       " 14259,\n",
       " 22558,\n",
       " 31335,\n",
       " 36062,\n",
       " 44782,\n",
       " 49586,\n",
       " 58292,\n",
       " 66304,\n",
       " 74390,\n",
       " 83160,\n",
       " 88585,\n",
       " 97025,\n",
       " 105824,\n",
       " 114443,\n",
       " 123298,\n",
       " 131908,\n",
       " 140965,\n",
       " 149630,\n",
       " 158159,\n",
       " 164520,\n",
       " 173279,\n",
       " 182212,\n",
       " 189241,\n",
       " 198105,\n",
       " 207034,\n",
       " 213900,\n",
       " 221065,\n",
       " 228005,\n",
       " 237071,\n",
       " 243721]"
      ]
     },
     "execution_count": 14,
     "metadata": {},
     "output_type": "execute_result"
    }
   ],
   "source": [
    "listings = get_matching_files(root_dir, 'listings')\n",
    "map(lambda x: load_data_into_mongo(root_dir + '/' + x, db_name='airbnb', collection='listings'), listings)"
   ]
  },
  {
   "cell_type": "code",
   "execution_count": null,
   "metadata": {},
   "outputs": [],
   "source": [
    "# calendars = get_matching_files(root_dir, 'calendar')\n",
    "# map(lambda x: load_data_into_mongo(root_dir + '/' + x, db_name='airbnb', collection='calendar'), calendars)"
   ]
  }
 ],
 "metadata": {
  "kernelspec": {
   "display_name": "Python 2",
   "language": "python",
   "name": "python2"
  },
  "language_info": {
   "codemirror_mode": {
    "name": "ipython",
    "version": 2
   },
   "file_extension": ".py",
   "mimetype": "text/x-python",
   "name": "python",
   "nbconvert_exporter": "python",
   "pygments_lexer": "ipython2",
   "version": "2.7.14"
  }
 },
 "nbformat": 4,
 "nbformat_minor": 2
}
