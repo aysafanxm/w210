{
 "cells": [
  {
   "cell_type": "code",
   "execution_count": 29,
   "metadata": {},
   "outputs": [],
   "source": [
    "import os\n",
    "import json\n",
    "import pandas as pd\n",
    "from pymongo import MongoClient\n",
    "\n",
    "def get_matching_files(root_dir, keyword):\n",
    "    for r, d, files in os.walk(root_dir):\n",
    "        reviews = filter(lambda x: keyword in x, files)\n",
    "    \n",
    "    return reviews\n",
    "    \n",
    "\n",
    "root_dir = './data'\n",
    "reviews = get_matching_files(root_dir, 'reviews')\n",
    "\n",
    "def load_data_into_mongo(input_file, db_name, collection):\n",
    "    client = MongoClient('localhost', 27017)\n",
    "    db = client[db_name]    \n",
    "    coll = db[collection]\n",
    "    data = pd.read_csv(input_file)\n",
    "    payload = json.loads(data.to_json(orient='records'))\n",
    "    \n",
    "    # coll.update_many({}, payload, upsert=True)\n",
    "    coll.insert_many(payload)\n",
    "    return coll.count()\n",
    "    "
   ]
  },
  {
   "cell_type": "code",
   "execution_count": 18,
   "metadata": {},
   "outputs": [
    {
     "name": "stderr",
     "output_type": "stream",
     "text": [
      "/Users/jhabib/miniconda2/lib/python2.7/site-packages/ipykernel_launcher.py:22: DeprecationWarning: insert is deprecated. Use insert_one or insert_many instead.\n"
     ]
    },
    {
     "data": {
      "text/plain": [
       "[207578,\n",
       " 443897,\n",
       " 587899,\n",
       " 795497,\n",
       " 1029889,\n",
       " 1242944,\n",
       " 1476174,\n",
       " 1691815,\n",
       " 1842878,\n",
       " 1999418,\n",
       " 2215420,\n",
       " 2321670,\n",
       " 2482772,\n",
       " 2711304,\n",
       " 2881043,\n",
       " 3115405,\n",
       " 3292243,\n",
       " 3534702,\n",
       " 3721479,\n",
       " 3971140,\n",
       " 4097276,\n",
       " 4291342,\n",
       " 4547977,\n",
       " 4691214,\n",
       " 4894168,\n",
       " 5158132,\n",
       " 5417140,\n",
       " 5557418,\n",
       " 5813790,\n",
       " 6021129,\n",
       " 6266940]"
      ]
     },
     "execution_count": 18,
     "metadata": {},
     "output_type": "execute_result"
    }
   ],
   "source": [
    "root_dir = './data'\n",
    "\n",
    "reviews = get_matching_files(root_dir, 'reviews')\n",
    "map(lambda x: load_data_into_mongo(root_dir + '/' + x, db_name='airbnb', collection='reviews'), reviews)"
   ]
  },
  {
   "cell_type": "code",
   "execution_count": 15,
   "metadata": {},
   "outputs": [
    {
     "data": {
      "text/plain": [
       "[243721,\n",
       " 243721,\n",
       " 243721,\n",
       " 243721,\n",
       " 243721,\n",
       " 243721,\n",
       " 243721,\n",
       " 243721,\n",
       " 243721,\n",
       " 243721,\n",
       " 243721,\n",
       " 243721,\n",
       " 243721,\n",
       " 243721,\n",
       " 243721,\n",
       " 243721,\n",
       " 243721,\n",
       " 243721,\n",
       " 243721,\n",
       " 243721,\n",
       " 243721,\n",
       " 243721,\n",
       " 243721,\n",
       " 243721,\n",
       " 243721,\n",
       " 243721,\n",
       " 243721,\n",
       " 243721,\n",
       " 243721,\n",
       " 243721,\n",
       " 243721]"
      ]
     },
     "execution_count": 15,
     "metadata": {},
     "output_type": "execute_result"
    }
   ],
   "source": [
    "listings = get_matching_files(root_dir, 'listings')\n",
    "map(lambda x: load_data_into_mongo(root_dir + '/' + x, db_name='airbnb', collection='listings'), listings)"
   ]
  },
  {
   "cell_type": "code",
   "execution_count": null,
   "metadata": {},
   "outputs": [],
   "source": [
    "calendars = get_matching_files(root_dir, 'calendar')\n",
    "map(lambda x: load_data_into_mongo(root_dir + '/' + x, db_name='airbnb', collection='calendar'), calendars)"
   ]
  }
 ],
 "metadata": {
  "kernelspec": {
   "display_name": "Python 2",
   "language": "python",
   "name": "python2"
  },
  "language_info": {
   "codemirror_mode": {
    "name": "ipython",
    "version": 2
   },
   "file_extension": ".py",
   "mimetype": "text/x-python",
   "name": "python",
   "nbconvert_exporter": "python",
   "pygments_lexer": "ipython2",
   "version": "2.7.14"
  }
 },
 "nbformat": 4,
 "nbformat_minor": 2
}
