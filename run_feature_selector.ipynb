{
 "cells": [
  {
   "cell_type": "code",
   "execution_count": 1,
   "metadata": {},
   "outputs": [],
   "source": [
    "# import numpy as np\n",
    "# from sklearn.preprocessing import Imputer\n",
    "\n",
    "# ratings = data['review_scores_rating']\n",
    "# imp = Imputer(missing_values=np.nan, strategy='mean', axis=1)\n",
    "# ratings = np.array(ratings).reshape(1, -1)\n",
    "# imp.fit(ratings)\n",
    "# ratings = imp.transform(ratings)\n",
    "# ratings.shape\n",
    "# sample_idxs = np.random.randint(ratings.shape[1], size=1000)\n",
    "# sample_idxs\n",
    "# np.take(ratings, sample_idxs)"
   ]
  },
  {
   "cell_type": "code",
   "execution_count": 5,
   "metadata": {},
   "outputs": [],
   "source": [
    "from feature_selector import FeatureSelector"
   ]
  },
  {
   "cell_type": "code",
   "execution_count": null,
   "metadata": {},
   "outputs": [],
   "source": []
  },
  {
   "cell_type": "code",
   "execution_count": 2,
   "metadata": {},
   "outputs": [],
   "source": [
    "# import math\n",
    "# import matplotlib.pyplot as plt\n",
    "# plt.hist(np.take(ratings, sample_idxs))\n",
    "# len(data.columns)\n",
    "# len(data.sample(1).values[0])\n",
    "# for k, v in zip(data.columns, data.sample(1).values[0]): print k + ': ' + str(v)"
   ]
  },
  {
   "cell_type": "code",
   "execution_count": 6,
   "metadata": {},
   "outputs": [],
   "source": [
    "import pandas as pd"
   ]
  },
  {
   "cell_type": "code",
   "execution_count": 7,
   "metadata": {
    "scrolled": false
   },
   "outputs": [],
   "source": [
    "all_data = pd.read_csv('./data/review_features.csv', low_memory=False)"
   ]
  },
  {
   "cell_type": "code",
   "execution_count": 10,
   "metadata": {},
   "outputs": [],
   "source": [
    "data = all_data.sample(10000, random_state=1)"
   ]
  },
  {
   "cell_type": "code",
   "execution_count": 11,
   "metadata": {},
   "outputs": [],
   "source": [
    "data_labels = data['review_scores_rating']"
   ]
  },
  {
   "cell_type": "code",
   "execution_count": 12,
   "metadata": {},
   "outputs": [],
   "source": [
    "data = data.drop(columns = ['review_scores_rating'])"
   ]
  },
  {
   "cell_type": "code",
   "execution_count": 13,
   "metadata": {},
   "outputs": [],
   "source": [
    "fs = FeatureSelector(data=data, labels=data_labels)"
   ]
  },
  {
   "cell_type": "code",
   "execution_count": 19,
   "metadata": {},
   "outputs": [
    {
     "name": "stdout",
     "output_type": "stream",
     "text": [
      "10 features with greater than 0.50 missing values.\n",
      "\n"
     ]
    }
   ],
   "source": [
    "fs.identify_missing(missing_threshold=0.5)"
   ]
  },
  {
   "cell_type": "code",
   "execution_count": 23,
   "metadata": {},
   "outputs": [
    {
     "name": "stdout",
     "output_type": "stream",
     "text": [
      "28 features with a correlation magnitude greater than 0.75.\n",
      "\n"
     ]
    }
   ],
   "source": [
    "fs.identify_collinear(correlation_threshold=0.75)"
   ]
  },
  {
   "cell_type": "code",
   "execution_count": 24,
   "metadata": {},
   "outputs": [
    {
     "name": "stdout",
     "output_type": "stream",
     "text": [
      "5 features with a single unique value.\n",
      "\n"
     ]
    }
   ],
   "source": [
    "fs.identify_single_unique()"
   ]
  },
  {
   "cell_type": "code",
   "execution_count": 28,
   "metadata": {},
   "outputs": [
    {
     "name": "stdout",
     "output_type": "stream",
     "text": [
      "Training Gradient Boosting Model\n",
      "\n"
     ]
    },
    {
     "ename": "ValueError",
     "evalue": "Input contains NaN, infinity or a value too large for dtype('float64').",
     "output_type": "error",
     "traceback": [
      "\u001b[0;31m---------------------------------------------------------------------------\u001b[0m",
      "\u001b[0;31mValueError\u001b[0m                                Traceback (most recent call last)",
      "\u001b[0;32m<ipython-input-28-e4155f4dcd86>\u001b[0m in \u001b[0;36m<module>\u001b[0;34m()\u001b[0m\n\u001b[0;32m----> 1\u001b[0;31m \u001b[0mfs\u001b[0m\u001b[0;34m.\u001b[0m\u001b[0midentify_zero_importance\u001b[0m\u001b[0;34m(\u001b[0m\u001b[0mtask\u001b[0m\u001b[0;34m=\u001b[0m\u001b[0;34m'regression'\u001b[0m\u001b[0;34m,\u001b[0m \u001b[0meval_metric\u001b[0m\u001b[0;34m=\u001b[0m\u001b[0;34m'rmse'\u001b[0m\u001b[0;34m)\u001b[0m\u001b[0;34m\u001b[0m\u001b[0m\n\u001b[0m",
      "\u001b[0;32m/Users/jhabib/Documents/ucb-mids/w210/feature_selector.pyc\u001b[0m in \u001b[0;36midentify_zero_importance\u001b[0;34m(self, task, eval_metric, n_iterations, early_stopping)\u001b[0m\n\u001b[1;32m    309\u001b[0m                 model.fit(train_features, train_labels, eval_metric = eval_metric,\n\u001b[1;32m    310\u001b[0m                           \u001b[0meval_set\u001b[0m \u001b[0;34m=\u001b[0m \u001b[0;34m[\u001b[0m\u001b[0;34m(\u001b[0m\u001b[0mvalid_features\u001b[0m\u001b[0;34m,\u001b[0m \u001b[0mvalid_labels\u001b[0m\u001b[0;34m)\u001b[0m\u001b[0;34m]\u001b[0m\u001b[0;34m,\u001b[0m\u001b[0;34m\u001b[0m\u001b[0m\n\u001b[0;32m--> 311\u001b[0;31m                           early_stopping_rounds = 100, verbose = -1)\n\u001b[0m\u001b[1;32m    312\u001b[0m \u001b[0;34m\u001b[0m\u001b[0m\n\u001b[1;32m    313\u001b[0m                 \u001b[0;31m# Clean up memory\u001b[0m\u001b[0;34m\u001b[0m\u001b[0;34m\u001b[0m\u001b[0m\n",
      "\u001b[0;32m/Users/jhabib/miniconda2/lib/python2.7/site-packages/lightgbm/sklearn.pyc\u001b[0m in \u001b[0;36mfit\u001b[0;34m(self, X, y, sample_weight, init_score, eval_set, eval_names, eval_sample_weight, eval_init_score, eval_metric, early_stopping_rounds, verbose, feature_name, categorical_feature, callbacks)\u001b[0m\n\u001b[1;32m    632\u001b[0m                                        \u001b[0mverbose\u001b[0m\u001b[0;34m=\u001b[0m\u001b[0mverbose\u001b[0m\u001b[0;34m,\u001b[0m \u001b[0mfeature_name\u001b[0m\u001b[0;34m=\u001b[0m\u001b[0mfeature_name\u001b[0m\u001b[0;34m,\u001b[0m\u001b[0;34m\u001b[0m\u001b[0m\n\u001b[1;32m    633\u001b[0m                                        \u001b[0mcategorical_feature\u001b[0m\u001b[0;34m=\u001b[0m\u001b[0mcategorical_feature\u001b[0m\u001b[0;34m,\u001b[0m\u001b[0;34m\u001b[0m\u001b[0m\n\u001b[0;32m--> 634\u001b[0;31m                                        callbacks=callbacks)\n\u001b[0m\u001b[1;32m    635\u001b[0m         \u001b[0;32mreturn\u001b[0m \u001b[0mself\u001b[0m\u001b[0;34m\u001b[0m\u001b[0m\n\u001b[1;32m    636\u001b[0m \u001b[0;34m\u001b[0m\u001b[0m\n",
      "\u001b[0;32m/Users/jhabib/miniconda2/lib/python2.7/site-packages/lightgbm/sklearn.pyc\u001b[0m in \u001b[0;36mfit\u001b[0;34m(self, X, y, sample_weight, init_score, group, eval_set, eval_names, eval_sample_weight, eval_class_weight, eval_init_score, eval_group, eval_metric, early_stopping_rounds, verbose, feature_name, categorical_feature, callbacks)\u001b[0m\n\u001b[1;32m    417\u001b[0m \u001b[0;34m\u001b[0m\u001b[0m\n\u001b[1;32m    418\u001b[0m         \u001b[0;32mif\u001b[0m \u001b[0;32mnot\u001b[0m \u001b[0misinstance\u001b[0m\u001b[0;34m(\u001b[0m\u001b[0mX\u001b[0m\u001b[0;34m,\u001b[0m \u001b[0mDataFrame\u001b[0m\u001b[0;34m)\u001b[0m\u001b[0;34m:\u001b[0m\u001b[0;34m\u001b[0m\u001b[0m\n\u001b[0;32m--> 419\u001b[0;31m             \u001b[0mX\u001b[0m\u001b[0;34m,\u001b[0m \u001b[0my\u001b[0m \u001b[0;34m=\u001b[0m \u001b[0m_LGBMCheckXY\u001b[0m\u001b[0;34m(\u001b[0m\u001b[0mX\u001b[0m\u001b[0;34m,\u001b[0m \u001b[0my\u001b[0m\u001b[0;34m,\u001b[0m \u001b[0maccept_sparse\u001b[0m\u001b[0;34m=\u001b[0m\u001b[0mTrue\u001b[0m\u001b[0;34m,\u001b[0m \u001b[0mforce_all_finite\u001b[0m\u001b[0;34m=\u001b[0m\u001b[0mFalse\u001b[0m\u001b[0;34m,\u001b[0m \u001b[0mensure_min_samples\u001b[0m\u001b[0;34m=\u001b[0m\u001b[0;36m2\u001b[0m\u001b[0;34m)\u001b[0m\u001b[0;34m\u001b[0m\u001b[0m\n\u001b[0m\u001b[1;32m    420\u001b[0m             \u001b[0m_LGBMCheckConsistentLength\u001b[0m\u001b[0;34m(\u001b[0m\u001b[0mX\u001b[0m\u001b[0;34m,\u001b[0m \u001b[0my\u001b[0m\u001b[0;34m,\u001b[0m \u001b[0msample_weight\u001b[0m\u001b[0;34m)\u001b[0m\u001b[0;34m\u001b[0m\u001b[0m\n\u001b[1;32m    421\u001b[0m \u001b[0;34m\u001b[0m\u001b[0m\n",
      "\u001b[0;32m/Users/jhabib/miniconda2/lib/python2.7/site-packages/sklearn/utils/validation.pyc\u001b[0m in \u001b[0;36mcheck_X_y\u001b[0;34m(X, y, accept_sparse, dtype, order, copy, force_all_finite, ensure_2d, allow_nd, multi_output, ensure_min_samples, ensure_min_features, y_numeric, warn_on_dtype, estimator)\u001b[0m\n\u001b[1;32m    577\u001b[0m     \u001b[0;32melse\u001b[0m\u001b[0;34m:\u001b[0m\u001b[0;34m\u001b[0m\u001b[0m\n\u001b[1;32m    578\u001b[0m         \u001b[0my\u001b[0m \u001b[0;34m=\u001b[0m \u001b[0mcolumn_or_1d\u001b[0m\u001b[0;34m(\u001b[0m\u001b[0my\u001b[0m\u001b[0;34m,\u001b[0m \u001b[0mwarn\u001b[0m\u001b[0;34m=\u001b[0m\u001b[0mTrue\u001b[0m\u001b[0;34m)\u001b[0m\u001b[0;34m\u001b[0m\u001b[0m\n\u001b[0;32m--> 579\u001b[0;31m         \u001b[0m_assert_all_finite\u001b[0m\u001b[0;34m(\u001b[0m\u001b[0my\u001b[0m\u001b[0;34m)\u001b[0m\u001b[0;34m\u001b[0m\u001b[0m\n\u001b[0m\u001b[1;32m    580\u001b[0m     \u001b[0;32mif\u001b[0m \u001b[0my_numeric\u001b[0m \u001b[0;32mand\u001b[0m \u001b[0my\u001b[0m\u001b[0;34m.\u001b[0m\u001b[0mdtype\u001b[0m\u001b[0;34m.\u001b[0m\u001b[0mkind\u001b[0m \u001b[0;34m==\u001b[0m \u001b[0;34m'O'\u001b[0m\u001b[0;34m:\u001b[0m\u001b[0;34m\u001b[0m\u001b[0m\n\u001b[1;32m    581\u001b[0m         \u001b[0my\u001b[0m \u001b[0;34m=\u001b[0m \u001b[0my\u001b[0m\u001b[0;34m.\u001b[0m\u001b[0mastype\u001b[0m\u001b[0;34m(\u001b[0m\u001b[0mnp\u001b[0m\u001b[0;34m.\u001b[0m\u001b[0mfloat64\u001b[0m\u001b[0;34m)\u001b[0m\u001b[0;34m\u001b[0m\u001b[0m\n",
      "\u001b[0;32m/Users/jhabib/miniconda2/lib/python2.7/site-packages/sklearn/utils/validation.pyc\u001b[0m in \u001b[0;36m_assert_all_finite\u001b[0;34m(X)\u001b[0m\n\u001b[1;32m     42\u001b[0m             and not np.isfinite(X).all()):\n\u001b[1;32m     43\u001b[0m         raise ValueError(\"Input contains NaN, infinity\"\n\u001b[0;32m---> 44\u001b[0;31m                          \" or a value too large for %r.\" % X.dtype)\n\u001b[0m\u001b[1;32m     45\u001b[0m \u001b[0;34m\u001b[0m\u001b[0m\n\u001b[1;32m     46\u001b[0m \u001b[0;34m\u001b[0m\u001b[0m\n",
      "\u001b[0;31mValueError\u001b[0m: Input contains NaN, infinity or a value too large for dtype('float64')."
     ]
    }
   ],
   "source": [
    "fs.identify_zero_importance(task='regression', eval_metric='rmse')"
   ]
  },
  {
   "cell_type": "code",
   "execution_count": 25,
   "metadata": {},
   "outputs": [
    {
     "ename": "NotImplementedError",
     "evalue": "Feature importances have not yet been determined. \n                                         Call the `identify_zero_importance` method first.",
     "output_type": "error",
     "traceback": [
      "\u001b[0;31m---------------------------------------------------------------------------\u001b[0m",
      "\u001b[0;31mNotImplementedError\u001b[0m                       Traceback (most recent call last)",
      "\u001b[0;32m<ipython-input-25-0e2df2b8e64b>\u001b[0m in \u001b[0;36m<module>\u001b[0;34m()\u001b[0m\n\u001b[0;32m----> 1\u001b[0;31m \u001b[0mfs\u001b[0m\u001b[0;34m.\u001b[0m\u001b[0midentify_low_importance\u001b[0m\u001b[0;34m(\u001b[0m\u001b[0mcumulative_importance\u001b[0m\u001b[0;34m=\u001b[0m\u001b[0;36m0.9\u001b[0m\u001b[0;34m)\u001b[0m\u001b[0;34m\u001b[0m\u001b[0m\n\u001b[0m",
      "\u001b[0;32m/Users/jhabib/Documents/ucb-mids/w210/feature_selector.pyc\u001b[0m in \u001b[0;36midentify_low_importance\u001b[0;34m(self, cumulative_importance)\u001b[0m\n\u001b[1;32m    361\u001b[0m         \u001b[0;32mif\u001b[0m \u001b[0mself\u001b[0m\u001b[0;34m.\u001b[0m\u001b[0mfeature_importances\u001b[0m \u001b[0;32mis\u001b[0m \u001b[0mNone\u001b[0m\u001b[0;34m:\u001b[0m\u001b[0;34m\u001b[0m\u001b[0m\n\u001b[1;32m    362\u001b[0m             raise NotImplementedError(\"\"\"Feature importances have not yet been determined. \n\u001b[0;32m--> 363\u001b[0;31m                                          Call the `identify_zero_importance` method first.\"\"\")\n\u001b[0m\u001b[1;32m    364\u001b[0m \u001b[0;34m\u001b[0m\u001b[0m\n\u001b[1;32m    365\u001b[0m         \u001b[0;31m# Make sure most important features are on top\u001b[0m\u001b[0;34m\u001b[0m\u001b[0;34m\u001b[0m\u001b[0m\n",
      "\u001b[0;31mNotImplementedError\u001b[0m: Feature importances have not yet been determined. \n                                         Call the `identify_zero_importance` method first."
     ]
    }
   ],
   "source": [
    "fs.identify_low_importance(cumulative_importance=0.9)"
   ]
  },
  {
   "cell_type": "code",
   "execution_count": 5,
   "metadata": {
    "scrolled": false
   },
   "outputs": [
    {
     "name": "stdout",
     "output_type": "stream",
     "text": [
      "host_total_listings_count Mission\n",
      "host_total_listings_count Mission\n",
      "host_total_listings_count Mission\n",
      "host_total_listings_count Mission\n",
      "host_total_listings_count Mission\n",
      "host_total_listings_count Mission\n",
      "host_total_listings_count Mission\n",
      "['bathrooms', 'host_has_profile_pic', 'cancellation_policy', 'host_neighbourhood', 'host_acceptance_rate', 'property_type', 'host_location', 'space', 'zipcode', 'host_since', 'host_identity_verified', 'host_listings_count', 'bedrooms', 'host_response_rate', 'host_about', 'calculated_host_listings_count', 'interaction', 'name', 'license', 'host_response_time', 'beds', 'cleaning_fee', 'host_name', 'guests_included', 'host_total_listings_count']\n"
     ]
    }
   ],
   "source": [
    "data = all_data.sample(50000, random_state=1)\n",
    "cols_to_drop = ['access', 'amenities_', 'description', \\\n",
    "               'house_rules', 'id', 'host_verifications', 'last_review', 'last_scraped', \\\n",
    "               'market', 'neighborhood_overview', 'neighbourhood', 'neighbourhood_cleansed', \\\n",
    "               'neighbourhood_group_cleansed', 'notes', 'street', 'summary', 'transit', \\\n",
    "               'Unnamed: 0', 'first_review', 'calendar_last_scraped', 'calendar_updated', \n",
    "               'review_scores_accuracy', 'review_scores_checkin', 'review_scores_cleanliness', \\\n",
    "                'review_scores_communication', 'review_scores_location']\n",
    "data.loc[:, cols_to_drop]\n",
    "data = data.drop(cols_to_drop, axis=1)\n",
    "\n",
    "data = data.replace('f', 0)\n",
    "data = data.replace('t', 1)\n",
    "data = data.replace(r'[\\$,]','', regex=True)\n",
    "# data['review_scores_rating']\n",
    "\n",
    "\n",
    "# Get a list of non-numeric columns so we can drop them\n",
    "from collections import defaultdict\n",
    "\n",
    "non_numeric_columns = defaultdict(int)\n",
    "\n",
    "for d in data.values:\n",
    "    for k, v in zip(data.columns, d):\n",
    "        if 'Mission' == v:\n",
    "            print k, v\n",
    "        \n",
    "        try: \n",
    "            float(v)\n",
    "        except Exception as e:\n",
    "            non_numeric_columns[k] += 1\n",
    "\n",
    "print non_numeric_columns.keys()\n",
    "# data = data.drop(non_numeric_columns.keys(), axis=1)"
   ]
  },
  {
   "cell_type": "code",
   "execution_count": 6,
   "metadata": {},
   "outputs": [],
   "source": [
    "dependent_variable = 'review_scores_rating'"
   ]
  },
  {
   "cell_type": "code",
   "execution_count": 7,
   "metadata": {},
   "outputs": [],
   "source": [
    "# Drop missing values from depedent variable\n",
    "data = data.dropna(subset=[dependent_variable])\n",
    "y = data[dependent_variable]"
   ]
  },
  {
   "cell_type": "code",
   "execution_count": 8,
   "metadata": {},
   "outputs": [],
   "source": [
    "# Test for collinearity\n",
    "\n",
    "collinear = data.corr()\n",
    "s = collinear.unstack()\n",
    "so = s.sort_values(kind='quicksort')\n",
    "so.to_csv('collinearity_values.csv')"
   ]
  },
  {
   "cell_type": "code",
   "execution_count": 9,
   "metadata": {
    "scrolled": false
   },
   "outputs": [],
   "source": [
    "# so[-1*(len(so)):-1*(len(so)-100)]"
   ]
  },
  {
   "cell_type": "code",
   "execution_count": 10,
   "metadata": {
    "scrolled": false
   },
   "outputs": [],
   "source": [
    "# read most correlated columns from csv, and drop them\n",
    "\n",
    "corr_cols_to_drop = pd.read_csv('./correlated_columns.csv', encoding='utf8').values.reshape(1,-1).tolist()[0]"
   ]
  },
  {
   "cell_type": "code",
   "execution_count": 11,
   "metadata": {},
   "outputs": [
    {
     "data": {
      "text/plain": [
       "['reviews_per_month',\n",
       " 'number_of_reviews',\n",
       " 'review_scores_value',\n",
       " 'review_scores_rating']"
      ]
     },
     "execution_count": 11,
     "metadata": {},
     "output_type": "execute_result"
    }
   ],
   "source": [
    "# drop review_ related columns\n",
    "review_columns = defaultdict(int)\n",
    "for c in data.columns:\n",
    "    if 'review' in c:\n",
    "        review_columns[c] += 1\n",
    "review_columns.keys()"
   ]
  },
  {
   "cell_type": "code",
   "execution_count": 12,
   "metadata": {},
   "outputs": [],
   "source": [
    "# Drop zipcode, longitude, latitude and such\n",
    "others = ['zipcode', 'latitude', 'longitude']"
   ]
  },
  {
   "cell_type": "code",
   "execution_count": 13,
   "metadata": {},
   "outputs": [],
   "source": [
    "cols_to_drop = set(review_columns.keys()).union(non_numeric_columns.keys()).union(corr_cols_to_drop).union(others)\n",
    "# cols_to_drop"
   ]
  },
  {
   "cell_type": "code",
   "execution_count": 14,
   "metadata": {},
   "outputs": [],
   "source": [
    "X = data.drop(cols_to_drop, axis=1)"
   ]
  },
  {
   "cell_type": "code",
   "execution_count": 15,
   "metadata": {},
   "outputs": [],
   "source": [
    "for c in X.columns:\n",
    "    if 'review' in c:\n",
    "        print c"
   ]
  },
  {
   "cell_type": "code",
   "execution_count": 16,
   "metadata": {},
   "outputs": [
    {
     "name": "stdout",
     "output_type": "stream",
     "text": [
      "(38874, 158)\n",
      "(38874,)\n"
     ]
    }
   ],
   "source": [
    "import numpy as np\n",
    "from sklearn.preprocessing import Imputer\n",
    "\n",
    "\n",
    "imp = Imputer(missing_values=np.nan, strategy='median', axis=1)\n",
    "imp.fit(X)\n",
    "X = imp.transform(X)\n",
    "\n",
    "imp = Imputer(missing_values=np.nan, strategy='median', axis=1)\n",
    "imp.fit(y)\n",
    "y = imp.transform(y.values.reshape(-1,1))\n",
    "y = y.ravel()\n",
    "\n",
    "print X.shape\n",
    "print y.shape\n",
    "\n",
    "# imp.fit(X_train)\n",
    "# X_train = imp.transform(X_train)\n",
    "\n",
    "# imp = Imputer(missing_values=np.nan, strategy='median', axis=1)\n",
    "# imp.fit(X_test)\n",
    "# X_test = imp.transform(X_test)\n",
    "\n",
    "\n",
    "# y_train = np.array(y_train).reshape(1, -1)\n",
    "# imp = Imputer(missing_values=np.nan, strategy='median', axis=1)\n",
    "# imp.fit(y_train)\n",
    "# y_train = imp.transform(y_train)\n",
    "# y_train = y_train.reshape(-1, 1)\n",
    "# y_train = y_train.ravel()\n",
    "\n",
    "# y_test = np.array(y_test).reshape(1, -1)\n",
    "# imp = Imputer(missing_values=np.nan, strategy='median', axis=1)\n",
    "# imp.fit(y_test)\n",
    "# y_test = imp.transform(y_test)\n",
    "# y_test = y_test.reshape(-1, 1)\n",
    "# y_test = y_test.ravel()\n",
    "\n",
    "# print X_train.shape\n",
    "# print y_train.ravel().shape"
   ]
  },
  {
   "cell_type": "code",
   "execution_count": 17,
   "metadata": {},
   "outputs": [],
   "source": [
    "# Scale the dependent variables\n",
    "from sklearn.preprocessing import StandardScaler\n",
    "\n",
    "scaler = StandardScaler(copy=True, with_mean=True, with_std=True)\n",
    "scaler.fit(X)\n",
    "X = scaler.transform(X)\n",
    "\n",
    "scaler = StandardScaler(copy=True, with_mean=True, with_std=True)\n",
    "scaler.fit(y.reshape(-1,1))\n",
    "y = scaler.transform(y.reshape(-1,1))\n",
    "y = y.ravel()"
   ]
  },
  {
   "cell_type": "code",
   "execution_count": 18,
   "metadata": {},
   "outputs": [
    {
     "name": "stdout",
     "output_type": "stream",
     "text": [
      "(38874, 158)\n",
      "(38874,)\n"
     ]
    }
   ],
   "source": [
    "print X.shape\n",
    "print y.shape"
   ]
  },
  {
   "cell_type": "code",
   "execution_count": 19,
   "metadata": {},
   "outputs": [],
   "source": [
    "# Try PCA\n",
    "from sklearn.decomposition import PCA, KernelPCA\n",
    "\n",
    "pca = PCA(n_components=30)\n",
    "X = pca.fit_transform(X)\n"
   ]
  },
  {
   "cell_type": "code",
   "execution_count": 20,
   "metadata": {},
   "outputs": [
    {
     "name": "stdout",
     "output_type": "stream",
     "text": [
      "(38874, 30)\n",
      "(38874,)\n"
     ]
    }
   ],
   "source": [
    "print X.shape\n",
    "print y.shape"
   ]
  },
  {
   "cell_type": "code",
   "execution_count": 21,
   "metadata": {},
   "outputs": [
    {
     "data": {
      "text/plain": [
       "(array([1.200e+01, 0.000e+00, 0.000e+00, 0.000e+00, 0.000e+00, 0.000e+00,\n",
       "        0.000e+00, 0.000e+00, 0.000e+00, 0.000e+00, 0.000e+00, 0.000e+00,\n",
       "        0.000e+00, 0.000e+00, 0.000e+00, 0.000e+00, 0.000e+00, 0.000e+00,\n",
       "        0.000e+00, 0.000e+00, 3.400e+01, 0.000e+00, 0.000e+00, 0.000e+00,\n",
       "        0.000e+00, 0.000e+00, 0.000e+00, 0.000e+00, 1.000e+00, 0.000e+00,\n",
       "        2.000e+00, 0.000e+00, 0.000e+00, 2.000e+00, 0.000e+00, 0.000e+00,\n",
       "        0.000e+00, 0.000e+00, 0.000e+00, 0.000e+00, 6.400e+01, 0.000e+00,\n",
       "        0.000e+00, 0.000e+00, 0.000e+00, 1.000e+00, 0.000e+00, 1.000e+00,\n",
       "        1.000e+00, 0.000e+00, 1.900e+01, 0.000e+00, 1.000e+00, 7.000e+00,\n",
       "        0.000e+00, 1.000e+00, 2.000e+00, 0.000e+00, 1.000e+00, 0.000e+00,\n",
       "        1.740e+02, 0.000e+00, 1.000e+00, 5.000e+00, 9.000e+00, 1.400e+01,\n",
       "        5.000e+00, 5.100e+01, 3.900e+01, 1.800e+01, 1.110e+02, 1.200e+01,\n",
       "        1.900e+01, 9.900e+01, 3.500e+01, 8.100e+01, 6.500e+01, 5.300e+01,\n",
       "        6.300e+01, 3.500e+01, 1.204e+03, 7.500e+01, 1.360e+02, 2.520e+02,\n",
       "        2.470e+02, 3.330e+02, 3.750e+02, 7.440e+02, 6.090e+02, 6.870e+02,\n",
       "        1.798e+03, 1.008e+03, 1.239e+03, 2.302e+03, 1.868e+03, 2.687e+03,\n",
       "        3.082e+03, 2.966e+03, 3.404e+03, 1.282e+04]),\n",
       " array([-12.80943625, -12.67384152, -12.53824678, -12.40265205,\n",
       "        -12.26705732, -12.13146259, -11.99586786, -11.86027313,\n",
       "        -11.72467839, -11.58908366, -11.45348893, -11.3178942 ,\n",
       "        -11.18229947, -11.04670474, -10.91111   , -10.77551527,\n",
       "        -10.63992054, -10.50432581, -10.36873108, -10.23313635,\n",
       "        -10.09754161,  -9.96194688,  -9.82635215,  -9.69075742,\n",
       "         -9.55516269,  -9.41956796,  -9.28397322,  -9.14837849,\n",
       "         -9.01278376,  -8.87718903,  -8.7415943 ,  -8.60599957,\n",
       "         -8.47040483,  -8.3348101 ,  -8.19921537,  -8.06362064,\n",
       "         -7.92802591,  -7.79243118,  -7.65683644,  -7.52124171,\n",
       "         -7.38564698,  -7.25005225,  -7.11445752,  -6.97886279,\n",
       "         -6.84326805,  -6.70767332,  -6.57207859,  -6.43648386,\n",
       "         -6.30088913,  -6.1652944 ,  -6.02969966,  -5.89410493,\n",
       "         -5.7585102 ,  -5.62291547,  -5.48732074,  -5.35172601,\n",
       "         -5.21613127,  -5.08053654,  -4.94494181,  -4.80934708,\n",
       "         -4.67375235,  -4.53815762,  -4.40256288,  -4.26696815,\n",
       "         -4.13137342,  -3.99577869,  -3.86018396,  -3.72458923,\n",
       "         -3.58899449,  -3.45339976,  -3.31780503,  -3.1822103 ,\n",
       "         -3.04661557,  -2.91102084,  -2.7754261 ,  -2.63983137,\n",
       "         -2.50423664,  -2.36864191,  -2.23304718,  -2.09745245,\n",
       "         -1.96185772,  -1.82626298,  -1.69066825,  -1.55507352,\n",
       "         -1.41947879,  -1.28388406,  -1.14828933,  -1.01269459,\n",
       "         -0.87709986,  -0.74150513,  -0.6059104 ,  -0.47031567,\n",
       "         -0.33472094,  -0.1991262 ,  -0.06353147,   0.07206326,\n",
       "          0.20765799,   0.34325272,   0.47884745,   0.61444219,\n",
       "          0.75003692]),\n",
       " <a list of 100 Patch objects>)"
      ]
     },
     "execution_count": 21,
     "metadata": {},
     "output_type": "execute_result"
    }
   ],
   "source": [
    "import matplotlib.pyplot as plt\n",
    "plt.hist(y.tolist(), bins=100)"
   ]
  },
  {
   "cell_type": "code",
   "execution_count": 22,
   "metadata": {},
   "outputs": [],
   "source": [
    "# Try KernelPCA\n",
    "\n",
    "# kcpa = KernelPCA(kernel='rbf', fit_inverse_transform=True, gamma=10)\n",
    "# X = kcpa.fit_transform(X)\n",
    "\n",
    "# print X.shape\n",
    "# print y.shape"
   ]
  },
  {
   "cell_type": "code",
   "execution_count": 23,
   "metadata": {},
   "outputs": [],
   "source": [
    "# from sklearn.preprocessing import PolynomialFeatures\n",
    "\n",
    "# poly = PolynomialFeatures(degree=2)\n",
    "\n",
    "# X = poly.fit_transform(X)"
   ]
  },
  {
   "cell_type": "code",
   "execution_count": 24,
   "metadata": {},
   "outputs": [],
   "source": [
    "from sklearn.model_selection import train_test_split\n",
    "\n",
    "\n",
    "X_train, X_test, y_train, y_test = train_test_split(X, \n",
    "                                                    y, \n",
    "                                                    test_size=0.33, \n",
    "                                                    random_state=1234)"
   ]
  },
  {
   "cell_type": "code",
   "execution_count": 25,
   "metadata": {
    "scrolled": true
   },
   "outputs": [
    {
     "name": "stdout",
     "output_type": "stream",
     "text": [
      "Mean squared error: 0.87\n",
      "Variance score: 0.08\n"
     ]
    },
    {
     "data": {
      "image/png": "[encoded data removed]",
      "text/plain": [
       "<Figure size 432x288 with 1 Axes>"
      ]
     },
     "metadata": {},
     "output_type": "display_data"
    }
   ],
   "source": [
    "import matplotlib.pyplot as plt\n",
    "import numpy as np\n",
    "from sklearn import datasets, linear_model\n",
    "from sklearn.metrics import mean_squared_error, r2_score, accuracy_score, make_scorer, roc_auc_score\n",
    "\n",
    "# Create linear regression object\n",
    "regr = linear_model.Lasso(alpha=0.0001, fit_intercept=False, max_iter=10000)\n",
    "\n",
    "# Train the model using the training sets\n",
    "regr.fit(X_train, y_train)\n",
    "\n",
    "y_train_pred = regr.predict(X_train)\n",
    "\n",
    "# Make predictions using the testing set\n",
    "y_pred = regr.predict(X_test)\n",
    "\n",
    "# The mean squared error\n",
    "print(\"Mean squared error: %.2f\"\n",
    "      % mean_squared_error(y_test, y_pred))\n",
    "# Explained variance score: 1 is perfect prediction\n",
    "print('Variance score: %.2f' % r2_score(y_test.tolist(), y_pred.tolist()))\n",
    "\n",
    "# Plot the residuals\n",
    "plt.scatter(y_train, y_train-y_train_pred, c='b', marker='o', alpha=0.5)\n",
    "plt.scatter(y_test, y_test-y_pred, c='g', marker='s', alpha=0.5)\n",
    "plt.hlines(y=0, xmin=-10, xmax=10, color='r')\n",
    "plt.show()"
   ]
  },
  {
   "cell_type": "code",
   "execution_count": 26,
   "metadata": {},
   "outputs": [],
   "source": [
    "def squared_err(org, prd):\n",
    "    return sum((org-prd)**2)"
   ]
  },
  {
   "cell_type": "code",
   "execution_count": 27,
   "metadata": {},
   "outputs": [],
   "source": [
    "def coeff_of_determination(org, prd):\n",
    "    mean_org = np.mean(org)\n",
    "    mean_prd = [mean_org for y in org]\n",
    "    squared_error_regr = squared_err(org, prd)\n",
    "    print squared_error_regr \n",
    "    \n",
    "    squared_error_y_mean = squared_err(org, mean_prd)\n",
    "    print squared_error_y_mean\n",
    "    \n",
    "    return 1 - (squared_error_regr / squared_error_y_mean)"
   ]
  },
  {
   "cell_type": "code",
   "execution_count": 28,
   "metadata": {},
   "outputs": [
    {
     "data": {
      "text/plain": [
       "11180.842695934025"
      ]
     },
     "execution_count": 28,
     "metadata": {},
     "output_type": "execute_result"
    }
   ],
   "source": [
    "squared_err(y_test, y_pred)"
   ]
  },
  {
   "cell_type": "code",
   "execution_count": 29,
   "metadata": {},
   "outputs": [
    {
     "name": "stdout",
     "output_type": "stream",
     "text": [
      "11180.842695934025\n",
      "12212.123812963167\n"
     ]
    },
    {
     "data": {
      "text/plain": [
       "0.08444731914152703"
      ]
     },
     "execution_count": 29,
     "metadata": {},
     "output_type": "execute_result"
    }
   ],
   "source": [
    "coeff_of_determination(y_test, y_pred)"
   ]
  },
  {
   "cell_type": "code",
   "execution_count": 30,
   "metadata": {},
   "outputs": [
    {
     "name": "stdout",
     "output_type": "stream",
     "text": [
      "0.23389391594368478 0.233893915944\n",
      "0.4311435325589966 0.431143532559\n",
      "0.07514893528639507 0.0751489352864\n",
      "0.1416767044905962 0.141676704491\n",
      "0.427242272470889 0.427242272471\n",
      "0.2354930536090512 0.235493053609\n",
      "0.026940689273144525 0.0269406892731\n",
      "-0.7782760711043168 -0.778276071104\n",
      "0.12904590697863078 0.129045906979\n",
      "-0.1654033716741362 -0.165403371674\n",
      "0.20740747796842418 0.207407477968\n"
     ]
    }
   ],
   "source": [
    "i = 0\n",
    "for act, pred in zip(y_train_pred, y_train_pred.tolist()):\n",
    "    if i <= 10:\n",
    "        i += 1\n",
    "        print act, pred"
   ]
  },
  {
   "cell_type": "code",
   "execution_count": 31,
   "metadata": {},
   "outputs": [
    {
     "name": "stdout",
     "output_type": "stream",
     "text": [
      "-12.809436246883383\n",
      "0.7500369178942572\n"
     ]
    }
   ],
   "source": [
    "print np.min(y_test)\n",
    "print np.max(y_test)"
   ]
  },
  {
   "cell_type": "code",
   "execution_count": 32,
   "metadata": {},
   "outputs": [
    {
     "name": "stdout",
     "output_type": "stream",
     "text": [
      "-12.220297684594179\n",
      "1.0184625175661925\n"
     ]
    }
   ],
   "source": [
    "print np.min(y_pred)\n",
    "print np.max(y_pred)"
   ]
  },
  {
   "cell_type": "code",
   "execution_count": 33,
   "metadata": {},
   "outputs": [],
   "source": [
    "# MSE without dropping nan from predictor\n",
    "# Mean squared error: 47.72\n",
    "# Variance score: 0.08\n"
   ]
  },
  {
   "cell_type": "code",
   "execution_count": 34,
   "metadata": {
    "scrolled": false
   },
   "outputs": [
    {
     "name": "stdout",
     "output_type": "stream",
     "text": [
      "Mean squared error: 0.87\n",
      "Variance score: 0.08\n"
     ]
    },
    {
     "data": {
      "image/png": "[encoded data removed]",
      "text/plain": [
       "<Figure size 432x288 with 1 Axes>"
      ]
     },
     "metadata": {},
     "output_type": "display_data"
    }
   ],
   "source": [
    "import math\n",
    "\n",
    "# Create linear regression object\n",
    "regr = linear_model.ElasticNet(normalize=False, alpha=0.001, fit_intercept=False)\n",
    "\n",
    "y_traint = y_train\n",
    "y_testt = y_test\n",
    "\n",
    "# Train the model using the training sets\n",
    "regr.fit(X_train, y_traint)\n",
    "\n",
    "\n",
    "\n",
    "y_train_pred = regr.predict(X_train)\n",
    "\n",
    "# Make predictions using the testing set\n",
    "y_pred = regr.predict(X_test)\n",
    "\n",
    "# The mean squared error\n",
    "print(\"Mean squared error: %.2f\"\n",
    "      % mean_squared_error(y_testt, y_pred))\n",
    "# Explained variance score: 1 is perfect prediction\n",
    "print('Variance score: %.2f' % r2_score(y_testt, y_pred))\n",
    "\n",
    "# Plot the residuals\n",
    "plt.scatter(y_traint, y_traint-y_train_pred, c='b', marker='o', alpha=0.5)\n",
    "plt.scatter(y_testt, y_testt-y_pred, c='g', marker='s', alpha=0.5)\n",
    "plt.hlines(y=0, xmin=0, xmax=10, color='r')\n",
    "plt.show()"
   ]
  },
  {
   "cell_type": "code",
   "execution_count": 35,
   "metadata": {},
   "outputs": [
    {
     "name": "stdout",
     "output_type": "stream",
     "text": [
      "-12.809436246883383\n",
      "0.7500369178942572\n"
     ]
    }
   ],
   "source": [
    "print np.min(y_test)\n",
    "print np.max(y_test)"
   ]
  },
  {
   "cell_type": "code",
   "execution_count": 36,
   "metadata": {},
   "outputs": [
    {
     "name": "stdout",
     "output_type": "stream",
     "text": [
      "-12.809436246883383\n",
      "0.7500369178942572\n"
     ]
    }
   ],
   "source": [
    "print np.min(y_train)\n",
    "print np.max(y_train)"
   ]
  },
  {
   "cell_type": "code",
   "execution_count": 37,
   "metadata": {},
   "outputs": [
    {
     "name": "stdout",
     "output_type": "stream",
     "text": [
      "Mean squared error: 0.87\n",
      "Variance score: 0.08\n"
     ]
    },
    {
     "data": {
      "image/png": "[encoded data removed]",
      "text/plain": [
       "<Figure size 432x288 with 1 Axes>"
      ]
     },
     "metadata": {},
     "output_type": "display_data"
    }
   ],
   "source": [
    "import math\n",
    "\n",
    "# Create linear regression object\n",
    "# regr = linear_model.ElasticNet(normalize=True, alpha=0.05, fit_intercept=True)\n",
    "\n",
    "# y_traint = np.array(map(lambda x: math.log(x+1), y_train))\n",
    "# y_testt = np.array(map(lambda x: math.log(x+1), y_test))\n",
    "\n",
    "y_traint = y_train\n",
    "y_traint_var = np.var(y_traint)\n",
    "y_traint_weights = np.array(map(lambda x: 1/y_traint_var, y_traint))\n",
    "\n",
    "y_testt = y_test\n",
    "y_testt_var = np.var(y_testt)\n",
    "y_testt_weights = np.array(map(lambda x: 1/y_testt_var, y_testt))\n",
    "\n",
    "\n",
    "regr = linear_model.LinearRegression(fit_intercept=True, normalize=False)\n",
    "\n",
    "\n",
    "# Train the model using the training sets\n",
    "regr.fit(X_train, y_traint, sample_weight=y_traint_weights)\n",
    "\n",
    "\n",
    "\n",
    "y_train_pred = map(lambda x: round(x, 8), regr.predict(X_train))\n",
    "\n",
    "# Make predictions using the testing set\n",
    "y_pred = map(lambda x: round(x, 8), regr.predict(X_test))\n",
    "\n",
    "# The mean squared error\n",
    "print(\"Mean squared error: %.2f\"\n",
    "      % mean_squared_error(y_testt, y_pred))\n",
    "# Explained variance score: 1 is perfect prediction\n",
    "print('Variance score: %.2f' % r2_score(y_testt, y_pred))\n",
    "\n",
    "# Plot the residuals\n",
    "plt.scatter(y_traint, y_traint-y_train_pred, c='b', marker='o', alpha=0.5)\n",
    "plt.scatter(y_testt, y_testt-y_pred, c='g', marker='s', alpha=0.5)\n",
    "plt.hlines(y=0, xmin=0, xmax=10, color='r')\n",
    "plt.show()"
   ]
  },
  {
   "cell_type": "code",
   "execution_count": 38,
   "metadata": {},
   "outputs": [],
   "source": [
    "#  The bias and heteroscadasticity is epic in the redisual plot\n",
    "# Let's transform the dependent variable\n"
   ]
  },
  {
   "cell_type": "code",
   "execution_count": 39,
   "metadata": {},
   "outputs": [
    {
     "name": "stdout",
     "output_type": "stream",
     "text": [
      "-0.334720935287954 0.11192135\n",
      "-0.0635314719924012 -0.24147056\n",
      "-2.7754261049479294 -0.23693917\n",
      "-0.0635314719924012 0.13830613\n",
      "-0.334720935287954 0.0252534\n",
      "0.7500369178942572 0.26367886\n",
      "0.7500369178942572 -0.25238365\n",
      "0.6144421862464808 0.37644797\n",
      "-0.334720935287954 -0.05021261\n",
      "0.47884745459870437 0.09278566\n",
      "0.7500369178942572 0.4324657\n",
      "0.47884745459870437 0.01412501\n",
      "-0.0635314719924012 0.01963398\n",
      "0.7500369178942572 -0.10114327\n",
      "0.0720632596553752 0.0676813\n",
      "0.7500369178942572 0.16586881\n",
      "-0.6059103985835068 -0.28806576\n",
      "0.47884745459870437 0.20212958\n",
      "0.7500369178942572 0.65338058\n",
      "0.6144421862464808 0.34660022\n"
     ]
    }
   ],
   "source": [
    "for i, j in zip(y_test[:20], y_pred[:20]): print i, j"
   ]
  },
  {
   "cell_type": "code",
   "execution_count": 40,
   "metadata": {},
   "outputs": [],
   "source": [
    "# With imputing by mean\n",
    "# Mean squared error: 18099081.99\n",
    "# Variance score: -371456.56"
   ]
  },
  {
   "cell_type": "code",
   "execution_count": 41,
   "metadata": {},
   "outputs": [
    {
     "name": "stdout",
     "output_type": "stream",
     "text": [
      "Mean squared error: 0.92\n",
      "Variance score: 0.03\n"
     ]
    }
   ],
   "source": [
    "from sklearn import neural_network\n",
    "\n",
    "# Create neural net object\n",
    "nn = neural_network.MLPRegressor(alpha=0.0001, warm_start=False, activation='relu', \\\n",
    "                                learning_rate='invscaling', solver='sgd', max_iter=10000, \n",
    "                                hidden_layer_sizes=(1000,20,100))\n",
    "\n",
    "# Train the model using the training sets\n",
    "nn.fit(X_train, y_train)\n",
    "\n",
    "y_train_pred = nn.predict(X_train)\n",
    "\n",
    "# Make predictions using the testing set\n",
    "y_pred = nn.predict(X_test)\n",
    "\n",
    "# The mean squared error\n",
    "print(\"Mean squared error: %.2f\"\n",
    "      % mean_squared_error(y_test.tolist(), y_pred))\n",
    "# Explained variance score: 1 is perfect prediction\n",
    "print('Variance score: %.2f' % r2_score(y_test.tolist(), y_pred))\n"
   ]
  },
  {
   "cell_type": "code",
   "execution_count": 42,
   "metadata": {},
   "outputs": [
    {
     "data": {
      "image/png": "[encoded data removed]",
      "text/plain": [
       "<Figure size 432x288 with 1 Axes>"
      ]
     },
     "metadata": {},
     "output_type": "display_data"
    }
   ],
   "source": [
    "# Plot the residuals\n",
    "plt.scatter(y_train, y_train-y_train_pred, c='b', marker='o', alpha=0.5)\n",
    "plt.scatter(y_test, y_test-y_pred, c='g', marker='s', alpha=0.5)\n",
    "plt.hlines(y=0, xmin=0, xmax=100, color='r')\n",
    "plt.show()"
   ]
  },
  {
   "cell_type": "code",
   "execution_count": 43,
   "metadata": {},
   "outputs": [
    {
     "name": "stdout",
     "output_type": "stream",
     "text": [
      "-0.334720935287954 0.0017576517259489527\n",
      "-0.0635314719924012 -0.20427210993915731\n",
      "-2.7754261049479294 -0.03791139946231087\n",
      "-0.0635314719924012 -0.012120871122726043\n",
      "-0.334720935287954 -0.06207237865300885\n",
      "0.7500369178942572 0.0025297205530087213\n",
      "0.7500369178942572 -0.08735633583871147\n",
      "0.6144421862464808 0.0013234081422578148\n",
      "-0.334720935287954 0.007329836929183625\n",
      "0.47884745459870437 0.08120397133789517\n",
      "0.7500369178942572 0.11041033932175352\n",
      "0.47884745459870437 -0.024729898258110228\n",
      "-0.0635314719924012 -0.0054796656887574485\n",
      "0.7500369178942572 -0.02181665185284251\n",
      "0.0720632596553752 -0.05915730179074444\n",
      "0.7500369178942572 0.0930631166546982\n",
      "-0.6059103985835068 -0.01893857696712814\n",
      "0.47884745459870437 0.12342788108292274\n",
      "0.7500369178942572 0.16377378665896153\n",
      "0.6144421862464808 0.1078300419387901\n"
     ]
    }
   ],
   "source": [
    "for i, j in zip(y_test[:20], y_pred[:20]): print i, j"
   ]
  }
 ],
 "metadata": {
  "kernelspec": {
   "display_name": "Python 2",
   "language": "python",
   "name": "python2"
  },
  "language_info": {
   "codemirror_mode": {
    "name": "ipython",
    "version": 2
   },
   "file_extension": ".py",
   "mimetype": "text/x-python",
   "name": "python",
   "nbconvert_exporter": "python",
   "pygments_lexer": "ipython2",
   "version": "2.7.14"
  }
 },
 "nbformat": 4,
 "nbformat_minor": 2
}
