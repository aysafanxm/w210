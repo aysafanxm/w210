{
 "cells": [
  {
   "cell_type": "code",
   "execution_count": 1,
   "metadata": {},
   "outputs": [],
   "source": [
    "# import numpy as np\n",
    "# from sklearn.preprocessing import Imputer\n",
    "\n",
    "# ratings = data['review_scores_rating']\n",
    "# imp = Imputer(missing_values=np.nan, strategy='mean', axis=1)\n",
    "# ratings = np.array(ratings).reshape(1, -1)\n",
    "# imp.fit(ratings)\n",
    "# ratings = imp.transform(ratings)\n",
    "# ratings.shape\n",
    "# sample_idxs = np.random.randint(ratings.shape[1], size=1000)\n",
    "# sample_idxs\n",
    "# np.take(ratings, sample_idxs)"
   ]
  },
  {
   "cell_type": "code",
   "execution_count": 2,
   "metadata": {},
   "outputs": [],
   "source": [
    "# import math\n",
    "# import matplotlib.pyplot as plt\n",
    "# plt.hist(np.take(ratings, sample_idxs))\n",
    "# len(data.columns)\n",
    "# len(data.sample(1).values[0])\n",
    "# for k, v in zip(data.columns, data.sample(1).values[0]): print k + ': ' + str(v)"
   ]
  },
  {
   "cell_type": "code",
   "execution_count": 3,
   "metadata": {},
   "outputs": [],
   "source": [
    "import pandas as pd"
   ]
  },
  {
   "cell_type": "code",
   "execution_count": 4,
   "metadata": {
    "scrolled": false
   },
   "outputs": [],
   "source": [
    "all_data = pd.read_csv('./data/review_features.csv', low_memory=False)"
   ]
  },
  {
   "cell_type": "code",
   "execution_count": null,
   "metadata": {
    "scrolled": false
   },
   "outputs": [],
   "source": [
    "data = all_data.sample(20000, random_state=1234)\n",
    "cols_to_drop = ['access', 'amenities_', 'description', \\\n",
    "               'house_rules', 'id', 'host_verifications', 'last_review', 'last_scraped', \\\n",
    "               'market', 'neighborhood_overview', 'neighbourhood', 'neighbourhood_cleansed', \\\n",
    "               'neighbourhood_group_cleansed', 'notes', 'street', 'summary', 'transit', \\\n",
    "               'Unnamed: 0', 'first_review', 'calendar_last_scraped', 'calendar_updated', \n",
    "               'review_scores_accuracy', 'review_scores_checkin', 'review_scores_cleanliness', \\\n",
    "                'review_scores_communication', 'review_scores_location']\n",
    "data.loc[:, cols_to_drop]\n",
    "data = data.drop(cols_to_drop, axis=1)\n",
    "\n",
    "data = data.replace('f', 0)\n",
    "data = data.replace('t', 1)\n",
    "data = data.replace(r'[\\$,]','', regex=True)\n",
    "# data['review_scores_rating']\n",
    "\n",
    "\n",
    "# Get a list of non-numeric columns so we can drop them\n",
    "from collections import defaultdict\n",
    "\n",
    "non_numeric_columns = defaultdict(int)\n",
    "\n",
    "for d in data.values:\n",
    "    for k, v in zip(data.columns, d):\n",
    "        if 'Mission' == v:\n",
    "            print k, v\n",
    "        \n",
    "        try: \n",
    "            float(v)\n",
    "        except Exception as e:\n",
    "            non_numeric_columns[k] += 1\n",
    "\n",
    "print non_numeric_columns.keys()\n",
    "data = data.drop(non_numeric_columns.keys(), axis=1)"
   ]
  },
  {
   "cell_type": "code",
   "execution_count": null,
   "metadata": {},
   "outputs": [],
   "source": [
    "review_columns = defaultdict(int)\n",
    "for c in data.columns:\n",
    "    if 'review' in c:\n",
    "        review_columns[c] += 1\n",
    "review_columns.keys()"
   ]
  },
  {
   "cell_type": "code",
   "execution_count": null,
   "metadata": {},
   "outputs": [],
   "source": [
    "dependent_variable = 'review_scores_rating'"
   ]
  },
  {
   "cell_type": "code",
   "execution_count": null,
   "metadata": {},
   "outputs": [],
   "source": [
    "# Drop missing values from depedent variable\n",
    "data = data.dropna(subset=[dependent_variable])"
   ]
  },
  {
   "cell_type": "code",
   "execution_count": null,
   "metadata": {},
   "outputs": [],
   "source": [
    "y = data[dependent_variable]\n",
    "X = data.drop(review_columns.keys(), axis=1)"
   ]
  },
  {
   "cell_type": "code",
   "execution_count": null,
   "metadata": {},
   "outputs": [],
   "source": [
    "for c in X.columns:\n",
    "    if 'review' in c:\n",
    "        print c"
   ]
  },
  {
   "cell_type": "code",
   "execution_count": null,
   "metadata": {},
   "outputs": [],
   "source": [
    "from sklearn.model_selection import train_test_split\n",
    "\n",
    "\n",
    "X_train, X_test, y_train, y_test = train_test_split(X, \n",
    "                                                    y, \n",
    "                                                    test_size=0.33, \n",
    "                                                    random_state=1234)"
   ]
  },
  {
   "cell_type": "code",
   "execution_count": null,
   "metadata": {},
   "outputs": [],
   "source": [
    "import numpy as np\n",
    "from sklearn.preprocessing import Imputer\n",
    "imp = Imputer(missing_values=np.nan, strategy='median', axis=1)\n",
    "imp.fit(X_train)\n",
    "X_train = imp.transform(X_train)\n",
    "\n",
    "imp = Imputer(missing_values=np.nan, strategy='median', axis=1)\n",
    "imp.fit(X_test)\n",
    "X_test = imp.transform(X_test)"
   ]
  },
  {
   "cell_type": "code",
   "execution_count": null,
   "metadata": {},
   "outputs": [],
   "source": [
    "y_train = np.array(y_train).reshape(1, -1)\n",
    "imp = Imputer(missing_values=np.nan, strategy='median', axis=1)\n",
    "imp.fit(y_train)\n",
    "y_train = imp.transform(y_train)\n",
    "# y_train = y_train.reshape(-1, 1)\n",
    "y_train = y_train.ravel()\n",
    "\n",
    "y_test = np.array(y_test).reshape(1, -1)\n",
    "imp = Imputer(missing_values=np.nan, strategy='median', axis=1)\n",
    "imp.fit(y_test)\n",
    "y_test = imp.transform(y_test)\n",
    "# y_test = y_test.reshape(-1, 1)\n",
    "y_test = y_test.ravel()"
   ]
  },
  {
   "cell_type": "code",
   "execution_count": null,
   "metadata": {},
   "outputs": [],
   "source": [
    "print X_train.shape\n",
    "print y_train.ravel().shape"
   ]
  },
  {
   "cell_type": "code",
   "execution_count": null,
   "metadata": {
    "scrolled": true
   },
   "outputs": [],
   "source": [
    "import matplotlib.pyplot as plt\n",
    "import numpy as np\n",
    "from sklearn import datasets, linear_model\n",
    "from sklearn.metrics import mean_squared_error, r2_score, accuracy_score, make_scorer, roc_auc_score\n",
    "\n",
    "# Create linear regression object\n",
    "regr = linear_model.Lasso()\n",
    "\n",
    "# Train the model using the training sets\n",
    "regr.fit(X_train, y_train)\n",
    "\n",
    "# Make predictions using the testing set\n",
    "y_pred = map(lambda x: round(x, 0), regr.predict(X_test))\n",
    "\n",
    "# The mean squared error\n",
    "print(\"Mean squared error: %.2f\"\n",
    "      % mean_squared_error(y_test, y_pred))\n",
    "# Explained variance score: 1 is perfect prediction\n",
    "print('Variance score: %.2f' % r2_score(y_test, y_pred))\n"
   ]
  },
  {
   "cell_type": "code",
   "execution_count": null,
   "metadata": {},
   "outputs": [],
   "source": [
    "# MSE without dropping nan from predictor\n",
    "# Mean squared error: 47.72\n",
    "# Variance score: 0.08\n"
   ]
  },
  {
   "cell_type": "code",
   "execution_count": null,
   "metadata": {},
   "outputs": [],
   "source": [
    "for i, j in zip(y_test[:20], y_pred[:20]): print i, j"
   ]
  },
  {
   "cell_type": "code",
   "execution_count": null,
   "metadata": {},
   "outputs": [],
   "source": [
    "# With imputing by mean\n",
    "# Mean squared error: 18099081.99\n",
    "# Variance score: -371456.56"
   ]
  },
  {
   "cell_type": "code",
   "execution_count": null,
   "metadata": {},
   "outputs": [],
   "source": [
    "import matplotlib.pyplot as plt\n",
    "import numpy as np\n",
    "from sklearn import datasets, neural_network\n",
    "from sklearn.metrics import mean_squared_error, r2_score, accuracy_score, make_scorer, roc_auc_score\n",
    "\n",
    "# Create linear regression object\n",
    "nn = neural_network.MLPRegressor(alpha=0.7, warm_start=False, activation='logistic', \\\n",
    "                                learning_rate='invscaling', solver='sgd', max_iter=1000)\n",
    "\n",
    "# Train the model using the training sets\n",
    "nn.fit(X_train, y_train)\n",
    "\n",
    "# Make predictions using the testing set\n",
    "y_pred = map(lambda x: round(x, 0), nn.predict(X_test))\n",
    "\n",
    "# The mean squared error\n",
    "print(\"Mean squared error: %.2f\"\n",
    "      % mean_squared_error(y_test, y_pred))\n",
    "# Explained variance score: 1 is perfect prediction\n",
    "print('Variance score: %.2f' % r2_score(y_test, y_pred))\n"
   ]
  },
  {
   "cell_type": "code",
   "execution_count": null,
   "metadata": {},
   "outputs": [],
   "source": [
    "for i, j in zip(y_test[:20], y_pred[:20]): print i, j"
   ]
  }
 ],
 "metadata": {
  "kernelspec": {
   "display_name": "Python 2",
   "language": "python",
   "name": "python2"
  },
  "language_info": {
   "codemirror_mode": {
    "name": "ipython",
    "version": 2
   },
   "file_extension": ".py",
   "mimetype": "text/x-python",
   "name": "python",
   "nbconvert_exporter": "python",
   "pygments_lexer": "ipython2",
   "version": "2.7.14"
  }
 },
 "nbformat": 4,
 "nbformat_minor": 2
}
