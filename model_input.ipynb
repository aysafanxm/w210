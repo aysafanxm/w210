{
 "cells": [
  {
   "cell_type": "code",
   "execution_count": 1,
   "metadata": {},
   "outputs": [],
   "source": [
    "import pandas as pd"
   ]
  },
  {
   "cell_type": "markdown",
   "metadata": {},
   "source": [
    "# Read column names"
   ]
  },
  {
   "cell_type": "code",
   "execution_count": 31,
   "metadata": {},
   "outputs": [],
   "source": [
    "def init_column_names():\n",
    "    num_cols = pd.read_csv('./data/numeric_columns.csv')\n",
    "    num_cols = num_cols.iloc[:,1:].columns\n",
    "    # print num_cols\n",
    "    \n",
    "    cat_cols = pd.read_csv('./data/categorical_columns.csv')\n",
    "    cat_cols = cat_cols.iloc[:,1:].columns\n",
    "    # print cat_cols\n",
    "    \n",
    "    amen_cols = pd.read_csv('./data/amenities_columns.csv')\n",
    "    amen_cols = amen_cols.iloc[:,1:].columns\n",
    "    # print amen_cols\n",
    "    \n",
    "    return (num_cols, cat_cols, amen_cols)\n",
    "\n",
    "NCOLS, CCOLS, ACOLS = init_column_names()\n",
    "NCOLS = [v.strip() for v in NCOLS.values]\n",
    "CCOLS = [v.strip() for v in CCOLS.values]\n",
    "ACOLS = [v.strip() for v in ACOLS.values]"
   ]
  },
  {
   "cell_type": "code",
   "execution_count": 32,
   "metadata": {},
   "outputs": [
    {
     "name": "stdout",
     "output_type": "stream",
     "text": [
      "bathrooms\n",
      "bedrooms\n",
      "beds\n",
      "cleaning_fee\n",
      "guests_included\n",
      "host_listings_count\n",
      "host_acceptance_rate\n",
      "host_response_rate\n",
      "host_has_profile_pic\n",
      "host_identity_verified\n",
      "days_delta\n",
      "reviews_per_month\n"
     ]
    }
   ],
   "source": [
    "for c in NCOLS: print c"
   ]
  },
  {
   "cell_type": "code",
   "execution_count": 3,
   "metadata": {},
   "outputs": [],
   "source": [
    "# Get Min, Median, and Max for all columns and store them in a file"
   ]
  },
  {
   "cell_type": "raw",
   "metadata": {},
   "source": [
    "def store_col_stats(source_csv, output_csv, omit_col='Unnamed: 0'):\n",
    "    df = pd.read_csv(source_csv, index_col=0)\n",
    "    if omit_col:\n",
    "        df = df.drop([omit_col], axis=1)\n",
    "    df.describe().to_csv(output_csv)\n",
    "    \n",
    "    \n",
    "store_col_stats('./data/fin_num_train_deps.csv', './data/num_stats.csv', omit_col=None)\n",
    "store_col_stats('./data/fin_cat_train_deps.csv', './data/cat_stats.csv', omit_col=None)\n",
    "store_col_stats('./data/fin_amen_train_deps.csv', './data/amen_stats.csv', omit_col=None)"
   ]
  },
  {
   "cell_type": "code",
   "execution_count": 76,
   "metadata": {},
   "outputs": [],
   "source": [
    "def init_col_stats():\n",
    "    num_stats = pd.read_csv('./data/num_stats.csv', index_col=0)\n",
    "    cat_stats = pd.read_csv('./data/cat_stats.csv', index_col=0)  \n",
    "    amen_stats = pd.read_csv('./data/amen_stats.csv', index_col=0)\n",
    "    return num_stats, cat_stats, amen_stats"
   ]
  },
  {
   "cell_type": "code",
   "execution_count": 77,
   "metadata": {},
   "outputs": [],
   "source": [
    "NSTATS, CSTATS, ASTATS = init_col_stats()"
   ]
  },
  {
   "cell_type": "raw",
   "metadata": {},
   "source": [
    "# Create numeric interactions"
   ]
  },
  {
   "cell_type": "raw",
   "metadata": {},
   "source": [
    "def create_interaction(f1, f2, intyp):\n",
    "    if 'D' == intype:\n",
    "        return f1 / f2\n",
    "    if 'A' == intype:\n",
    "        return f1 + f2\n",
    "    if 'S' == intype:\n",
    "        return f1 - f2\n",
    "    \n",
    "    # Mulitply the features by default\n",
    "    return f1 * f2\n",
    "\n",
    "def get_interacted_dataset(ds, interactions_dict, drop=False):\n",
    "    col_names = []\n",
    "    for k, v in interactions_dict.items():\n",
    "        colname = k+'_by_'+v[0]\n",
    "        ds[colname] = ds[k] * ds[v[0]]\n",
    "        col_names.append(colname)\n",
    "        \n",
    "    if drop:\n",
    "        for k in interactions_dict.keys():\n",
    "            ds = ds.drop(k, axis=1)\n",
    "    \n",
    "    return col_names, ds\n",
    "\n",
    "\n",
    "inter_dct = {\n",
    "    'bedrooms': ('bathrooms', 'M'), \n",
    "    'bedrooms': ('beds', 'M'), \n",
    "    'beds': ('guests_included', 'M'), \n",
    "    'bathrooms': ('guests_included', 'M'), \n",
    "    'cleaning_fee': ('guests_included', 'D'), \n",
    "    'host_acceptance_rate': ('host_response_rate', 'D')\n",
    "}\n",
    "\n",
    "\n",
    "# col_names, data = get_interacted_dataset(data, inter_dct, drop=False)"
   ]
  },
  {
   "cell_type": "markdown",
   "metadata": {},
   "source": [
    "# Read Sample input data"
   ]
  },
  {
   "cell_type": "code",
   "execution_count": 117,
   "metadata": {},
   "outputs": [],
   "source": [
    "si = pd.read_csv('./data/sample_input.csv', encoding='utf8', dtype=float)"
   ]
  },
  {
   "cell_type": "code",
   "execution_count": 116,
   "metadata": {},
   "outputs": [],
   "source": [
    "# si_cols = [v.strip() for v in si.columns]\n",
    "# si = pd.DataFrame(si, columns=si_cols)"
   ]
  },
  {
   "cell_type": "code",
   "execution_count": 118,
   "metadata": {
    "scrolled": true
   },
   "outputs": [],
   "source": [
    "def get_col_value(colname, input_df, stats):\n",
    "        res = None\n",
    "        if colname in input_df.columns:\n",
    "            res = input_df[colname]\n",
    "        else:\n",
    "            res = stats.loc['50%', colname]\n",
    "        return res\n",
    "\n",
    "def reformulate_input(inp):\n",
    "    num = pd.DataFrame(columns=NCOLS)\n",
    "    cat = pd.DataFrame(columns=CCOLS)\n",
    "    amen = pd.DataFrame(columns=ACOLS)\n",
    "    \n",
    "    for c in NCOLS:\n",
    "        num[c] = get_col_value(c, inp, NSTATS)\n",
    "    num = normalize_numeric(n)\n",
    "    \n",
    "    for c in CCOLS:\n",
    "        cat[c] = get_col_value(c, inp, CSTATS)\n",
    "    \n",
    "    for c in ACOLS:\n",
    "        amen[c] = get_col_value(c, inp, ASTATS)\n",
    "        \n",
    "    return pd.concat([num, cat, amen], axis=1)\n",
    "\n",
    "def normalize_numeric(df):\n",
    "    outdf = pd.DataFrame(columns=df.columns)\n",
    "    \n",
    "    for c in df.columns:\n",
    "        outdf[c] = (df[c] - 1. * NSTATS.loc['min', c]) / (NSTATS.loc['max', c] - NSTATS.loc['min', c])\n",
    "    \n",
    "    return outdf\n",
    "\n"
   ]
  },
  {
   "cell_type": "code",
   "execution_count": 120,
   "metadata": {},
   "outputs": [
    {
     "data": {
      "text/html": [
       "<div>\n",
       "<style scoped>\n",
       "    .dataframe tbody tr th:only-of-type {\n",
       "        vertical-align: middle;\n",
       "    }\n",
       "\n",
       "    .dataframe tbody tr th {\n",
       "        vertical-align: top;\n",
       "    }\n",
       "\n",
       "    .dataframe thead th {\n",
       "        text-align: right;\n",
       "    }\n",
       "</style>\n",
       "<table border=\"1\" class=\"dataframe\">\n",
       "  <thead>\n",
       "    <tr style=\"text-align: right;\">\n",
       "      <th></th>\n",
       "      <th>bathrooms</th>\n",
       "      <th>bedrooms</th>\n",
       "      <th>beds</th>\n",
       "      <th>cleaning_fee</th>\n",
       "      <th>guests_included</th>\n",
       "      <th>host_listings_count</th>\n",
       "      <th>host_acceptance_rate</th>\n",
       "      <th>host_response_rate</th>\n",
       "      <th>host_has_profile_pic</th>\n",
       "      <th>host_identity_verified</th>\n",
       "      <th>...</th>\n",
       "      <th>amenities_smartlock</th>\n",
       "      <th>amenities_smokedetector</th>\n",
       "      <th>amenities_smokingallowed</th>\n",
       "      <th>amenities_suitableforevents</th>\n",
       "      <th>amenities_translationmissingenhostingamenity</th>\n",
       "      <th>amenities_tv</th>\n",
       "      <th>amenities_washer</th>\n",
       "      <th>amenities_wheelchairaccessible</th>\n",
       "      <th>amenities_wifi</th>\n",
       "      <th>amenities_wirelessinternet</th>\n",
       "    </tr>\n",
       "  </thead>\n",
       "  <tbody>\n",
       "    <tr>\n",
       "      <th>0</th>\n",
       "      <td>1.5</td>\n",
       "      <td>2.0</td>\n",
       "      <td>2.0</td>\n",
       "      <td>200.0</td>\n",
       "      <td>0.0</td>\n",
       "      <td>0.0</td>\n",
       "      <td>1.0</td>\n",
       "      <td>1.0</td>\n",
       "      <td>1.0</td>\n",
       "      <td>1.0</td>\n",
       "      <td>...</td>\n",
       "      <td>0.0</td>\n",
       "      <td>1.0</td>\n",
       "      <td>0.0</td>\n",
       "      <td>0.0</td>\n",
       "      <td>0.0</td>\n",
       "      <td>0.0</td>\n",
       "      <td>0.0</td>\n",
       "      <td>0.0</td>\n",
       "      <td>0.0</td>\n",
       "      <td>1.0</td>\n",
       "    </tr>\n",
       "  </tbody>\n",
       "</table>\n",
       "<p>1 rows × 195 columns</p>\n",
       "</div>"
      ],
      "text/plain": [
       "   bathrooms  bedrooms  beds  cleaning_fee  guests_included  \\\n",
       "0        1.5       2.0   2.0         200.0              0.0   \n",
       "\n",
       "   host_listings_count  host_acceptance_rate  host_response_rate  \\\n",
       "0                  0.0                   1.0                 1.0   \n",
       "\n",
       "   host_has_profile_pic  host_identity_verified             ...              \\\n",
       "0                   1.0                     1.0             ...               \n",
       "\n",
       "   amenities_smartlock  amenities_smokedetector  amenities_smokingallowed  \\\n",
       "0                  0.0                      1.0                       0.0   \n",
       "\n",
       "   amenities_suitableforevents  amenities_translationmissingenhostingamenity  \\\n",
       "0                          0.0                                           0.0   \n",
       "\n",
       "   amenities_tv  amenities_washer  amenities_wheelchairaccessible  \\\n",
       "0           0.0               0.0                             0.0   \n",
       "\n",
       "   amenities_wifi  amenities_wirelessinternet  \n",
       "0             0.0                         1.0  \n",
       "\n",
       "[1 rows x 195 columns]"
      ]
     },
     "execution_count": 120,
     "metadata": {},
     "output_type": "execute_result"
    }
   ],
   "source": [
    "rsi = reformulate_input(si)\n",
    "rsi"
   ]
  },
  {
   "cell_type": "code",
   "execution_count": 107,
   "metadata": {},
   "outputs": [],
   "source": []
  }
 ],
 "metadata": {
  "kernelspec": {
   "display_name": "Python 2",
   "language": "python",
   "name": "python2"
  },
  "language_info": {
   "codemirror_mode": {
    "name": "ipython",
    "version": 2
   },
   "file_extension": ".py",
   "mimetype": "text/x-python",
   "name": "python",
   "nbconvert_exporter": "python",
   "pygments_lexer": "ipython2",
   "version": "2.7.14"
  }
 },
 "nbformat": 4,
 "nbformat_minor": 2
}
