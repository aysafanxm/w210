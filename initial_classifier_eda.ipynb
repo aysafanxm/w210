{
 "cells": [
  {
   "cell_type": "code",
   "execution_count": 1,
   "metadata": {},
   "outputs": [],
   "source": [
    "# import numpy as np\n",
    "# from sklearn.preprocessing import Imputer\n",
    "\n",
    "# ratings = data['review_scores_rating']\n",
    "# imp = Imputer(missing_values=np.nan, strategy='mean', axis=1)\n",
    "# ratings = np.array(ratings).reshape(1, -1)\n",
    "# imp.fit(ratings)\n",
    "# ratings = imp.transform(ratings)\n",
    "# ratings.shape\n",
    "# sample_idxs = np.random.randint(ratings.shape[1], size=1000)\n",
    "# sample_idxs\n",
    "# np.take(ratings, sample_idxs)"
   ]
  },
  {
   "cell_type": "code",
   "execution_count": 2,
   "metadata": {},
   "outputs": [],
   "source": [
    "# import math\n",
    "# import matplotlib.pyplot as plt\n",
    "# plt.hist(np.take(ratings, sample_idxs))\n",
    "# len(data.columns)\n",
    "# len(data.sample(1).values[0])\n",
    "# for k, v in zip(data.columns, data.sample(1).values[0]): print k + ': ' + str(v)"
   ]
  },
  {
   "cell_type": "code",
   "execution_count": 3,
   "metadata": {},
   "outputs": [],
   "source": [
    "import pandas as pd"
   ]
  },
  {
   "cell_type": "code",
   "execution_count": 4,
   "metadata": {
    "scrolled": false
   },
   "outputs": [],
   "source": [
    "all_data = pd.read_csv('./data/review_features.csv', low_memory=False)"
   ]
  },
  {
   "cell_type": "code",
   "execution_count": 118,
   "metadata": {
    "scrolled": false
   },
   "outputs": [
    {
     "name": "stdout",
     "output_type": "stream",
     "text": [
      "['interaction', 'name', 'license', 'space', 'cancellation_policy', 'host_response_time', 'host_since', 'host_neighbourhood', 'host_response_rate', 'host_name', 'host_about', 'property_type', 'host_location', 'host_acceptance_rate']\n"
     ]
    }
   ],
   "source": [
    "data = all_data.sample(1000, random_state=1234)\n",
    "cols_to_drop = ['access', 'amenities_', 'description', \\\n",
    "               'house_rules', 'id', 'host_verifications', 'last_review', 'last_scraped', \\\n",
    "               'market', 'neighborhood_overview', 'neighbourhood', 'neighbourhood_cleansed', \\\n",
    "               'neighbourhood_group_cleansed', 'notes', 'street', 'summary', 'transit', \\\n",
    "               'Unnamed: 0', 'first_review', 'calendar_last_scraped', 'calendar_updated', \n",
    "               'review_scores_accuracy', 'review_scores_checkin', 'review_scores_cleanliness', \\\n",
    "                'review_scores_communication', 'review_scores_location']\n",
    "data.loc[:, cols_to_drop]\n",
    "data = data.drop(cols_to_drop, axis=1)\n",
    "\n",
    "data = data.replace('f', 0)\n",
    "data = data.replace('t', 1)\n",
    "data = data.replace(r'[\\$,]','', regex=True)\n",
    "# data['review_scores_rating']\n",
    "\n",
    "\n",
    "# Get a list of non-numeric columns so we can drop them\n",
    "from collections import defaultdict\n",
    "\n",
    "non_numeric_columns = defaultdict(int)\n",
    "\n",
    "for d in data.values:\n",
    "    for k, v in zip(data.columns, d):\n",
    "        if 'Mission' == v:\n",
    "            print k, v\n",
    "        \n",
    "        try: \n",
    "            float(v)\n",
    "        except Exception as e:\n",
    "            non_numeric_columns[k] += 1\n",
    "\n",
    "print non_numeric_columns.keys()\n",
    "# data = data.drop(non_numeric_columns.keys(), axis=1)"
   ]
  },
  {
   "cell_type": "code",
   "execution_count": 119,
   "metadata": {},
   "outputs": [],
   "source": [
    "dependent_variable = 'review_scores_rating'"
   ]
  },
  {
   "cell_type": "code",
   "execution_count": 120,
   "metadata": {},
   "outputs": [],
   "source": [
    "# Drop missing values from depedent variable\n",
    "data = data.dropna(subset=[dependent_variable])\n",
    "y = data[dependent_variable]"
   ]
  },
  {
   "cell_type": "code",
   "execution_count": 121,
   "metadata": {},
   "outputs": [],
   "source": [
    "# Test for collinearity\n",
    "\n",
    "collinear = data.corr()\n",
    "s = collinear.unstack()\n",
    "so = s.sort_values(kind='quicksort')\n",
    "so.to_csv('collinearity_values.csv')"
   ]
  },
  {
   "cell_type": "code",
   "execution_count": 122,
   "metadata": {
    "scrolled": false
   },
   "outputs": [],
   "source": [
    "# so[-1*(len(so)):-1*(len(so)-100)]"
   ]
  },
  {
   "cell_type": "code",
   "execution_count": 123,
   "metadata": {
    "scrolled": false
   },
   "outputs": [],
   "source": [
    "# read most correlated columns from csv, and drop them\n",
    "\n",
    "corr_cols_to_drop = pd.read_csv('./correlated_columns.csv', encoding='utf8').values.reshape(1,-1).tolist()[0]"
   ]
  },
  {
   "cell_type": "code",
   "execution_count": 124,
   "metadata": {},
   "outputs": [
    {
     "data": {
      "text/plain": [
       "['reviews_per_month',\n",
       " 'number_of_reviews',\n",
       " 'review_scores_value',\n",
       " 'review_scores_rating']"
      ]
     },
     "execution_count": 124,
     "metadata": {},
     "output_type": "execute_result"
    }
   ],
   "source": [
    "# drop review_ related columns\n",
    "review_columns = defaultdict(int)\n",
    "for c in data.columns:\n",
    "    if 'review' in c:\n",
    "        review_columns[c] += 1\n",
    "review_columns.keys()"
   ]
  },
  {
   "cell_type": "code",
   "execution_count": 125,
   "metadata": {},
   "outputs": [],
   "source": [
    "# Drop zipcode, longitude, latitude and such\n",
    "others = ['zipcode', 'latitude', 'longitude']"
   ]
  },
  {
   "cell_type": "code",
   "execution_count": 126,
   "metadata": {},
   "outputs": [],
   "source": [
    "cols_to_drop = set(review_columns.keys()).union(non_numeric_columns.keys()).union(corr_cols_to_drop).union(others)\n",
    "# cols_to_drop"
   ]
  },
  {
   "cell_type": "code",
   "execution_count": 127,
   "metadata": {},
   "outputs": [],
   "source": [
    "X = data.drop(cols_to_drop, axis=1)"
   ]
  },
  {
   "cell_type": "code",
   "execution_count": 128,
   "metadata": {},
   "outputs": [],
   "source": [
    "for c in X.columns:\n",
    "    if 'review' in c:\n",
    "        print c"
   ]
  },
  {
   "cell_type": "code",
   "execution_count": 129,
   "metadata": {},
   "outputs": [
    {
     "name": "stdout",
     "output_type": "stream",
     "text": [
      "(782, 168)\n",
      "(782,)\n"
     ]
    }
   ],
   "source": [
    "import numpy as np\n",
    "from sklearn.preprocessing import Imputer\n",
    "\n",
    "\n",
    "imp = Imputer(missing_values=np.nan, strategy='median', axis=1)\n",
    "imp.fit(X)\n",
    "X = imp.transform(X)\n",
    "\n",
    "imp = Imputer(missing_values=np.nan, strategy='median', axis=1)\n",
    "imp.fit(y)\n",
    "y = imp.transform(y.values.reshape(-1,1))\n",
    "y = y.ravel()\n",
    "\n",
    "print X.shape\n",
    "print y.shape\n",
    "\n",
    "# imp.fit(X_train)\n",
    "# X_train = imp.transform(X_train)\n",
    "\n",
    "# imp = Imputer(missing_values=np.nan, strategy='median', axis=1)\n",
    "# imp.fit(X_test)\n",
    "# X_test = imp.transform(X_test)\n",
    "\n",
    "\n",
    "# y_train = np.array(y_train).reshape(1, -1)\n",
    "# imp = Imputer(missing_values=np.nan, strategy='median', axis=1)\n",
    "# imp.fit(y_train)\n",
    "# y_train = imp.transform(y_train)\n",
    "# y_train = y_train.reshape(-1, 1)\n",
    "# y_train = y_train.ravel()\n",
    "\n",
    "# y_test = np.array(y_test).reshape(1, -1)\n",
    "# imp = Imputer(missing_values=np.nan, strategy='median', axis=1)\n",
    "# imp.fit(y_test)\n",
    "# y_test = imp.transform(y_test)\n",
    "# y_test = y_test.reshape(-1, 1)\n",
    "# y_test = y_test.ravel()\n",
    "\n",
    "# print X_train.shape\n",
    "# print y_train.ravel().shape"
   ]
  },
  {
   "cell_type": "code",
   "execution_count": 130,
   "metadata": {},
   "outputs": [],
   "source": [
    "# Scale the dependent variables\n",
    "from sklearn.preprocessing import StandardScaler\n",
    "\n",
    "scaler = StandardScaler(copy=True, with_mean=True, with_std=True)\n",
    "scaler.fit(X)\n",
    "X = scaler.transform(X)\n",
    "\n",
    "scaler = StandardScaler(copy=True, with_mean=True, with_std=True)\n",
    "scaler.fit(y.reshape(-1,1))\n",
    "y = scaler.transform(y.reshape(-1,1))\n",
    "y = y.ravel()"
   ]
  },
  {
   "cell_type": "code",
   "execution_count": 131,
   "metadata": {},
   "outputs": [
    {
     "name": "stdout",
     "output_type": "stream",
     "text": [
      "(782, 168)\n",
      "(782,)\n"
     ]
    }
   ],
   "source": [
    "print X.shape\n",
    "print y.shape"
   ]
  },
  {
   "cell_type": "code",
   "execution_count": 133,
   "metadata": {},
   "outputs": [],
   "source": [
    "# Try PCA\n",
    "from sklearn.decomposition import PCA, KernelPCA\n",
    "\n",
    "pca = PCA(n_components=10)\n",
    "X = pca.fit_transform(X)\n"
   ]
  },
  {
   "cell_type": "code",
   "execution_count": 134,
   "metadata": {},
   "outputs": [
    {
     "name": "stdout",
     "output_type": "stream",
     "text": [
      "(782, 10)\n",
      "(782,)\n"
     ]
    }
   ],
   "source": [
    "print X.shape\n",
    "print y.shape"
   ]
  },
  {
   "cell_type": "code",
   "execution_count": 113,
   "metadata": {},
   "outputs": [
    {
     "name": "stdout",
     "output_type": "stream",
     "text": [
      "(782, 781)\n",
      "(782,)\n"
     ]
    }
   ],
   "source": [
    "# Try KernelPCA\n",
    "\n",
    "kcpa = KernelPCA(kernel='rbf', fit_inverse_transform=True, gamma=10)\n",
    "X = kcpa.fit_transform(X)\n",
    "\n",
    "print X.shape\n",
    "print y.shape"
   ]
  },
  {
   "cell_type": "code",
   "execution_count": 78,
   "metadata": {},
   "outputs": [],
   "source": [
    "# from sklearn.preprocessing import PolynomialFeatures\n",
    "\n",
    "# poly = PolynomialFeatures(degree=2)\n",
    "\n",
    "# X = poly.fit_transform(X)"
   ]
  },
  {
   "cell_type": "code",
   "execution_count": 135,
   "metadata": {},
   "outputs": [],
   "source": [
    "from sklearn.model_selection import train_test_split\n",
    "\n",
    "\n",
    "X_train, X_test, y_train, y_test = train_test_split(X, \n",
    "                                                    y, \n",
    "                                                    test_size=0.33, \n",
    "                                                    random_state=1234)"
   ]
  },
  {
   "cell_type": "code",
   "execution_count": 136,
   "metadata": {
    "scrolled": true
   },
   "outputs": [
    {
     "name": "stdout",
     "output_type": "stream",
     "text": [
      "Mean squared error: 0.86\n",
      "Variance score: 0.00\n"
     ]
    },
    {
     "data": {
      "image/png": "[encoded data removed]",
      "text/plain": [
       "<Figure size 432x288 with 1 Axes>"
      ]
     },
     "metadata": {},
     "output_type": "display_data"
    }
   ],
   "source": [
    "import matplotlib.pyplot as plt\n",
    "import numpy as np\n",
    "from sklearn import datasets, linear_model\n",
    "from sklearn.metrics import mean_squared_error, r2_score, accuracy_score, make_scorer, roc_auc_score\n",
    "\n",
    "# Create linear regression object\n",
    "regr = linear_model.Lasso(alpha=0.01, fit_intercept=True, max_iter=1000, tol=0.1)\n",
    "\n",
    "# Train the model using the training sets\n",
    "regr.fit(X_train, y_train)\n",
    "\n",
    "y_train_pred = regr.predict(X_train)\n",
    "\n",
    "# Make predictions using the testing set\n",
    "y_pred = regr.predict(X_test)\n",
    "\n",
    "# The mean squared error\n",
    "print(\"Mean squared error: %.2f\"\n",
    "      % mean_squared_error(y_test, y_pred))\n",
    "# Explained variance score: 1 is perfect prediction\n",
    "print('Variance score: %.2f' % r2_score(y_test, y_pred))\n",
    "\n",
    "# Plot the residuals\n",
    "plt.scatter(y_train, y_train-y_train_pred, c='b', marker='o', alpha=0.5)\n",
    "plt.scatter(y_test, y_test-y_pred, c='g', marker='s', alpha=0.5)\n",
    "plt.hlines(y=0, xmin=-10, xmax=10, color='r')\n",
    "plt.show()"
   ]
  },
  {
   "cell_type": "code",
   "execution_count": 137,
   "metadata": {},
   "outputs": [
    {
     "name": "stdout",
     "output_type": "stream",
     "text": [
      "-8.790357954693961\n",
      "0.6777181040790532\n"
     ]
    }
   ],
   "source": [
    "print np.min(y_test)\n",
    "print np.max(y_test)"
   ]
  },
  {
   "cell_type": "code",
   "execution_count": 138,
   "metadata": {},
   "outputs": [
    {
     "name": "stdout",
     "output_type": "stream",
     "text": [
      "-0.9681300583724011\n",
      "1.8678057720186345\n"
     ]
    }
   ],
   "source": [
    "print np.min(y_pred)\n",
    "print np.max(y_pred)"
   ]
  },
  {
   "cell_type": "code",
   "execution_count": null,
   "metadata": {},
   "outputs": [],
   "source": [
    "# MSE without dropping nan from predictor\n",
    "# Mean squared error: 47.72\n",
    "# Variance score: 0.08\n"
   ]
  },
  {
   "cell_type": "code",
   "execution_count": 139,
   "metadata": {
    "scrolled": false
   },
   "outputs": [
    {
     "name": "stdout",
     "output_type": "stream",
     "text": [
      "Mean squared error: 0.87\n",
      "Variance score: -0.00\n"
     ]
    },
    {
     "data": {
      "image/png": "[encoded data removed]",
      "text/plain": [
       "<Figure size 432x288 with 1 Axes>"
      ]
     },
     "metadata": {},
     "output_type": "display_data"
    }
   ],
   "source": [
    "import math\n",
    "\n",
    "# Create linear regression object\n",
    "regr = linear_model.ElasticNet(normalize=True, alpha=0.05, fit_intercept=True)\n",
    "\n",
    "y_traint = y_train\n",
    "y_testt = y_test\n",
    "\n",
    "# Train the model using the training sets\n",
    "regr.fit(X_train, y_traint)\n",
    "\n",
    "\n",
    "\n",
    "y_train_pred = map(lambda x: round(x, 8), regr.predict(X_train))\n",
    "\n",
    "# Make predictions using the testing set\n",
    "y_pred = map(lambda x: round(x, 8), regr.predict(X_test))\n",
    "\n",
    "# The mean squared error\n",
    "print(\"Mean squared error: %.2f\"\n",
    "      % mean_squared_error(y_testt, y_pred))\n",
    "# Explained variance score: 1 is perfect prediction\n",
    "print('Variance score: %.2f' % r2_score(y_testt, y_pred))\n",
    "\n",
    "# Plot the residuals\n",
    "plt.scatter(y_traint, y_traint-y_train_pred, c='b', marker='o', alpha=0.5)\n",
    "plt.scatter(y_testt, y_testt-y_pred, c='g', marker='s', alpha=0.5)\n",
    "plt.hlines(y=0, xmin=0, xmax=10, color='r')\n",
    "plt.show()"
   ]
  },
  {
   "cell_type": "code",
   "execution_count": 140,
   "metadata": {},
   "outputs": [
    {
     "name": "stdout",
     "output_type": "stream",
     "text": [
      "-8.790357954693961\n",
      "0.6777181040790532\n"
     ]
    }
   ],
   "source": [
    "print np.min(y_test)\n",
    "print np.max(y_test)"
   ]
  },
  {
   "cell_type": "code",
   "execution_count": 141,
   "metadata": {},
   "outputs": [
    {
     "name": "stdout",
     "output_type": "stream",
     "text": [
      "-8.790357954693961\n",
      "0.6777181040790532\n"
     ]
    }
   ],
   "source": [
    "print np.min(y_train)\n",
    "print np.max(y_train)"
   ]
  },
  {
   "cell_type": "code",
   "execution_count": 142,
   "metadata": {},
   "outputs": [
    {
     "name": "stderr",
     "output_type": "stream",
     "text": [
      "/Users/jhabib/miniconda2/lib/python2.7/site-packages/sklearn/linear_model/base.py:221: RuntimeWarning: invalid value encountered in sqrt\n",
      "  sample_weight = np.sqrt(sample_weight)\n"
     ]
    },
    {
     "ename": "ValueError",
     "evalue": "array must not contain infs or NaNs",
     "output_type": "error",
     "traceback": [
      "\u001b[0;31m---------------------------------------------------------------------------\u001b[0m",
      "\u001b[0;31mValueError\u001b[0m                                Traceback (most recent call last)",
      "\u001b[0;32m<ipython-input-142-08dc4022ecc3>\u001b[0m in \u001b[0;36m<module>\u001b[0;34m()\u001b[0m\n\u001b[1;32m     20\u001b[0m \u001b[0;34m\u001b[0m\u001b[0m\n\u001b[1;32m     21\u001b[0m \u001b[0;31m# Train the model using the training sets\u001b[0m\u001b[0;34m\u001b[0m\u001b[0;34m\u001b[0m\u001b[0m\n\u001b[0;32m---> 22\u001b[0;31m \u001b[0mregr\u001b[0m\u001b[0;34m.\u001b[0m\u001b[0mfit\u001b[0m\u001b[0;34m(\u001b[0m\u001b[0mX_train\u001b[0m\u001b[0;34m,\u001b[0m \u001b[0my_traint\u001b[0m\u001b[0;34m,\u001b[0m \u001b[0msample_weight\u001b[0m\u001b[0;34m=\u001b[0m\u001b[0my_traint_weights\u001b[0m\u001b[0;34m)\u001b[0m\u001b[0;34m\u001b[0m\u001b[0m\n\u001b[0m\u001b[1;32m     23\u001b[0m \u001b[0;34m\u001b[0m\u001b[0m\n\u001b[1;32m     24\u001b[0m \u001b[0;34m\u001b[0m\u001b[0m\n",
      "\u001b[0;32m/Users/jhabib/miniconda2/lib/python2.7/site-packages/sklearn/linear_model/base.pyc\u001b[0m in \u001b[0;36mfit\u001b[0;34m(self, X, y, sample_weight)\u001b[0m\n\u001b[1;32m    507\u001b[0m         \u001b[0;32melse\u001b[0m\u001b[0;34m:\u001b[0m\u001b[0;34m\u001b[0m\u001b[0m\n\u001b[1;32m    508\u001b[0m             \u001b[0mself\u001b[0m\u001b[0;34m.\u001b[0m\u001b[0mcoef_\u001b[0m\u001b[0;34m,\u001b[0m \u001b[0mself\u001b[0m\u001b[0;34m.\u001b[0m\u001b[0m_residues\u001b[0m\u001b[0;34m,\u001b[0m \u001b[0mself\u001b[0m\u001b[0;34m.\u001b[0m\u001b[0mrank_\u001b[0m\u001b[0;34m,\u001b[0m \u001b[0mself\u001b[0m\u001b[0;34m.\u001b[0m\u001b[0msingular_\u001b[0m \u001b[0;34m=\u001b[0m\u001b[0;31m \u001b[0m\u001b[0;31m\\\u001b[0m\u001b[0;34m\u001b[0m\u001b[0m\n\u001b[0;32m--> 509\u001b[0;31m                 \u001b[0mlinalg\u001b[0m\u001b[0;34m.\u001b[0m\u001b[0mlstsq\u001b[0m\u001b[0;34m(\u001b[0m\u001b[0mX\u001b[0m\u001b[0;34m,\u001b[0m \u001b[0my\u001b[0m\u001b[0;34m)\u001b[0m\u001b[0;34m\u001b[0m\u001b[0m\n\u001b[0m\u001b[1;32m    510\u001b[0m             \u001b[0mself\u001b[0m\u001b[0;34m.\u001b[0m\u001b[0mcoef_\u001b[0m \u001b[0;34m=\u001b[0m \u001b[0mself\u001b[0m\u001b[0;34m.\u001b[0m\u001b[0mcoef_\u001b[0m\u001b[0;34m.\u001b[0m\u001b[0mT\u001b[0m\u001b[0;34m\u001b[0m\u001b[0m\n\u001b[1;32m    511\u001b[0m \u001b[0;34m\u001b[0m\u001b[0m\n",
      "\u001b[0;32m/Users/jhabib/miniconda2/lib/python2.7/site-packages/scipy/linalg/basic.pyc\u001b[0m in \u001b[0;36mlstsq\u001b[0;34m(a, b, cond, overwrite_a, overwrite_b, check_finite, lapack_driver)\u001b[0m\n\u001b[1;32m   1153\u001b[0m \u001b[0;34m\u001b[0m\u001b[0m\n\u001b[1;32m   1154\u001b[0m     \"\"\"\n\u001b[0;32m-> 1155\u001b[0;31m     \u001b[0ma1\u001b[0m \u001b[0;34m=\u001b[0m \u001b[0m_asarray_validated\u001b[0m\u001b[0;34m(\u001b[0m\u001b[0ma\u001b[0m\u001b[0;34m,\u001b[0m \u001b[0mcheck_finite\u001b[0m\u001b[0;34m=\u001b[0m\u001b[0mcheck_finite\u001b[0m\u001b[0;34m)\u001b[0m\u001b[0;34m\u001b[0m\u001b[0m\n\u001b[0m\u001b[1;32m   1156\u001b[0m     \u001b[0mb1\u001b[0m \u001b[0;34m=\u001b[0m \u001b[0m_asarray_validated\u001b[0m\u001b[0;34m(\u001b[0m\u001b[0mb\u001b[0m\u001b[0;34m,\u001b[0m \u001b[0mcheck_finite\u001b[0m\u001b[0;34m=\u001b[0m\u001b[0mcheck_finite\u001b[0m\u001b[0;34m)\u001b[0m\u001b[0;34m\u001b[0m\u001b[0m\n\u001b[1;32m   1157\u001b[0m     \u001b[0;32mif\u001b[0m \u001b[0mlen\u001b[0m\u001b[0;34m(\u001b[0m\u001b[0ma1\u001b[0m\u001b[0;34m.\u001b[0m\u001b[0mshape\u001b[0m\u001b[0;34m)\u001b[0m \u001b[0;34m!=\u001b[0m \u001b[0;36m2\u001b[0m\u001b[0;34m:\u001b[0m\u001b[0;34m\u001b[0m\u001b[0m\n",
      "\u001b[0;32m/Users/jhabib/miniconda2/lib/python2.7/site-packages/scipy/_lib/_util.pyc\u001b[0m in \u001b[0;36m_asarray_validated\u001b[0;34m(a, check_finite, sparse_ok, objects_ok, mask_ok, as_inexact)\u001b[0m\n\u001b[1;32m    236\u001b[0m             \u001b[0;32mraise\u001b[0m \u001b[0mValueError\u001b[0m\u001b[0;34m(\u001b[0m\u001b[0;34m'masked arrays are not supported'\u001b[0m\u001b[0;34m)\u001b[0m\u001b[0;34m\u001b[0m\u001b[0m\n\u001b[1;32m    237\u001b[0m     \u001b[0mtoarray\u001b[0m \u001b[0;34m=\u001b[0m \u001b[0mnp\u001b[0m\u001b[0;34m.\u001b[0m\u001b[0masarray_chkfinite\u001b[0m \u001b[0;32mif\u001b[0m \u001b[0mcheck_finite\u001b[0m \u001b[0;32melse\u001b[0m \u001b[0mnp\u001b[0m\u001b[0;34m.\u001b[0m\u001b[0masarray\u001b[0m\u001b[0;34m\u001b[0m\u001b[0m\n\u001b[0;32m--> 238\u001b[0;31m     \u001b[0ma\u001b[0m \u001b[0;34m=\u001b[0m \u001b[0mtoarray\u001b[0m\u001b[0;34m(\u001b[0m\u001b[0ma\u001b[0m\u001b[0;34m)\u001b[0m\u001b[0;34m\u001b[0m\u001b[0m\n\u001b[0m\u001b[1;32m    239\u001b[0m     \u001b[0;32mif\u001b[0m \u001b[0;32mnot\u001b[0m \u001b[0mobjects_ok\u001b[0m\u001b[0;34m:\u001b[0m\u001b[0;34m\u001b[0m\u001b[0m\n\u001b[1;32m    240\u001b[0m         \u001b[0;32mif\u001b[0m \u001b[0ma\u001b[0m\u001b[0;34m.\u001b[0m\u001b[0mdtype\u001b[0m \u001b[0;32mis\u001b[0m \u001b[0mnp\u001b[0m\u001b[0;34m.\u001b[0m\u001b[0mdtype\u001b[0m\u001b[0;34m(\u001b[0m\u001b[0;34m'O'\u001b[0m\u001b[0;34m)\u001b[0m\u001b[0;34m:\u001b[0m\u001b[0;34m\u001b[0m\u001b[0m\n",
      "\u001b[0;32m/Users/jhabib/miniconda2/lib/python2.7/site-packages/numpy/lib/function_base.pyc\u001b[0m in \u001b[0;36masarray_chkfinite\u001b[0;34m(a, dtype, order)\u001b[0m\n\u001b[1;32m   1231\u001b[0m     \u001b[0;32mif\u001b[0m \u001b[0ma\u001b[0m\u001b[0;34m.\u001b[0m\u001b[0mdtype\u001b[0m\u001b[0;34m.\u001b[0m\u001b[0mchar\u001b[0m \u001b[0;32min\u001b[0m \u001b[0mtypecodes\u001b[0m\u001b[0;34m[\u001b[0m\u001b[0;34m'AllFloat'\u001b[0m\u001b[0;34m]\u001b[0m \u001b[0;32mand\u001b[0m \u001b[0;32mnot\u001b[0m \u001b[0mnp\u001b[0m\u001b[0;34m.\u001b[0m\u001b[0misfinite\u001b[0m\u001b[0;34m(\u001b[0m\u001b[0ma\u001b[0m\u001b[0;34m)\u001b[0m\u001b[0;34m.\u001b[0m\u001b[0mall\u001b[0m\u001b[0;34m(\u001b[0m\u001b[0;34m)\u001b[0m\u001b[0;34m:\u001b[0m\u001b[0;34m\u001b[0m\u001b[0m\n\u001b[1;32m   1232\u001b[0m         raise ValueError(\n\u001b[0;32m-> 1233\u001b[0;31m             \"array must not contain infs or NaNs\")\n\u001b[0m\u001b[1;32m   1234\u001b[0m     \u001b[0;32mreturn\u001b[0m \u001b[0ma\u001b[0m\u001b[0;34m\u001b[0m\u001b[0m\n\u001b[1;32m   1235\u001b[0m \u001b[0;34m\u001b[0m\u001b[0m\n",
      "\u001b[0;31mValueError\u001b[0m: array must not contain infs or NaNs"
     ]
    }
   ],
   "source": [
    "import math\n",
    "\n",
    "# Create linear regression object\n",
    "# regr = linear_model.ElasticNet(normalize=True, alpha=0.05, fit_intercept=True)\n",
    "\n",
    "# y_traint = np.array(map(lambda x: math.log(x+1), y_train))\n",
    "# y_testt = np.array(map(lambda x: math.log(x+1), y_test))\n",
    "\n",
    "y_traint = np.array(map(lambda x: x+1, y_train))\n",
    "y_traint_var = np.var(y_traint)\n",
    "y_traint_weights = np.array(map(lambda x: (x/y_traint_var), y_traint))\n",
    "\n",
    "y_testt = np.array(map(lambda x: x+1, y_test))\n",
    "y_testt_var = np.var(y_testt)\n",
    "y_testt_weights = np.array(map(lambda x: (x/y_testt_var), y_testt))\n",
    "\n",
    "\n",
    "regr = linear_model.LinearRegression(fit_intercept=True, normalize=True)\n",
    "\n",
    "\n",
    "# Train the model using the training sets\n",
    "regr.fit(X_train, y_traint, sample_weight=y_traint_weights)\n",
    "\n",
    "\n",
    "\n",
    "y_train_pred = map(lambda x: round(x, 8), regr.predict(X_train))\n",
    "\n",
    "# Make predictions using the testing set\n",
    "y_pred = map(lambda x: round(x, 8), regr.predict(X_test))\n",
    "\n",
    "# The mean squared error\n",
    "print(\"Mean squared error: %.2f\"\n",
    "      % mean_squared_error(y_testt, y_pred))\n",
    "# Explained variance score: 1 is perfect prediction\n",
    "print('Variance score: %.2f' % r2_score(y_testt, y_pred))\n",
    "\n",
    "# Plot the residuals\n",
    "plt.scatter(y_traint, y_traint-y_train_pred, c='b', marker='o', alpha=0.5)\n",
    "plt.scatter(y_testt, y_testt-y_pred, c='g', marker='s', alpha=0.5)\n",
    "plt.hlines(y=0, xmin=0, xmax=10, color='r')\n",
    "plt.show()"
   ]
  },
  {
   "cell_type": "code",
   "execution_count": null,
   "metadata": {},
   "outputs": [],
   "source": [
    "#  The bias and heteroscadasticity is epic in the redisual plot\n",
    "# Let's transform the dependent variable\n"
   ]
  },
  {
   "cell_type": "code",
   "execution_count": null,
   "metadata": {},
   "outputs": [],
   "source": [
    "for i, j in zip(y_test[:20], y_pred[:20]): print i, j"
   ]
  },
  {
   "cell_type": "code",
   "execution_count": null,
   "metadata": {},
   "outputs": [],
   "source": [
    "# With imputing by mean\n",
    "# Mean squared error: 18099081.99\n",
    "# Variance score: -371456.56"
   ]
  },
  {
   "cell_type": "code",
   "execution_count": 143,
   "metadata": {},
   "outputs": [
    {
     "name": "stdout",
     "output_type": "stream",
     "text": [
      "Mean squared error: 0.86\n",
      "Variance score: 0.01\n"
     ]
    }
   ],
   "source": [
    "from sklearn import neural_network\n",
    "\n",
    "# Create neural net object\n",
    "nn = neural_network.MLPRegressor(alpha=0.7, warm_start=False, activation='logistic', \\\n",
    "                                learning_rate='invscaling', solver='sgd', max_iter=1000)\n",
    "\n",
    "# Train the model using the training sets\n",
    "nn.fit(X_train, y_train)\n",
    "\n",
    "y_train_pred = map(lambda x: round(x, 0), nn.predict(X_train))\n",
    "\n",
    "# Make predictions using the testing set\n",
    "y_pred = nn.predict(X_test)\n",
    "\n",
    "# The mean squared error\n",
    "print(\"Mean squared error: %.2f\"\n",
    "      % mean_squared_error(y_test.tolist(), y_pred))\n",
    "# Explained variance score: 1 is perfect prediction\n",
    "print('Variance score: %.2f' % r2_score(y_test.tolist(), y_pred))\n"
   ]
  },
  {
   "cell_type": "code",
   "execution_count": 144,
   "metadata": {},
   "outputs": [
    {
     "data": {
      "image/png": "[encoded data removed]",
      "text/plain": [
       "<Figure size 432x288 with 1 Axes>"
      ]
     },
     "metadata": {},
     "output_type": "display_data"
    }
   ],
   "source": [
    "# Plot the residuals\n",
    "plt.scatter(y_train, y_train-y_train_pred, c='b', marker='o', alpha=0.5)\n",
    "plt.scatter(y_test, y_test-y_pred, c='g', marker='s', alpha=0.5)\n",
    "plt.hlines(y=0, xmin=0, xmax=100, color='r')\n",
    "plt.show()"
   ]
  },
  {
   "cell_type": "code",
   "execution_count": 145,
   "metadata": {},
   "outputs": [
    {
     "name": "stdout",
     "output_type": "stream",
     "text": [
      "0.08596335040573971 -0.0\n",
      "-0.03238760032892298 -0.0\n",
      "0.20431430114040242 -0.0\n",
      "-1.6893009106142007 -0.0\n",
      "-0.26908950179824837 0.0\n",
      "0.6777181040790532 -0.0\n",
      "0.20431430114040242 -0.0\n",
      "-0.26908950179824837 -0.0\n",
      "-0.03238760032892298 -0.0\n",
      "-0.03238760032892298 -0.0\n",
      "0.08596335040573971 -0.0\n",
      "0.6777181040790532 -0.0\n",
      "0.6777181040790532 0.0\n",
      "0.6777181040790532 -0.0\n",
      "0.6777181040790532 -0.0\n",
      "0.20431430114040242 -0.0\n",
      "0.6777181040790532 -0.0\n",
      "0.3226652518750651 -0.0\n",
      "-0.6241423540022365 -0.0\n",
      "0.4410162026097278 -0.0\n"
     ]
    }
   ],
   "source": [
    "for i, j in zip(y_test[:20], y_pred[:20]): print i, j"
   ]
  }
 ],
 "metadata": {
  "kernelspec": {
   "display_name": "Python 2",
   "language": "python",
   "name": "python2"
  },
  "language_info": {
   "codemirror_mode": {
    "name": "ipython",
    "version": 2
   },
   "file_extension": ".py",
   "mimetype": "text/x-python",
   "name": "python",
   "nbconvert_exporter": "python",
   "pygments_lexer": "ipython2",
   "version": "2.7.14"
  }
 },
 "nbformat": 4,
 "nbformat_minor": 2
}
