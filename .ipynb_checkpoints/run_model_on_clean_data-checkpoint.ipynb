{
 "cells": [
  {
   "cell_type": "markdown",
   "metadata": {},
   "source": [
    "# Combine Numeric and Categorical Features"
   ]
  },
  {
   "cell_type": "code",
   "execution_count": 1,
   "metadata": {},
   "outputs": [],
   "source": [
    "%matplotlib inline"
   ]
  },
  {
   "cell_type": "code",
   "execution_count": 2,
   "metadata": {},
   "outputs": [],
   "source": [
    "import matplotlib.pyplot as plt\n",
    "import pandas as pd\n",
    "import numpy as np"
   ]
  },
  {
   "cell_type": "code",
   "execution_count": 3,
   "metadata": {},
   "outputs": [],
   "source": [
    "def read_df(filename, valtype):\n",
    "    df = pd.read_csv(filename, low_memory=False, dtype=valtype)\n",
    "    return df"
   ]
  },
  {
   "cell_type": "code",
   "execution_count": 4,
   "metadata": {
    "scrolled": true
   },
   "outputs": [],
   "source": [
    "from collections import OrderedDict, defaultdict\n",
    "\n",
    "def create_combined_df(input_dict):\n",
    "    fdf = pd.DataFrame()\n",
    "    cols = OrderedDict()\n",
    "    for k, v in input_dict.items():\n",
    "        df = read_df('./data/'+k, v)\n",
    "        colnames = [c for c in df.columns if c not in ['None', 'Unnamed: 0']]\n",
    "        cols[k] = colnames\n",
    "        fdf = pd.concat([fdf, df], axis=1)\n",
    "    \n",
    "    # fdf = fdf.DataFrame(fdf, columns=cols)\n",
    "    fdf = fdf.drop(['None', 'Unnamed: 0'], axis=1)\n",
    "    return fdf, cols"
   ]
  },
  {
   "cell_type": "markdown",
   "metadata": {},
   "source": [
    "# Read all data"
   ]
  },
  {
   "cell_type": "code",
   "execution_count": 37,
   "metadata": {},
   "outputs": [],
   "source": [
    "num_train = pd.read_csv('./data/fin_num_train_deps.csv')\n",
    "num_train = num_train.drop(['Unnamed: 0'], axis=1)\n",
    "num_test = pd.read_csv('./data/fin_num_test_deps.csv')\n",
    "num_test = num_test.drop(['Unnamed: 0'], axis=1)\n",
    "\n",
    "cat_train = pd.read_csv('./data/fin_cat_train_deps.csv')\n",
    "cat_train = cat_train.drop(['Unnamed: 0'], axis=1)\n",
    "cat_test = pd.read_csv('./data/fin_cat_test_deps.csv')\n",
    "cat_test = cat_test.drop(['Unnamed: 0'], axis=1)\n",
    "\n",
    "amen_train = pd.read_csv('./data/fin_amen_train_deps.csv')\n",
    "amen_train = amen_train.drop(['Unnamed: 0'], axis=1)\n",
    "amen_test = pd.read_csv('./data/fin_amen_test_deps.csv')\n",
    "amen_test = amen_test.drop(['Unnamed: 0'], axis=1)"
   ]
  },
  {
   "cell_type": "code",
   "execution_count": null,
   "metadata": {},
   "outputs": [],
   "source": [
    "comb_train = pd.read_csv('./data/fin_comb_train_deps.csv')\n",
    "comb_train = comb_train.drop(['Unnamed: 0'], axis=1)\n",
    "comb_test = pd.read_csv('./data/fin_comb_test_deps.csv')\n",
    "comb_test = comb_test.drop(['Unnamed: 0'], axis=1)"
   ]
  },
  {
   "cell_type": "code",
   "execution_count": 36,
   "metadata": {},
   "outputs": [],
   "source": [
    "X_train_comb.to_csv('./data/fin_comb_train_deps.csv', encoding='utf8')\n",
    "X_test_comb.to_csv('./data/fin_comb_test_deps.csv', encoding='utf8')"
   ]
  },
  {
   "cell_type": "code",
   "execution_count": 10,
   "metadata": {},
   "outputs": [],
   "source": [
    "def run_prediction(X, y, Xt, yt, model):\n",
    "    if len(y.shape) == 1:\n",
    "        y = y.reshape(-1, 1)\n",
    "    if len(yt.shape) == 1:\n",
    "        yt = yt.reshape(-1, 1)\n",
    "    \n",
    "    res = {'train': {}, 'test': {}}\n",
    "    \n",
    "    model.fit(X, y)\n",
    "    \n",
    "    train_pred = model.predict(X)\n",
    "    res['train']['pred'] = train_pred\n",
    "    \n",
    "    test_pred = model.predict(Xt)\n",
    "    res['test']['pred'] = test_pred\n",
    "    \n",
    "    \n",
    "    for name, tup in zip(['train', 'test'], [(y, train_pred), (yt, test_pred)]):\n",
    "        act, prd = tup[0].ravel(), tup[1].ravel()\n",
    "        print 'Results for %s' % name\n",
    "        \n",
    "        mserr = mean_squared_error(act, prd)\n",
    "        res[name]['mse'] = mserr\n",
    "        print '%s Mean Squared Error: %.4f' % (name, mserr)\n",
    "        \n",
    "        rsq_score = r2_score(act, prd)\n",
    "        res[name]['r2'] = rsq_score\n",
    "        print '%s R-Squared: %.4f' % (name, rsq_score)\n",
    "        \n",
    "        plt.scatter(act, prd, alpha=0.5)\n",
    "        plt.title(name+': predictions vs. actual')\n",
    "        plt.show()\n",
    "        plt.scatter(act, act-prd, alpha=0.5)\n",
    "        plt.title(name+': residuals vs. actual')\n",
    "        plt.show()\n",
    "        plt.hist(act-prd, alpha=0.5)\n",
    "        plt.title(name+': residuals histogram')\n",
    "        plt.show()\n",
    "    \n",
    "    return res"
   ]
  }
 ],
 "metadata": {
  "kernelspec": {
   "display_name": "Python 2",
   "language": "python",
   "name": "python2"
  },
  "language_info": {
   "codemirror_mode": {
    "name": "ipython",
    "version": 2
   },
   "file_extension": ".py",
   "mimetype": "text/x-python",
   "name": "python",
   "nbconvert_exporter": "python",
   "pygments_lexer": "ipython2",
   "version": "2.7.14"
  }
 },
 "nbformat": 4,
 "nbformat_minor": 2
}
