{
 "cells": [
  {
   "cell_type": "code",
   "execution_count": 1,
   "metadata": {},
   "outputs": [],
   "source": [
    "# import numpy as np\n",
    "# from sklearn.preprocessing import Imputer\n",
    "\n",
    "# ratings = data['review_scores_rating']\n",
    "# imp = Imputer(missing_values=np.nan, strategy='mean', axis=1)\n",
    "# ratings = np.array(ratings).reshape(1, -1)\n",
    "# imp.fit(ratings)\n",
    "# ratings = imp.transform(ratings)\n",
    "# ratings.shape\n",
    "# sample_idxs = np.random.randint(ratings.shape[1], size=1000)\n",
    "# sample_idxs\n",
    "# np.take(ratings, sample_idxs)"
   ]
  },
  {
   "cell_type": "code",
   "execution_count": 2,
   "metadata": {},
   "outputs": [],
   "source": [
    "# import math\n",
    "# import matplotlib.pyplot as plt\n",
    "# plt.hist(np.take(ratings, sample_idxs))\n",
    "# len(data.columns)\n",
    "# len(data.sample(1).values[0])\n",
    "# for k, v in zip(data.columns, data.sample(1).values[0]): print k + ': ' + str(v)"
   ]
  },
  {
   "cell_type": "code",
   "execution_count": 3,
   "metadata": {},
   "outputs": [],
   "source": [
    "import pandas as pd"
   ]
  },
  {
   "cell_type": "code",
   "execution_count": 4,
   "metadata": {
    "scrolled": false
   },
   "outputs": [],
   "source": [
    "all_data = pd.read_csv('./data/review_features.csv', low_memory=False)"
   ]
  },
  {
   "cell_type": "code",
   "execution_count": 60,
   "metadata": {
    "scrolled": false
   },
   "outputs": [
    {
     "name": "stdout",
     "output_type": "stream",
     "text": [
      "host_total_listings_count Mission\n",
      "['bathrooms', 'host_has_profile_pic', 'cancellation_policy', 'host_neighbourhood', 'host_acceptance_rate', 'property_type', 'host_location', 'space', 'host_since', 'host_identity_verified', 'host_listings_count', 'bedrooms', 'host_response_rate', 'host_about', 'calculated_host_listings_count', 'interaction', 'name', 'license', 'host_response_time', 'beds', 'cleaning_fee', 'host_name', 'guests_included', 'host_total_listings_count']\n"
     ]
    }
   ],
   "source": [
    "data = all_data.sample(10000, random_state=1)\n",
    "cols_to_drop = ['access', 'amenities_', 'description', \\\n",
    "               'house_rules', 'id', 'host_verifications', 'last_review', 'last_scraped', \\\n",
    "               'market', 'neighborhood_overview', 'neighbourhood', 'neighbourhood_cleansed', \\\n",
    "               'neighbourhood_group_cleansed', 'notes', 'street', 'summary', 'transit', \\\n",
    "               'Unnamed: 0', 'first_review', 'calendar_last_scraped', 'calendar_updated', \n",
    "               'review_scores_accuracy', 'review_scores_checkin', 'review_scores_cleanliness', \\\n",
    "                'review_scores_communication', 'review_scores_location']\n",
    "data.loc[:, cols_to_drop]\n",
    "data = data.drop(cols_to_drop, axis=1)\n",
    "\n",
    "data = data.replace('f', 0)\n",
    "data = data.replace('t', 1)\n",
    "data = data.replace(r'[\\$,]','', regex=True)\n",
    "# data['review_scores_rating']\n",
    "\n",
    "\n",
    "# Get a list of non-numeric columns so we can drop them\n",
    "from collections import defaultdict\n",
    "\n",
    "non_numeric_columns = defaultdict(int)\n",
    "\n",
    "for d in data.values:\n",
    "    for k, v in zip(data.columns, d):\n",
    "        if 'Mission' == v:\n",
    "            print k, v\n",
    "        \n",
    "        try: \n",
    "            float(v)\n",
    "        except Exception as e:\n",
    "            non_numeric_columns[k] += 1\n",
    "\n",
    "print non_numeric_columns.keys()\n",
    "# data = data.drop(non_numeric_columns.keys(), axis=1)"
   ]
  },
  {
   "cell_type": "code",
   "execution_count": 61,
   "metadata": {},
   "outputs": [],
   "source": [
    "dependent_variable = 'review_scores_rating'"
   ]
  },
  {
   "cell_type": "code",
   "execution_count": 62,
   "metadata": {},
   "outputs": [],
   "source": [
    "# Drop missing values from depedent variable\n",
    "data = data.dropna(subset=[dependent_variable])\n",
    "y = data[dependent_variable]"
   ]
  },
  {
   "cell_type": "code",
   "execution_count": 63,
   "metadata": {},
   "outputs": [],
   "source": [
    "# Test for collinearity\n",
    "\n",
    "collinear = data.corr()\n",
    "s = collinear.unstack()\n",
    "so = s.sort_values(kind='quicksort')\n",
    "so.to_csv('collinearity_values.csv')"
   ]
  },
  {
   "cell_type": "code",
   "execution_count": 9,
   "metadata": {
    "scrolled": false
   },
   "outputs": [],
   "source": [
    "# so[-1*(len(so)):-1*(len(so)-100)]"
   ]
  },
  {
   "cell_type": "code",
   "execution_count": 64,
   "metadata": {
    "scrolled": false
   },
   "outputs": [],
   "source": [
    "# read most correlated columns from csv, and drop them\n",
    "\n",
    "corr_cols_to_drop = pd.read_csv('./correlated_columns.csv', encoding='utf8').values.reshape(1,-1).tolist()[0]"
   ]
  },
  {
   "cell_type": "code",
   "execution_count": 65,
   "metadata": {},
   "outputs": [
    {
     "data": {
      "text/plain": [
       "['reviews_per_month',\n",
       " 'number_of_reviews',\n",
       " 'review_scores_value',\n",
       " 'review_scores_rating']"
      ]
     },
     "execution_count": 65,
     "metadata": {},
     "output_type": "execute_result"
    }
   ],
   "source": [
    "# drop review_ related columns\n",
    "review_columns = defaultdict(int)\n",
    "for c in data.columns:\n",
    "    if 'review' in c:\n",
    "        review_columns[c] += 1\n",
    "review_columns.keys()"
   ]
  },
  {
   "cell_type": "code",
   "execution_count": 66,
   "metadata": {},
   "outputs": [],
   "source": [
    "# Drop zipcode, longitude, latitude and such\n",
    "others = ['zipcode', 'latitude', 'longitude']"
   ]
  },
  {
   "cell_type": "code",
   "execution_count": 67,
   "metadata": {},
   "outputs": [],
   "source": [
    "cols_to_drop = set(review_columns.keys()).union(non_numeric_columns.keys()).union(corr_cols_to_drop).union(others)\n",
    "# cols_to_drop"
   ]
  },
  {
   "cell_type": "code",
   "execution_count": 68,
   "metadata": {},
   "outputs": [],
   "source": [
    "X = data.drop(cols_to_drop, axis=1)"
   ]
  },
  {
   "cell_type": "code",
   "execution_count": 69,
   "metadata": {},
   "outputs": [],
   "source": [
    "for c in X.columns:\n",
    "    if 'review' in c:\n",
    "        print c"
   ]
  },
  {
   "cell_type": "code",
   "execution_count": 70,
   "metadata": {},
   "outputs": [
    {
     "name": "stdout",
     "output_type": "stream",
     "text": [
      "(7809, 158)\n",
      "(7809,)\n"
     ]
    }
   ],
   "source": [
    "import numpy as np\n",
    "from sklearn.preprocessing import Imputer\n",
    "\n",
    "\n",
    "imp = Imputer(missing_values=np.nan, strategy='median', axis=1)\n",
    "imp.fit(X)\n",
    "X = imp.transform(X)\n",
    "\n",
    "imp = Imputer(missing_values=np.nan, strategy='median', axis=1)\n",
    "imp.fit(y)\n",
    "y = imp.transform(y.values.reshape(-1,1))\n",
    "y = y.ravel()\n",
    "\n",
    "print X.shape\n",
    "print y.shape\n",
    "\n",
    "# imp.fit(X_train)\n",
    "# X_train = imp.transform(X_train)\n",
    "\n",
    "# imp = Imputer(missing_values=np.nan, strategy='median', axis=1)\n",
    "# imp.fit(X_test)\n",
    "# X_test = imp.transform(X_test)\n",
    "\n",
    "\n",
    "# y_train = np.array(y_train).reshape(1, -1)\n",
    "# imp = Imputer(missing_values=np.nan, strategy='median', axis=1)\n",
    "# imp.fit(y_train)\n",
    "# y_train = imp.transform(y_train)\n",
    "# y_train = y_train.reshape(-1, 1)\n",
    "# y_train = y_train.ravel()\n",
    "\n",
    "# y_test = np.array(y_test).reshape(1, -1)\n",
    "# imp = Imputer(missing_values=np.nan, strategy='median', axis=1)\n",
    "# imp.fit(y_test)\n",
    "# y_test = imp.transform(y_test)\n",
    "# y_test = y_test.reshape(-1, 1)\n",
    "# y_test = y_test.ravel()\n",
    "\n",
    "# print X_train.shape\n",
    "# print y_train.ravel().shape"
   ]
  },
  {
   "cell_type": "code",
   "execution_count": 71,
   "metadata": {},
   "outputs": [],
   "source": [
    "# Scale the dependent variables\n",
    "from sklearn.preprocessing import StandardScaler\n",
    "\n",
    "scaler = StandardScaler(copy=True, with_mean=True, with_std=True)\n",
    "scaler.fit(X)\n",
    "X = scaler.transform(X)\n",
    "\n",
    "scaler = StandardScaler(copy=True, with_mean=True, with_std=True)\n",
    "scaler.fit(y.reshape(-1,1))\n",
    "y = scaler.transform(y.reshape(-1,1))\n",
    "y = y.ravel()"
   ]
  },
  {
   "cell_type": "code",
   "execution_count": 18,
   "metadata": {},
   "outputs": [
    {
     "name": "stdout",
     "output_type": "stream",
     "text": [
      "(38874, 158)\n",
      "(38874,)\n"
     ]
    }
   ],
   "source": [
    "print X.shape\n",
    "print y.shape"
   ]
  },
  {
   "cell_type": "code",
   "execution_count": 72,
   "metadata": {},
   "outputs": [],
   "source": [
    "# Try PCA\n",
    "from sklearn.decomposition import PCA, KernelPCA\n",
    "\n",
    "pca = PCA(n_components=30)\n",
    "X = pca.fit_transform(X)\n"
   ]
  },
  {
   "cell_type": "code",
   "execution_count": 73,
   "metadata": {},
   "outputs": [
    {
     "name": "stdout",
     "output_type": "stream",
     "text": [
      "(7809, 30)\n",
      "(7809,)\n"
     ]
    }
   ],
   "source": [
    "print X.shape\n",
    "print y.shape"
   ]
  },
  {
   "cell_type": "code",
   "execution_count": 74,
   "metadata": {},
   "outputs": [
    {
     "data": {
      "text/plain": [
       "(array([2.000e+00, 0.000e+00, 0.000e+00, 0.000e+00, 0.000e+00, 0.000e+00,\n",
       "        0.000e+00, 0.000e+00, 0.000e+00, 0.000e+00, 0.000e+00, 0.000e+00,\n",
       "        0.000e+00, 0.000e+00, 0.000e+00, 0.000e+00, 0.000e+00, 0.000e+00,\n",
       "        0.000e+00, 8.000e+00, 0.000e+00, 0.000e+00, 0.000e+00, 0.000e+00,\n",
       "        0.000e+00, 0.000e+00, 0.000e+00, 0.000e+00, 0.000e+00, 0.000e+00,\n",
       "        0.000e+00, 0.000e+00, 0.000e+00, 0.000e+00, 0.000e+00, 0.000e+00,\n",
       "        0.000e+00, 0.000e+00, 0.000e+00, 0.000e+00, 1.400e+01, 0.000e+00,\n",
       "        0.000e+00, 0.000e+00, 0.000e+00, 1.000e+00, 0.000e+00, 0.000e+00,\n",
       "        0.000e+00, 5.000e+00, 0.000e+00, 0.000e+00, 2.000e+00, 0.000e+00,\n",
       "        0.000e+00, 0.000e+00, 0.000e+00, 0.000e+00, 0.000e+00, 2.800e+01,\n",
       "        0.000e+00, 0.000e+00, 0.000e+00, 3.000e+00, 3.000e+00, 2.000e+00,\n",
       "        4.000e+00, 9.000e+00, 4.000e+00, 2.800e+01, 0.000e+00, 6.000e+00,\n",
       "        2.300e+01, 8.000e+00, 9.000e+00, 7.000e+00, 7.000e+00, 1.200e+01,\n",
       "        1.100e+01, 0.000e+00, 2.310e+02, 2.700e+01, 5.100e+01, 4.500e+01,\n",
       "        7.000e+01, 8.500e+01, 1.330e+02, 1.220e+02, 1.440e+02, 3.820e+02,\n",
       "        2.080e+02, 2.430e+02, 4.590e+02, 4.120e+02, 5.210e+02, 6.500e+02,\n",
       "        5.620e+02, 6.490e+02, 4.540e+02, 2.165e+03]),\n",
       " array([-12.98572325, -12.84837845, -12.71103365, -12.57368884,\n",
       "        -12.43634404, -12.29899924, -12.16165444, -12.02430964,\n",
       "        -11.88696483, -11.74962003, -11.61227523, -11.47493043,\n",
       "        -11.33758563, -11.20024083, -11.06289602, -10.92555122,\n",
       "        -10.78820642, -10.65086162, -10.51351682, -10.37617201,\n",
       "        -10.23882721, -10.10148241,  -9.96413761,  -9.82679281,\n",
       "         -9.68944801,  -9.5521032 ,  -9.4147584 ,  -9.2774136 ,\n",
       "         -9.1400688 ,  -9.002724  ,  -8.86537919,  -8.72803439,\n",
       "         -8.59068959,  -8.45334479,  -8.31599999,  -8.17865518,\n",
       "         -8.04131038,  -7.90396558,  -7.76662078,  -7.62927598,\n",
       "         -7.49193118,  -7.35458637,  -7.21724157,  -7.07989677,\n",
       "         -6.94255197,  -6.80520717,  -6.66786236,  -6.53051756,\n",
       "         -6.39317276,  -6.25582796,  -6.11848316,  -5.98113836,\n",
       "         -5.84379355,  -5.70644875,  -5.56910395,  -5.43175915,\n",
       "         -5.29441435,  -5.15706954,  -5.01972474,  -4.88237994,\n",
       "         -4.74503514,  -4.60769034,  -4.47034554,  -4.33300073,\n",
       "         -4.19565593,  -4.05831113,  -3.92096633,  -3.78362153,\n",
       "         -3.64627672,  -3.50893192,  -3.37158712,  -3.23424232,\n",
       "         -3.09689752,  -2.95955271,  -2.82220791,  -2.68486311,\n",
       "         -2.54751831,  -2.41017351,  -2.27282871,  -2.1354839 ,\n",
       "         -1.9981391 ,  -1.8607943 ,  -1.7234495 ,  -1.5861047 ,\n",
       "         -1.44875989,  -1.31141509,  -1.17407029,  -1.03672549,\n",
       "         -0.89938069,  -0.76203589,  -0.62469108,  -0.48734628,\n",
       "         -0.35000148,  -0.21265668,  -0.07531188,   0.06203293,\n",
       "          0.19937773,   0.33672253,   0.47406733,   0.61141213,\n",
       "          0.74875693]),\n",
       " <a list of 100 Patch objects>)"
      ]
     },
     "execution_count": 74,
     "metadata": {},
     "output_type": "execute_result"
    },
    {
     "data": {
      "image/png": "[encoded data removed]",
      "text/plain": [
       "<Figure size 432x288 with 1 Axes>"
      ]
     },
     "metadata": {},
     "output_type": "display_data"
    }
   ],
   "source": [
    "import matplotlib.pyplot as plt\n",
    "plt.hist(y.tolist(), bins=100)"
   ]
  },
  {
   "cell_type": "code",
   "execution_count": 22,
   "metadata": {},
   "outputs": [],
   "source": [
    "# Try KernelPCA\n",
    "\n",
    "# kcpa = KernelPCA(kernel='rbf', fit_inverse_transform=True, gamma=10)\n",
    "# X = kcpa.fit_transform(X)\n",
    "\n",
    "# print X.shape\n",
    "# print y.shape"
   ]
  },
  {
   "cell_type": "code",
   "execution_count": 23,
   "metadata": {},
   "outputs": [],
   "source": [
    "# from sklearn.preprocessing import PolynomialFeatures\n",
    "\n",
    "# poly = PolynomialFeatures(degree=2)\n",
    "\n",
    "# X = poly.fit_transform(X)"
   ]
  },
  {
   "cell_type": "code",
   "execution_count": 75,
   "metadata": {},
   "outputs": [],
   "source": [
    "from sklearn.model_selection import train_test_split\n",
    "\n",
    "\n",
    "X_train, X_test, y_train, y_test = train_test_split(X, \n",
    "                                                    y, \n",
    "                                                    test_size=0.33, \n",
    "                                                    random_state=1234)"
   ]
  },
  {
   "cell_type": "code",
   "execution_count": 76,
   "metadata": {
    "scrolled": true
   },
   "outputs": [
    {
     "name": "stdout",
     "output_type": "stream",
     "text": [
      "Mean squared error: 0.91\n",
      "Variance score: 0.12\n"
     ]
    },
    {
     "data": {
      "image/png": "[encoded data removed]",
      "text/plain": [
       "<Figure size 432x288 with 1 Axes>"
      ]
     },
     "metadata": {},
     "output_type": "display_data"
    }
   ],
   "source": [
    "import matplotlib.pyplot as plt\n",
    "import numpy as np\n",
    "from sklearn import datasets, linear_model\n",
    "from sklearn.metrics import mean_squared_error, r2_score, accuracy_score, make_scorer, roc_auc_score\n",
    "\n",
    "# Create linear regression object\n",
    "regr = linear_model.Lasso(alpha=0.0001, fit_intercept=False, max_iter=10000)\n",
    "\n",
    "# Train the model using the training sets\n",
    "regr.fit(X_train, y_train)\n",
    "\n",
    "y_train_pred = regr.predict(X_train)\n",
    "\n",
    "# Make predictions using the testing set\n",
    "y_pred = regr.predict(X_test)\n",
    "\n",
    "# The mean squared error\n",
    "print(\"Mean squared error: %.2f\"\n",
    "      % mean_squared_error(y_test, y_pred))\n",
    "# Explained variance score: 1 is perfect prediction\n",
    "print('Variance score: %.2f' % r2_score(y_test.tolist(), y_pred.tolist()))\n",
    "\n",
    "# Plot the residuals\n",
    "plt.scatter(y_train, y_train-y_train_pred, c='b', marker='o', alpha=0.5)\n",
    "plt.scatter(y_test, y_test-y_pred, c='g', marker='s', alpha=0.5)\n",
    "plt.hlines(y=0, xmin=-10, xmax=10, color='r')\n",
    "plt.show()"
   ]
  },
  {
   "cell_type": "code",
   "execution_count": 79,
   "metadata": {},
   "outputs": [],
   "source": [
    "# Try Weighted Linear Regression \n",
    "\n",
    "weights = y_train - y_train_pred\n",
    "\n",
    "sgd = linear_model.SGDClassifier(alpha=0.01, max_iter=100)\n",
    "\n"
   ]
  },
  {
   "cell_type": "code",
   "execution_count": 80,
   "metadata": {},
   "outputs": [
    {
     "ename": "ValueError",
     "evalue": "Unknown label type: (array([-12.98572325, -10.23882721,  -7.49193118,  -6.11848316,\n        -5.70644875,  -4.74503514,  -4.19565593,  -4.05831113,\n        -3.92096633,  -3.78362153,  -3.64627672,  -3.50893192,\n        -3.37158712,  -3.23424232,  -3.09689752,  -2.95955271,\n        -2.82220791,  -2.68486311,  -2.54751831,  -2.41017351,\n        -2.27282871,  -2.1354839 ,  -1.9981391 ,  -1.8607943 ,\n        -1.7234495 ,  -1.5861047 ,  -1.44875989,  -1.31141509,\n        -1.17407029,  -1.03672549,  -0.89938069,  -0.76203589,\n        -0.62469108,  -0.48734628,  -0.35000148,  -0.21265668,\n        -0.07531188,   0.06203293,   0.19937773,   0.33672253,\n         0.47406733,   0.61141213,   0.74875693]),)",
     "output_type": "error",
     "traceback": [
      "\u001b[0;31m---------------------------------------------------------------------------\u001b[0m",
      "\u001b[0;31mValueError\u001b[0m                                Traceback (most recent call last)",
      "\u001b[0;32m<ipython-input-80-f50db4e99f35>\u001b[0m in \u001b[0;36m<module>\u001b[0;34m()\u001b[0m\n\u001b[0;32m----> 1\u001b[0;31m \u001b[0msgd\u001b[0m\u001b[0;34m.\u001b[0m\u001b[0mfit\u001b[0m\u001b[0;34m(\u001b[0m\u001b[0mX_train\u001b[0m\u001b[0;34m,\u001b[0m \u001b[0my_train\u001b[0m\u001b[0;34m,\u001b[0m \u001b[0msample_weight\u001b[0m\u001b[0;34m=\u001b[0m\u001b[0mweights\u001b[0m\u001b[0;34m)\u001b[0m\u001b[0;34m\u001b[0m\u001b[0m\n\u001b[0m",
      "\u001b[0;32m/Users/jhabib/miniconda2/lib/python2.7/site-packages/sklearn/linear_model/stochastic_gradient.pyc\u001b[0m in \u001b[0;36mfit\u001b[0;34m(self, X, y, coef_init, intercept_init, sample_weight)\u001b[0m\n\u001b[1;32m    584\u001b[0m                          \u001b[0mloss\u001b[0m\u001b[0;34m=\u001b[0m\u001b[0mself\u001b[0m\u001b[0;34m.\u001b[0m\u001b[0mloss\u001b[0m\u001b[0;34m,\u001b[0m \u001b[0mlearning_rate\u001b[0m\u001b[0;34m=\u001b[0m\u001b[0mself\u001b[0m\u001b[0;34m.\u001b[0m\u001b[0mlearning_rate\u001b[0m\u001b[0;34m,\u001b[0m\u001b[0;34m\u001b[0m\u001b[0m\n\u001b[1;32m    585\u001b[0m                          \u001b[0mcoef_init\u001b[0m\u001b[0;34m=\u001b[0m\u001b[0mcoef_init\u001b[0m\u001b[0;34m,\u001b[0m \u001b[0mintercept_init\u001b[0m\u001b[0;34m=\u001b[0m\u001b[0mintercept_init\u001b[0m\u001b[0;34m,\u001b[0m\u001b[0;34m\u001b[0m\u001b[0m\n\u001b[0;32m--> 586\u001b[0;31m                          sample_weight=sample_weight)\n\u001b[0m\u001b[1;32m    587\u001b[0m \u001b[0;34m\u001b[0m\u001b[0m\n\u001b[1;32m    588\u001b[0m \u001b[0;34m\u001b[0m\u001b[0m\n",
      "\u001b[0;32m/Users/jhabib/miniconda2/lib/python2.7/site-packages/sklearn/linear_model/stochastic_gradient.pyc\u001b[0m in \u001b[0;36m_fit\u001b[0;34m(self, X, y, alpha, C, loss, learning_rate, coef_init, intercept_init, sample_weight)\u001b[0m\n\u001b[1;32m    442\u001b[0m \u001b[0;34m\u001b[0m\u001b[0m\n\u001b[1;32m    443\u001b[0m         self._partial_fit(X, y, alpha, C, loss, learning_rate, self._max_iter,\n\u001b[0;32m--> 444\u001b[0;31m                           classes, sample_weight, coef_init, intercept_init)\n\u001b[0m\u001b[1;32m    445\u001b[0m \u001b[0;34m\u001b[0m\u001b[0m\n\u001b[1;32m    446\u001b[0m         if (self._tol is not None and self._tol > -np.inf\n",
      "\u001b[0;32m/Users/jhabib/miniconda2/lib/python2.7/site-packages/sklearn/linear_model/stochastic_gradient.pyc\u001b[0m in \u001b[0;36m_partial_fit\u001b[0;34m(self, X, y, alpha, C, loss, learning_rate, max_iter, classes, sample_weight, coef_init, intercept_init)\u001b[0m\n\u001b[1;32m    373\u001b[0m         \u001b[0mn_samples\u001b[0m\u001b[0;34m,\u001b[0m \u001b[0mn_features\u001b[0m \u001b[0;34m=\u001b[0m \u001b[0mX\u001b[0m\u001b[0;34m.\u001b[0m\u001b[0mshape\u001b[0m\u001b[0;34m\u001b[0m\u001b[0m\n\u001b[1;32m    374\u001b[0m \u001b[0;34m\u001b[0m\u001b[0m\n\u001b[0;32m--> 375\u001b[0;31m         \u001b[0m_check_partial_fit_first_call\u001b[0m\u001b[0;34m(\u001b[0m\u001b[0mself\u001b[0m\u001b[0;34m,\u001b[0m \u001b[0mclasses\u001b[0m\u001b[0;34m)\u001b[0m\u001b[0;34m\u001b[0m\u001b[0m\n\u001b[0m\u001b[1;32m    376\u001b[0m \u001b[0;34m\u001b[0m\u001b[0m\n\u001b[1;32m    377\u001b[0m         \u001b[0mn_classes\u001b[0m \u001b[0;34m=\u001b[0m \u001b[0mself\u001b[0m\u001b[0;34m.\u001b[0m\u001b[0mclasses_\u001b[0m\u001b[0;34m.\u001b[0m\u001b[0mshape\u001b[0m\u001b[0;34m[\u001b[0m\u001b[0;36m0\u001b[0m\u001b[0;34m]\u001b[0m\u001b[0;34m\u001b[0m\u001b[0m\n",
      "\u001b[0;32m/Users/jhabib/miniconda2/lib/python2.7/site-packages/sklearn/utils/multiclass.pyc\u001b[0m in \u001b[0;36m_check_partial_fit_first_call\u001b[0;34m(clf, classes)\u001b[0m\n\u001b[1;32m    319\u001b[0m         \u001b[0;32melse\u001b[0m\u001b[0;34m:\u001b[0m\u001b[0;34m\u001b[0m\u001b[0m\n\u001b[1;32m    320\u001b[0m             \u001b[0;31m# This is the first call to partial_fit\u001b[0m\u001b[0;34m\u001b[0m\u001b[0;34m\u001b[0m\u001b[0m\n\u001b[0;32m--> 321\u001b[0;31m             \u001b[0mclf\u001b[0m\u001b[0;34m.\u001b[0m\u001b[0mclasses_\u001b[0m \u001b[0;34m=\u001b[0m \u001b[0munique_labels\u001b[0m\u001b[0;34m(\u001b[0m\u001b[0mclasses\u001b[0m\u001b[0;34m)\u001b[0m\u001b[0;34m\u001b[0m\u001b[0m\n\u001b[0m\u001b[1;32m    322\u001b[0m             \u001b[0;32mreturn\u001b[0m \u001b[0mTrue\u001b[0m\u001b[0;34m\u001b[0m\u001b[0m\n\u001b[1;32m    323\u001b[0m \u001b[0;34m\u001b[0m\u001b[0m\n",
      "\u001b[0;32m/Users/jhabib/miniconda2/lib/python2.7/site-packages/sklearn/utils/multiclass.pyc\u001b[0m in \u001b[0;36munique_labels\u001b[0;34m(*ys)\u001b[0m\n\u001b[1;32m     95\u001b[0m     \u001b[0m_unique_labels\u001b[0m \u001b[0;34m=\u001b[0m \u001b[0m_FN_UNIQUE_LABELS\u001b[0m\u001b[0;34m.\u001b[0m\u001b[0mget\u001b[0m\u001b[0;34m(\u001b[0m\u001b[0mlabel_type\u001b[0m\u001b[0;34m,\u001b[0m \u001b[0mNone\u001b[0m\u001b[0;34m)\u001b[0m\u001b[0;34m\u001b[0m\u001b[0m\n\u001b[1;32m     96\u001b[0m     \u001b[0;32mif\u001b[0m \u001b[0;32mnot\u001b[0m \u001b[0m_unique_labels\u001b[0m\u001b[0;34m:\u001b[0m\u001b[0;34m\u001b[0m\u001b[0m\n\u001b[0;32m---> 97\u001b[0;31m         \u001b[0;32mraise\u001b[0m \u001b[0mValueError\u001b[0m\u001b[0;34m(\u001b[0m\u001b[0;34m\"Unknown label type: %s\"\u001b[0m \u001b[0;34m%\u001b[0m \u001b[0mrepr\u001b[0m\u001b[0;34m(\u001b[0m\u001b[0mys\u001b[0m\u001b[0;34m)\u001b[0m\u001b[0;34m)\u001b[0m\u001b[0;34m\u001b[0m\u001b[0m\n\u001b[0m\u001b[1;32m     98\u001b[0m \u001b[0;34m\u001b[0m\u001b[0m\n\u001b[1;32m     99\u001b[0m     \u001b[0mys_labels\u001b[0m \u001b[0;34m=\u001b[0m \u001b[0mset\u001b[0m\u001b[0;34m(\u001b[0m\u001b[0mchain\u001b[0m\u001b[0;34m.\u001b[0m\u001b[0mfrom_iterable\u001b[0m\u001b[0;34m(\u001b[0m\u001b[0m_unique_labels\u001b[0m\u001b[0;34m(\u001b[0m\u001b[0my\u001b[0m\u001b[0;34m)\u001b[0m \u001b[0;32mfor\u001b[0m \u001b[0my\u001b[0m \u001b[0;32min\u001b[0m \u001b[0mys\u001b[0m\u001b[0;34m)\u001b[0m\u001b[0;34m)\u001b[0m\u001b[0;34m\u001b[0m\u001b[0m\n",
      "\u001b[0;31mValueError\u001b[0m: Unknown label type: (array([-12.98572325, -10.23882721,  -7.49193118,  -6.11848316,\n        -5.70644875,  -4.74503514,  -4.19565593,  -4.05831113,\n        -3.92096633,  -3.78362153,  -3.64627672,  -3.50893192,\n        -3.37158712,  -3.23424232,  -3.09689752,  -2.95955271,\n        -2.82220791,  -2.68486311,  -2.54751831,  -2.41017351,\n        -2.27282871,  -2.1354839 ,  -1.9981391 ,  -1.8607943 ,\n        -1.7234495 ,  -1.5861047 ,  -1.44875989,  -1.31141509,\n        -1.17407029,  -1.03672549,  -0.89938069,  -0.76203589,\n        -0.62469108,  -0.48734628,  -0.35000148,  -0.21265668,\n        -0.07531188,   0.06203293,   0.19937773,   0.33672253,\n         0.47406733,   0.61141213,   0.74875693]),)"
     ]
    }
   ],
   "source": [
    "sgd.fit(X_train, y_train, sample_weight=weights)"
   ]
  },
  {
   "cell_type": "code",
   "execution_count": 26,
   "metadata": {},
   "outputs": [],
   "source": [
    "def squared_err(org, prd):\n",
    "    return sum((org-prd)**2)"
   ]
  },
  {
   "cell_type": "code",
   "execution_count": 27,
   "metadata": {},
   "outputs": [],
   "source": [
    "def coeff_of_determination(org, prd):\n",
    "    mean_org = np.mean(org)\n",
    "    mean_prd = [mean_org for y in org]\n",
    "    squared_error_regr = squared_err(org, prd)\n",
    "    print squared_error_regr \n",
    "    \n",
    "    squared_error_y_mean = squared_err(org, mean_prd)\n",
    "    print squared_error_y_mean\n",
    "    \n",
    "    return 1 - (squared_error_regr / squared_error_y_mean)"
   ]
  },
  {
   "cell_type": "code",
   "execution_count": 28,
   "metadata": {},
   "outputs": [
    {
     "data": {
      "text/plain": [
       "11174.607899885657"
      ]
     },
     "execution_count": 28,
     "metadata": {},
     "output_type": "execute_result"
    }
   ],
   "source": [
    "squared_err(y_test, y_pred)"
   ]
  },
  {
   "cell_type": "code",
   "execution_count": 29,
   "metadata": {},
   "outputs": [
    {
     "name": "stdout",
     "output_type": "stream",
     "text": [
      "11174.607899885657\n",
      "12212.123812963167\n"
     ]
    },
    {
     "data": {
      "text/plain": [
       "0.08495786064469701"
      ]
     },
     "execution_count": 29,
     "metadata": {},
     "output_type": "execute_result"
    }
   ],
   "source": [
    "coeff_of_determination(y_test, y_pred)"
   ]
  },
  {
   "cell_type": "code",
   "execution_count": 30,
   "metadata": {},
   "outputs": [
    {
     "name": "stdout",
     "output_type": "stream",
     "text": [
      "0.22259189091256742 0.222591890913\n",
      "0.43929314110690176 0.439293141107\n",
      "0.04891947392521019 0.0489194739252\n",
      "0.1775831411290315 0.177583141129\n",
      "0.3745863597633994 0.374586359763\n",
      "0.18622970288106266 0.186229702881\n",
      "-0.008056414140742818 -0.00805641414074\n",
      "-0.7945841168919336 -0.794584116892\n",
      "0.09932634237718233 0.0993263423772\n",
      "-0.14094336722024664 -0.14094336722\n",
      "0.22230233059777021 0.222302330598\n"
     ]
    }
   ],
   "source": [
    "i = 0\n",
    "for act, pred in zip(y_train_pred, y_train_pred.tolist()):\n",
    "    if i <= 10:\n",
    "        i += 1\n",
    "        print act, pred"
   ]
  },
  {
   "cell_type": "code",
   "execution_count": 31,
   "metadata": {},
   "outputs": [
    {
     "name": "stdout",
     "output_type": "stream",
     "text": [
      "-12.809436246883383\n",
      "0.7500369178942572\n"
     ]
    }
   ],
   "source": [
    "print np.min(y_test)\n",
    "print np.max(y_test)"
   ]
  },
  {
   "cell_type": "code",
   "execution_count": 32,
   "metadata": {},
   "outputs": [
    {
     "name": "stdout",
     "output_type": "stream",
     "text": [
      "-12.258895161500153\n",
      "1.0309276572161523\n"
     ]
    }
   ],
   "source": [
    "print np.min(y_pred)\n",
    "print np.max(y_pred)"
   ]
  },
  {
   "cell_type": "code",
   "execution_count": 33,
   "metadata": {},
   "outputs": [],
   "source": [
    "# MSE without dropping nan from predictor\n",
    "# Mean squared error: 47.72\n",
    "# Variance score: 0.08\n"
   ]
  },
  {
   "cell_type": "code",
   "execution_count": 34,
   "metadata": {
    "scrolled": false
   },
   "outputs": [
    {
     "name": "stdout",
     "output_type": "stream",
     "text": [
      "Mean squared error: 0.87\n",
      "Variance score: 0.09\n"
     ]
    },
    {
     "data": {
      "image/png": "[encoded data removed]",
      "text/plain": [
       "<Figure size 432x288 with 1 Axes>"
      ]
     },
     "metadata": {},
     "output_type": "display_data"
    }
   ],
   "source": [
    "import math\n",
    "\n",
    "# Create linear regression object\n",
    "regr = linear_model.ElasticNet(normalize=False, alpha=0.001, fit_intercept=False)\n",
    "\n",
    "y_traint = y_train\n",
    "y_testt = y_test\n",
    "\n",
    "# Train the model using the training sets\n",
    "regr.fit(X_train, y_traint)\n",
    "\n",
    "\n",
    "\n",
    "y_train_pred = regr.predict(X_train)\n",
    "\n",
    "# Make predictions using the testing set\n",
    "y_pred = regr.predict(X_test)\n",
    "\n",
    "# The mean squared error\n",
    "print(\"Mean squared error: %.2f\"\n",
    "      % mean_squared_error(y_testt, y_pred))\n",
    "# Explained variance score: 1 is perfect prediction\n",
    "print('Variance score: %.2f' % r2_score(y_testt, y_pred))\n",
    "\n",
    "# Plot the residuals\n",
    "plt.scatter(y_traint, y_traint-y_train_pred, c='b', marker='o', alpha=0.5)\n",
    "plt.scatter(y_testt, y_testt-y_pred, c='g', marker='s', alpha=0.5)\n",
    "plt.hlines(y=0, xmin=0, xmax=10, color='r')\n",
    "plt.show()"
   ]
  },
  {
   "cell_type": "code",
   "execution_count": 35,
   "metadata": {},
   "outputs": [
    {
     "name": "stdout",
     "output_type": "stream",
     "text": [
      "-12.809436246883383\n",
      "0.7500369178942572\n"
     ]
    }
   ],
   "source": [
    "print np.min(y_test)\n",
    "print np.max(y_test)"
   ]
  },
  {
   "cell_type": "code",
   "execution_count": 36,
   "metadata": {},
   "outputs": [
    {
     "name": "stdout",
     "output_type": "stream",
     "text": [
      "-12.809436246883383\n",
      "0.7500369178942572\n"
     ]
    }
   ],
   "source": [
    "print np.min(y_train)\n",
    "print np.max(y_train)"
   ]
  },
  {
   "cell_type": "code",
   "execution_count": 37,
   "metadata": {},
   "outputs": [
    {
     "name": "stdout",
     "output_type": "stream",
     "text": [
      "Mean squared error: 0.87\n",
      "Variance score: 0.08\n"
     ]
    },
    {
     "data": {
      "image/png": "[encoded data removed]",
      "text/plain": [
       "<Figure size 432x288 with 1 Axes>"
      ]
     },
     "metadata": {},
     "output_type": "display_data"
    }
   ],
   "source": [
    "import math\n",
    "\n",
    "# Create linear regression object\n",
    "# regr = linear_model.ElasticNet(normalize=True, alpha=0.05, fit_intercept=True)\n",
    "\n",
    "# y_traint = np.array(map(lambda x: math.log(x+1), y_train))\n",
    "# y_testt = np.array(map(lambda x: math.log(x+1), y_test))\n",
    "\n",
    "y_traint = y_train\n",
    "y_traint_var = np.var(y_traint)\n",
    "y_traint_weights = np.array(map(lambda x: 1/y_traint_var, y_traint))\n",
    "\n",
    "y_testt = y_test\n",
    "y_testt_var = np.var(y_testt)\n",
    "y_testt_weights = np.array(map(lambda x: 1/y_testt_var, y_testt))\n",
    "\n",
    "\n",
    "regr = linear_model.LinearRegression(fit_intercept=True, normalize=False)\n",
    "\n",
    "\n",
    "# Train the model using the training sets\n",
    "regr.fit(X_train, y_traint, sample_weight=y_traint_weights)\n",
    "\n",
    "\n",
    "\n",
    "y_train_pred = map(lambda x: round(x, 8), regr.predict(X_train))\n",
    "\n",
    "# Make predictions using the testing set\n",
    "y_pred = map(lambda x: round(x, 8), regr.predict(X_test))\n",
    "\n",
    "# The mean squared error\n",
    "print(\"Mean squared error: %.2f\"\n",
    "      % mean_squared_error(y_testt, y_pred))\n",
    "# Explained variance score: 1 is perfect prediction\n",
    "print('Variance score: %.2f' % r2_score(y_testt, y_pred))\n",
    "\n",
    "# Plot the residuals\n",
    "plt.scatter(y_traint, y_traint-y_train_pred, c='b', marker='o', alpha=0.5)\n",
    "plt.scatter(y_testt, y_testt-y_pred, c='g', marker='s', alpha=0.5)\n",
    "plt.hlines(y=0, xmin=0, xmax=10, color='r')\n",
    "plt.show()"
   ]
  },
  {
   "cell_type": "code",
   "execution_count": 38,
   "metadata": {},
   "outputs": [],
   "source": [
    "#  The bias and heteroscadasticity is epic in the redisual plot\n",
    "# Let's transform the dependent variable\n"
   ]
  },
  {
   "cell_type": "code",
   "execution_count": 39,
   "metadata": {},
   "outputs": [
    {
     "name": "stdout",
     "output_type": "stream",
     "text": [
      "-0.334720935287954 0.13927216\n",
      "-0.0635314719924012 -0.23588336\n",
      "-2.7754261049479294 -0.27854043\n",
      "-0.0635314719924012 0.1378594\n",
      "-0.334720935287954 0.02927649\n",
      "0.7500369178942572 0.29308886\n",
      "0.7500369178942572 -0.27893277\n",
      "0.6144421862464808 0.40177045\n",
      "-0.334720935287954 -0.06194469\n",
      "0.47884745459870437 0.08512989\n",
      "0.7500369178942572 0.44611205\n",
      "0.47884745459870437 -0.03422951\n",
      "-0.0635314719924012 -0.04519153\n",
      "0.7500369178942572 -0.16301598\n",
      "0.0720632596553752 0.06246038\n",
      "0.7500369178942572 0.11469801\n",
      "-0.6059103985835068 -0.26996869\n",
      "0.47884745459870437 0.2095928\n",
      "0.7500369178942572 0.67787559\n",
      "0.6144421862464808 0.38780905\n"
     ]
    }
   ],
   "source": [
    "for i, j in zip(y_test[:20], y_pred[:20]): print i, j"
   ]
  },
  {
   "cell_type": "code",
   "execution_count": 40,
   "metadata": {},
   "outputs": [],
   "source": [
    "# With imputing by mean\n",
    "# Mean squared error: 18099081.99\n",
    "# Variance score: -371456.56"
   ]
  },
  {
   "cell_type": "code",
   "execution_count": 41,
   "metadata": {},
   "outputs": [
    {
     "name": "stdout",
     "output_type": "stream",
     "text": [
      "Mean squared error: 0.90\n",
      "Variance score: 0.06\n"
     ]
    }
   ],
   "source": [
    "from sklearn import neural_network\n",
    "\n",
    "# Create neural net object\n",
    "nn = neural_network.MLPRegressor(alpha=0.0001, warm_start=False, activation='relu', \\\n",
    "                                learning_rate='invscaling', solver='sgd', max_iter=10000, \n",
    "                                hidden_layer_sizes=(1000,20,100))\n",
    "\n",
    "# Train the model using the training sets\n",
    "nn.fit(X_train, y_train)\n",
    "\n",
    "y_train_pred = nn.predict(X_train)\n",
    "\n",
    "# Make predictions using the testing set\n",
    "y_pred = nn.predict(X_test)\n",
    "\n",
    "# The mean squared error\n",
    "print(\"Mean squared error: %.2f\"\n",
    "      % mean_squared_error(y_test.tolist(), y_pred))\n",
    "# Explained variance score: 1 is perfect prediction\n",
    "print('Variance score: %.2f' % r2_score(y_test.tolist(), y_pred))\n"
   ]
  },
  {
   "cell_type": "code",
   "execution_count": 42,
   "metadata": {},
   "outputs": [
    {
     "data": {
      "image/png": "[encoded data removed]",
      "text/plain": [
       "<Figure size 432x288 with 1 Axes>"
      ]
     },
     "metadata": {},
     "output_type": "display_data"
    }
   ],
   "source": [
    "# Plot the residuals\n",
    "plt.scatter(y_train, y_train-y_train_pred, c='b', marker='o', alpha=0.5)\n",
    "plt.scatter(y_test, y_test-y_pred, c='g', marker='s', alpha=0.5)\n",
    "plt.hlines(y=0, xmin=0, xmax=100, color='r')\n",
    "plt.show()"
   ]
  },
  {
   "cell_type": "code",
   "execution_count": 43,
   "metadata": {},
   "outputs": [
    {
     "name": "stdout",
     "output_type": "stream",
     "text": [
      "-0.334720935287954 -0.04684023640513879\n",
      "-0.0635314719924012 -0.12657395976792285\n",
      "-2.7754261049479294 -0.08612175470394484\n",
      "-0.0635314719924012 0.06986070372597084\n",
      "-0.334720935287954 0.09167898968343424\n",
      "0.7500369178942572 0.11712936052319683\n",
      "0.7500369178942572 -0.14473485891531918\n",
      "0.6144421862464808 0.06119505090426928\n",
      "-0.334720935287954 -0.06334165356561827\n",
      "0.47884745459870437 -0.09476724355890195\n",
      "0.7500369178942572 0.3282656320700243\n",
      "0.47884745459870437 -0.014124839460936012\n",
      "-0.0635314719924012 0.06292376957701036\n",
      "0.7500369178942572 -0.06939260908695377\n",
      "0.0720632596553752 0.0056284712422098315\n",
      "0.7500369178942572 0.07155575757070153\n",
      "-0.6059103985835068 -0.1457849699290944\n",
      "0.47884745459870437 0.1741388635645169\n",
      "0.7500369178942572 0.3987920097196238\n",
      "0.6144421862464808 0.1685074138736278\n"
     ]
    }
   ],
   "source": [
    "for i, j in zip(y_test[:20], y_pred[:20]): print i, j"
   ]
  }
 ],
 "metadata": {
  "kernelspec": {
   "display_name": "Python 2",
   "language": "python",
   "name": "python2"
  },
  "language_info": {
   "codemirror_mode": {
    "name": "ipython",
    "version": 2
   },
   "file_extension": ".py",
   "mimetype": "text/x-python",
   "name": "python",
   "nbconvert_exporter": "python",
   "pygments_lexer": "ipython2",
   "version": "2.7.14"
  }
 },
 "nbformat": 4,
 "nbformat_minor": 2
}
