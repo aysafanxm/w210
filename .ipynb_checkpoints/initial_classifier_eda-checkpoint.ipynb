{
 "cells": [
  {
   "cell_type": "code",
   "execution_count": 1,
   "metadata": {},
   "outputs": [],
   "source": [
    "# import numpy as np\n",
    "# from sklearn.preprocessing import Imputer\n",
    "\n",
    "# ratings = data['review_scores_rating']\n",
    "# imp = Imputer(missing_values=np.nan, strategy='mean', axis=1)\n",
    "# ratings = np.array(ratings).reshape(1, -1)\n",
    "# imp.fit(ratings)\n",
    "# ratings = imp.transform(ratings)\n",
    "# ratings.shape\n",
    "# sample_idxs = np.random.randint(ratings.shape[1], size=1000)\n",
    "# sample_idxs\n",
    "# np.take(ratings, sample_idxs)"
   ]
  },
  {
   "cell_type": "code",
   "execution_count": 2,
   "metadata": {},
   "outputs": [],
   "source": [
    "# import math\n",
    "# import matplotlib.pyplot as plt\n",
    "# plt.hist(np.take(ratings, sample_idxs))\n",
    "# len(data.columns)\n",
    "# len(data.sample(1).values[0])\n",
    "# for k, v in zip(data.columns, data.sample(1).values[0]): print k + ': ' + str(v)"
   ]
  },
  {
   "cell_type": "code",
   "execution_count": 3,
   "metadata": {},
   "outputs": [],
   "source": [
    "import pandas as pd"
   ]
  },
  {
   "cell_type": "code",
   "execution_count": 4,
   "metadata": {
    "scrolled": false
   },
   "outputs": [],
   "source": [
    "all_data = pd.read_csv('./data/review_features.csv', low_memory=False)"
   ]
  },
  {
   "cell_type": "code",
   "execution_count": 5,
   "metadata": {
    "scrolled": false
   },
   "outputs": [
    {
     "name": "stdout",
     "output_type": "stream",
     "text": [
      "['bathrooms', 'host_has_profile_pic', 'cancellation_policy', 'host_neighbourhood', 'host_acceptance_rate', 'property_type', 'host_location', 'space', 'zipcode', 'host_since', 'host_listings_count', 'bedrooms', 'host_response_rate', 'host_about', 'calculated_host_listings_count', 'interaction', 'name', 'license', 'host_response_time', 'beds', 'cleaning_fee', 'host_name', 'guests_included', 'host_total_listings_count']\n"
     ]
    }
   ],
   "source": [
    "data = all_data.sample(20000, random_state=1234)\n",
    "cols_to_drop = ['access', 'amenities_', 'description', \\\n",
    "               'house_rules', 'id', 'host_verifications', 'last_review', 'last_scraped', \\\n",
    "               'market', 'neighborhood_overview', 'neighbourhood', 'neighbourhood_cleansed', \\\n",
    "               'neighbourhood_group_cleansed', 'notes', 'street', 'summary', 'transit', \\\n",
    "               'Unnamed: 0', 'first_review', 'calendar_last_scraped', 'calendar_updated', \n",
    "               'review_scores_accuracy', 'review_scores_checkin', 'review_scores_cleanliness', \\\n",
    "                'review_scores_communication', 'review_scores_location']\n",
    "data.loc[:, cols_to_drop]\n",
    "data = data.drop(cols_to_drop, axis=1)\n",
    "\n",
    "data = data.replace('f', 0)\n",
    "data = data.replace('t', 1)\n",
    "data = data.replace(r'[\\$,]','', regex=True)\n",
    "# data['review_scores_rating']\n",
    "\n",
    "\n",
    "# Get a list of non-numeric columns so we can drop them\n",
    "from collections import defaultdict\n",
    "\n",
    "non_numeric_columns = defaultdict(int)\n",
    "\n",
    "for d in data.values:\n",
    "    for k, v in zip(data.columns, d):\n",
    "        if 'Mission' == v:\n",
    "            print k, v\n",
    "        \n",
    "        try: \n",
    "            float(v)\n",
    "        except Exception as e:\n",
    "            non_numeric_columns[k] += 1\n",
    "\n",
    "print non_numeric_columns.keys()\n",
    "data = data.drop(non_numeric_columns.keys(), axis=1)"
   ]
  },
  {
   "cell_type": "code",
   "execution_count": 6,
   "metadata": {},
   "outputs": [
    {
     "data": {
      "text/plain": [
       "['reviews_per_month',\n",
       " 'number_of_reviews',\n",
       " 'review_scores_value',\n",
       " 'review_scores_rating']"
      ]
     },
     "execution_count": 6,
     "metadata": {},
     "output_type": "execute_result"
    }
   ],
   "source": [
    "review_columns = defaultdict(int)\n",
    "for c in data.columns:\n",
    "    if 'review' in c:\n",
    "        review_columns[c] += 1\n",
    "review_columns.keys()"
   ]
  },
  {
   "cell_type": "code",
   "execution_count": 27,
   "metadata": {},
   "outputs": [],
   "source": [
    "dependent_variable = 'number_of_reviews'"
   ]
  },
  {
   "cell_type": "code",
   "execution_count": 28,
   "metadata": {},
   "outputs": [],
   "source": [
    "# Drop missing values from depedent variable\n",
    "data = data.dropna(subset=[dependent_variable])"
   ]
  },
  {
   "cell_type": "code",
   "execution_count": 29,
   "metadata": {},
   "outputs": [],
   "source": [
    "y = data[dependent_variable]\n",
    "X = data.drop(review_columns.keys(), axis=1)"
   ]
  },
  {
   "cell_type": "code",
   "execution_count": 48,
   "metadata": {},
   "outputs": [],
   "source": [
    "# Test for collinearity\n",
    "\n",
    "collinear = X.corr()"
   ]
  },
  {
   "cell_type": "code",
   "execution_count": 50,
   "metadata": {},
   "outputs": [],
   "source": [
    "s = collinear.unstack()\n",
    "so = s.sort_values(kind='quicksort')"
   ]
  },
  {
   "cell_type": "code",
   "execution_count": 55,
   "metadata": {},
   "outputs": [
    {
     "data": {
      "text/plain": [
       "room_type_entire_home/apt                             room_type_private_room                                 -0.842125\n",
       "room_type_private_room                                room_type_entire_home/apt                              -0.842125\n",
       "bed_type_pull_out_sofa                                bed_type_real_bed                                      -0.524393\n",
       "bed_type_real_bed                                     bed_type_pull_out_sofa                                 -0.524393\n",
       "bed_type_futon                                        bed_type_real_bed                                      -0.500724\n",
       "bed_type_real_bed                                     bed_type_futon                                         -0.500724\n",
       "amenities_translation_missing:_en.hosting_amenity_49  amenities_family/kid_friendly                          -0.375642\n",
       "amenities_family/kid_friendly                         amenities_translation_missing:_en.hosting_amenity_49   -0.375642\n",
       "room_type_private_room                                is_business_travel_ready                               -0.360147\n",
       "is_business_travel_ready                              room_type_private_room                                 -0.360147\n",
       "dtype: float64"
      ]
     },
     "execution_count": 55,
     "metadata": {},
     "output_type": "execute_result"
    }
   ],
   "source": [
    "so[:10]"
   ]
  },
  {
   "cell_type": "code",
   "execution_count": 58,
   "metadata": {},
   "outputs": [
    {
     "data": {
      "text/plain": [
       "experiences_offered_none  amenities_laptop_friendly_workspace                    NaN\n",
       "                          amenities_lock_on_bedroom_door                         NaN\n",
       "                          amenities_lockbox                                      NaN\n",
       "                          amenities_long_term_stays_allowed                      NaN\n",
       "                          amenities_luggage_dropoff_allowed                      NaN\n",
       "                          amenities_memory_foam_mattress                         NaN\n",
       "                          amenities_microwave                                    NaN\n",
       "                          amenities_mini_fridge                                  NaN\n",
       "                          amenities_mountain_view                                NaN\n",
       "                          amenities_mudroom                                      NaN\n",
       "                          amenities_murphy_bed                                   NaN\n",
       "                          amenities_netflix                                      NaN\n",
       "                          amenities_other                                        NaN\n",
       "                          amenities_other_pet(s)                                 NaN\n",
       "                          amenities_outdoor_parking                              NaN\n",
       "                          amenities_outdoor_seating                              NaN\n",
       "                          amenities_outlet_covers                                NaN\n",
       "                          amenities_oven                                         NaN\n",
       "                          amenities_pack_’n_play/travel_crib                     NaN\n",
       "                          amenities_paid_parking_off_premises                    NaN\n",
       "                          amenities_paid_parking_on_premises                     NaN\n",
       "                          amenities_path_to_entrance_lit_at_night                NaN\n",
       "                          amenities_patio_or_balcony                             NaN\n",
       "                          amenities_pets_allowed                                 NaN\n",
       "                          amenities_pets_live_on_this_property                   NaN\n",
       "                          amenities_pillow_top_mattress                          NaN\n",
       "                          amenities_pocket_wifi                                  NaN\n",
       "                          amenities_pool                                         NaN\n",
       "                          amenities_printer                                      NaN\n",
       "                          amenities_private_bathroom                             NaN\n",
       "                                                                                  ..\n",
       "                          amenities_translation_missing:_en.hosting_amenity_50   NaN\n",
       "                          amenities_tub_with_shower_bench                        NaN\n",
       "                          amenities_tv                                           NaN\n",
       "                          amenities_walk_in_shower                               NaN\n",
       "                          amenities_warming_drawer                               NaN\n",
       "                          amenities_washer                                       NaN\n",
       "                          amenities_washer_/_dryer                               NaN\n",
       "                          amenities_waterfront                                   NaN\n",
       "                          amenities_well_lit_path_to_entrance                    NaN\n",
       "                          amenities_wheelchair_accessible                        NaN\n",
       "                          amenities_wide_clearance_to_bed                        NaN\n",
       "                          amenities_wide_clearance_to_shower                     NaN\n",
       "                          amenities_wide_clearance_to_shower_&_toilet            NaN\n",
       "                          amenities_wide_clearance_to_shower_and_toilet          NaN\n",
       "                          amenities_wide_doorway                                 NaN\n",
       "                          amenities_wide_entryway                                NaN\n",
       "                          amenities_wide_hallway_clearance                       NaN\n",
       "                          amenities_wifi                                         NaN\n",
       "                          amenities_window_guards                                NaN\n",
       "                          amenities_wine_cooler                                  NaN\n",
       "                          amenities_wireless_internet                            NaN\n",
       "                          bed_type_airbed                                        NaN\n",
       "                          bed_type_couch                                         NaN\n",
       "                          bed_type_futon                                         NaN\n",
       "                          bed_type_pull_out_sofa                                 NaN\n",
       "                          bed_type_real_bed                                      NaN\n",
       "                          room_type_entire_home/apt                              NaN\n",
       "                          room_type_private_room                                 NaN\n",
       "                          room_type_shared_room                                  NaN\n",
       "                          experiences_offered_none                               NaN\n",
       "Length: 100, dtype: float64"
      ]
     },
     "execution_count": 58,
     "metadata": {},
     "output_type": "execute_result"
    }
   ],
   "source": []
  },
  {
   "cell_type": "code",
   "execution_count": 30,
   "metadata": {},
   "outputs": [],
   "source": [
    "for c in X.columns:\n",
    "    if 'review' in c:\n",
    "        print c"
   ]
  },
  {
   "cell_type": "code",
   "execution_count": 31,
   "metadata": {},
   "outputs": [],
   "source": [
    "from sklearn.model_selection import train_test_split\n",
    "\n",
    "\n",
    "X_train, X_test, y_train, y_test = train_test_split(X, \n",
    "                                                    y, \n",
    "                                                    test_size=0.33, \n",
    "                                                    random_state=1234)"
   ]
  },
  {
   "cell_type": "code",
   "execution_count": 32,
   "metadata": {},
   "outputs": [],
   "source": [
    "import numpy as np\n",
    "from sklearn.preprocessing import Imputer\n",
    "imp = Imputer(missing_values=np.nan, strategy='median', axis=1)\n",
    "imp.fit(X_train)\n",
    "X_train = imp.transform(X_train)\n",
    "\n",
    "imp = Imputer(missing_values=np.nan, strategy='median', axis=1)\n",
    "imp.fit(X_test)\n",
    "X_test = imp.transform(X_test)"
   ]
  },
  {
   "cell_type": "code",
   "execution_count": 33,
   "metadata": {},
   "outputs": [],
   "source": [
    "y_train = np.array(y_train).reshape(1, -1)\n",
    "imp = Imputer(missing_values=np.nan, strategy='median', axis=1)\n",
    "imp.fit(y_train)\n",
    "y_train = imp.transform(y_train)\n",
    "# y_train = y_train.reshape(-1, 1)\n",
    "y_train = y_train.ravel()\n",
    "\n",
    "y_test = np.array(y_test).reshape(1, -1)\n",
    "imp = Imputer(missing_values=np.nan, strategy='median', axis=1)\n",
    "imp.fit(y_test)\n",
    "y_test = imp.transform(y_test)\n",
    "# y_test = y_test.reshape(-1, 1)\n",
    "y_test = y_test.ravel()"
   ]
  },
  {
   "cell_type": "code",
   "execution_count": 34,
   "metadata": {},
   "outputs": [
    {
     "name": "stdout",
     "output_type": "stream",
     "text": [
      "(10461, 228)\n",
      "(10461,)\n"
     ]
    }
   ],
   "source": [
    "print X_train.shape\n",
    "print y_train.ravel().shape"
   ]
  },
  {
   "cell_type": "code",
   "execution_count": 35,
   "metadata": {
    "scrolled": true
   },
   "outputs": [
    {
     "name": "stdout",
     "output_type": "stream",
     "text": [
      "Mean squared error: 2049.26\n",
      "Variance score: 0.21\n"
     ]
    },
    {
     "data": {
      "image/png": "[encoded data removed]",
      "text/plain": [
       "<Figure size 432x288 with 1 Axes>"
      ]
     },
     "metadata": {},
     "output_type": "display_data"
    }
   ],
   "source": [
    "import matplotlib.pyplot as plt\n",
    "import numpy as np\n",
    "from sklearn import datasets, linear_model\n",
    "from sklearn.metrics import mean_squared_error, r2_score, accuracy_score, make_scorer, roc_auc_score\n",
    "\n",
    "# Create linear regression object\n",
    "regr = linear_model.Lasso()\n",
    "\n",
    "# Train the model using the training sets\n",
    "regr.fit(X_train, y_train)\n",
    "\n",
    "y_train_pred = map(lambda x: round(x, 0), regr.predict(X_train))\n",
    "\n",
    "# Make predictions using the testing set\n",
    "y_pred = map(lambda x: round(x, 0), regr.predict(X_test))\n",
    "\n",
    "# The mean squared error\n",
    "print(\"Mean squared error: %.2f\"\n",
    "      % mean_squared_error(y_test, y_pred))\n",
    "# Explained variance score: 1 is perfect prediction\n",
    "print('Variance score: %.2f' % r2_score(y_test, y_pred))\n",
    "\n",
    "# Plot the residuals\n",
    "plt.scatter(y_train, y_train-y_train_pred, c='b', marker='o', alpha=0.5)\n",
    "plt.scatter(y_test, y_test-y_pred, c='g', marker='s', alpha=0.5)\n",
    "plt.hlines(y=0, xmin=0, xmax=100, color='r')\n",
    "plt.show()"
   ]
  },
  {
   "cell_type": "code",
   "execution_count": 16,
   "metadata": {},
   "outputs": [],
   "source": [
    "# MSE without dropping nan from predictor\n",
    "# Mean squared error: 47.72\n",
    "# Variance score: 0.08\n"
   ]
  },
  {
   "cell_type": "code",
   "execution_count": 36,
   "metadata": {
    "scrolled": false
   },
   "outputs": [
    {
     "name": "stdout",
     "output_type": "stream",
     "text": [
      "Mean squared error: 1.76\n",
      "Variance score: -0.00\n"
     ]
    },
    {
     "data": {
      "image/png": "[encoded data removed]",
      "text/plain": [
       "<Figure size 432x288 with 1 Axes>"
      ]
     },
     "metadata": {},
     "output_type": "display_data"
    }
   ],
   "source": [
    "import math\n",
    "\n",
    "# Create linear regression object\n",
    "regr = linear_model.ElasticNet(normalize=True, alpha=0.05, fit_intercept=True)\n",
    "\n",
    "y_traint = np.array(map(lambda x: math.log(x+1), y_train))\n",
    "y_testt = np.array(map(lambda x: math.log(x+1), y_test))\n",
    "\n",
    "# Train the model using the training sets\n",
    "regr.fit(X_train, y_traint)\n",
    "\n",
    "\n",
    "\n",
    "y_train_pred = map(lambda x: round(x, 8), regr.predict(X_train))\n",
    "\n",
    "# Make predictions using the testing set\n",
    "y_pred = map(lambda x: round(x, 8), regr.predict(X_test))\n",
    "\n",
    "# The mean squared error\n",
    "print(\"Mean squared error: %.2f\"\n",
    "      % mean_squared_error(y_testt, y_pred))\n",
    "# Explained variance score: 1 is perfect prediction\n",
    "print('Variance score: %.2f' % r2_score(y_testt, y_pred))\n",
    "\n",
    "# Plot the residuals\n",
    "plt.scatter(y_traint, y_traint-y_train_pred, c='b', marker='o', alpha=0.5)\n",
    "plt.scatter(y_testt, y_testt-y_pred, c='g', marker='s', alpha=0.5)\n",
    "plt.hlines(y=0, xmin=0, xmax=10, color='r')\n",
    "plt.show()"
   ]
  },
  {
   "cell_type": "code",
   "execution_count": 18,
   "metadata": {},
   "outputs": [
    {
     "name": "stdout",
     "output_type": "stream",
     "text": [
      "20.0\n",
      "100.0\n"
     ]
    }
   ],
   "source": [
    "print np.min(y_test)\n",
    "print np.max(y_test)"
   ]
  },
  {
   "cell_type": "code",
   "execution_count": 19,
   "metadata": {},
   "outputs": [
    {
     "name": "stdout",
     "output_type": "stream",
     "text": [
      "0.0\n",
      "100.0\n"
     ]
    }
   ],
   "source": [
    "print np.min(y_train)\n",
    "print np.max(y_train)"
   ]
  },
  {
   "cell_type": "code",
   "execution_count": 37,
   "metadata": {},
   "outputs": [
    {
     "name": "stdout",
     "output_type": "stream",
     "text": [
      "Mean squared error: 2671663860442851021160448.00\n",
      "Variance score: -1029487733935347859456.00\n"
     ]
    },
    {
     "data": {
      "image/png": "[encoded data removed]",
      "text/plain": [
       "<Figure size 432x288 with 1 Axes>"
      ]
     },
     "metadata": {},
     "output_type": "display_data"
    }
   ],
   "source": [
    "import math\n",
    "\n",
    "# Create linear regression object\n",
    "# regr = linear_model.ElasticNet(normalize=True, alpha=0.05, fit_intercept=True)\n",
    "\n",
    "# y_traint = np.array(map(lambda x: math.log(x+1), y_train))\n",
    "# y_testt = np.array(map(lambda x: math.log(x+1), y_test))\n",
    "\n",
    "y_traint = np.array(map(lambda x: x+1, y_train))\n",
    "y_traint_var = np.var(y_traint)\n",
    "y_traint_weights = np.array(map(lambda x: (x/y_traint_var), y_traint))\n",
    "\n",
    "y_testt = np.array(map(lambda x: x+1, y_test))\n",
    "y_testt_var = np.var(y_testt)\n",
    "y_testt_weights = np.array(map(lambda x: (x/y_testt_var), y_testt))\n",
    "\n",
    "\n",
    "regr = linear_model.LinearRegression(fit_intercept=True, normalize=True)\n",
    "\n",
    "\n",
    "# Train the model using the training sets\n",
    "regr.fit(X_train, y_traint, sample_weight=y_traint_weights)\n",
    "\n",
    "\n",
    "\n",
    "y_train_pred = map(lambda x: round(x, 8), regr.predict(X_train))\n",
    "\n",
    "# Make predictions using the testing set\n",
    "y_pred = map(lambda x: round(x, 8), regr.predict(X_test))\n",
    "\n",
    "# The mean squared error\n",
    "print(\"Mean squared error: %.2f\"\n",
    "      % mean_squared_error(y_testt, y_pred))\n",
    "# Explained variance score: 1 is perfect prediction\n",
    "print('Variance score: %.2f' % r2_score(y_testt, y_pred))\n",
    "\n",
    "# Plot the residuals\n",
    "plt.scatter(y_traint, y_traint-y_train_pred, c='b', marker='o', alpha=0.5)\n",
    "plt.scatter(y_testt, y_testt-y_pred, c='g', marker='s', alpha=0.5)\n",
    "plt.hlines(y=0, xmin=0, xmax=10, color='r')\n",
    "plt.show()"
   ]
  },
  {
   "cell_type": "code",
   "execution_count": 21,
   "metadata": {},
   "outputs": [],
   "source": [
    "#  The bias and heteroscadasticity is epic in the redisual plot\n",
    "# Let's transform the dependent variable\n"
   ]
  },
  {
   "cell_type": "code",
   "execution_count": 38,
   "metadata": {},
   "outputs": [
    {
     "name": "stdout",
     "output_type": "stream",
     "text": [
      "22.0 27.58389016\n",
      "51.0 63.18177831\n",
      "21.0 9.34062265\n",
      "4.0 74.40526075\n",
      "16.0 7.21622063\n",
      "20.0 16.19594802\n",
      "9.0 21.51248561\n",
      "14.0 81.28997042\n",
      "25.0 -90.59521634\n",
      "2.0 45.192333\n",
      "1.0 45.5399239\n",
      "4.0 7.59244161\n",
      "7.0 13.21905331\n",
      "32.0 95.20588998\n",
      "8.0 30.35307527\n",
      "2.0 14.81224403\n",
      "28.0 51.80210465\n",
      "4.0 41.70597081\n",
      "14.0 138.96980751\n",
      "1.0 19.64837888\n"
     ]
    }
   ],
   "source": [
    "for i, j in zip(y_test[:20], y_pred[:20]): print i, j"
   ]
  },
  {
   "cell_type": "code",
   "execution_count": 23,
   "metadata": {},
   "outputs": [],
   "source": [
    "# With imputing by mean\n",
    "# Mean squared error: 18099081.99\n",
    "# Variance score: -371456.56"
   ]
  },
  {
   "cell_type": "code",
   "execution_count": 39,
   "metadata": {},
   "outputs": [
    {
     "name": "stdout",
     "output_type": "stream",
     "text": [
      "Mean squared error: 2599.91\n",
      "Variance score: -0.00\n"
     ]
    }
   ],
   "source": [
    "from sklearn import neural_network\n",
    "\n",
    "# Create neural net object\n",
    "nn = neural_network.MLPRegressor(alpha=0.7, warm_start=False, activation='logistic', \\\n",
    "                                learning_rate='invscaling', solver='sgd', max_iter=1000)\n",
    "\n",
    "# Train the model using the training sets\n",
    "nn.fit(X_train, y_train)\n",
    "\n",
    "y_train_pred = map(lambda x: round(x, 0), nn.predict(X_train))\n",
    "\n",
    "# Make predictions using the testing set\n",
    "y_pred = map(lambda x: round(x, 0), nn.predict(X_test))\n",
    "\n",
    "# The mean squared error\n",
    "print(\"Mean squared error: %.2f\"\n",
    "      % mean_squared_error(y_test.tolist(), y_pred))\n",
    "# Explained variance score: 1 is perfect prediction\n",
    "print('Variance score: %.2f' % r2_score(y_test.tolist(), y_pred))\n"
   ]
  },
  {
   "cell_type": "code",
   "execution_count": 40,
   "metadata": {},
   "outputs": [
    {
     "data": {
      "image/png": "[encoded data removed]",
      "text/plain": [
       "<Figure size 432x288 with 1 Axes>"
      ]
     },
     "metadata": {},
     "output_type": "display_data"
    }
   ],
   "source": [
    "# Plot the residuals\n",
    "plt.scatter(y_train, y_train-y_train_pred, c='b', marker='o', alpha=0.5)\n",
    "plt.scatter(y_test, y_test-y_pred, c='g', marker='s', alpha=0.5)\n",
    "plt.hlines(y=0, xmin=0, xmax=100, color='r')\n",
    "plt.show()"
   ]
  },
  {
   "cell_type": "code",
   "execution_count": 41,
   "metadata": {},
   "outputs": [
    {
     "name": "stdout",
     "output_type": "stream",
     "text": [
      "22.0 33.0\n",
      "51.0 33.0\n",
      "21.0 33.0\n",
      "4.0 33.0\n",
      "16.0 33.0\n",
      "20.0 33.0\n",
      "9.0 33.0\n",
      "14.0 33.0\n",
      "25.0 33.0\n",
      "2.0 33.0\n",
      "1.0 33.0\n",
      "4.0 33.0\n",
      "7.0 33.0\n",
      "32.0 33.0\n",
      "8.0 33.0\n",
      "2.0 33.0\n",
      "28.0 33.0\n",
      "4.0 33.0\n",
      "14.0 33.0\n",
      "1.0 33.0\n"
     ]
    }
   ],
   "source": [
    "for i, j in zip(y_test[:20], y_pred[:20]): print i, j"
   ]
  }
 ],
 "metadata": {
  "kernelspec": {
   "display_name": "Python 2",
   "language": "python",
   "name": "python2"
  },
  "language_info": {
   "codemirror_mode": {
    "name": "ipython",
    "version": 2
   },
   "file_extension": ".py",
   "mimetype": "text/x-python",
   "name": "python",
   "nbconvert_exporter": "python",
   "pygments_lexer": "ipython2",
   "version": "2.7.14"
  }
 },
 "nbformat": 4,
 "nbformat_minor": 2
}
