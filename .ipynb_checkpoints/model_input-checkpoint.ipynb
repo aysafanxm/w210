{
 "cells": [
  {
   "cell_type": "code",
   "execution_count": 1,
   "metadata": {},
   "outputs": [],
   "source": [
    "import pandas as pd"
   ]
  },
  {
   "cell_type": "markdown",
   "metadata": {},
   "source": [
    "# Read column names"
   ]
  },
  {
   "cell_type": "code",
   "execution_count": 28,
   "metadata": {},
   "outputs": [],
   "source": [
    "def init_column_names():\n",
    "    num_cols = pd.read_csv('./data/numeric_columns.csv')\n",
    "    num_cols = num_cols.iloc[:,1:].columns\n",
    "    # print num_cols\n",
    "    \n",
    "    cat_cols = pd.read_csv('./data/categorical_columns.csv')\n",
    "    cat_cols = cat_cols.iloc[:,1:].columns\n",
    "    # print cat_cols\n",
    "    \n",
    "    amen_cols = pd.read_csv('./data/amenities_columns.csv')\n",
    "    amen_cols = amen_cols.iloc[:,1:].columns\n",
    "    # print amen_cols\n",
    "    \n",
    "    return (num_cols, cat_cols, amen_cols)\n",
    "\n",
    "NCOLS, CCOLS, ACOLS = init_column_names()"
   ]
  },
  {
   "cell_type": "code",
   "execution_count": 25,
   "metadata": {},
   "outputs": [],
   "source": [
    "def init_col_stats():\n",
    "    num_stats = pd.read_csv('./data/num_stats.csv', index_col=0)\n",
    "    cat_stats = pd.read_csv('./data/cat_stats.csv', index_col=0)  \n",
    "    amen_stats = pd.read_csv('./data/amen_stats.csv', index_col=0)\n",
    "    return num_stats, cat_stats, amen_stats\n",
    "\n",
    "NSTATS, CSTATS, ASTATS = init_col_stats()"
   ]
  },
  {
   "cell_type": "markdown",
   "metadata": {},
   "source": [
    "# Read Sample input data"
   ]
  },
  {
   "cell_type": "code",
   "execution_count": 33,
   "metadata": {
    "scrolled": true
   },
   "outputs": [],
   "source": [
    "def get_col_value(colname, input_df, stats):\n",
    "        res = None\n",
    "        if colname in input_df.columns:\n",
    "            res = input_df[colname]\n",
    "        else:\n",
    "            res = stats.loc['50%', colname]\n",
    "        return res\n",
    "\n",
    "def reformulate_input(inp):\n",
    "    num = pd.DataFrame(columns=NCOLS)\n",
    "    cat = pd.DataFrame(columns=CCOLS)\n",
    "    amen = pd.DataFrame(columns=ACOLS)\n",
    "    \n",
    "    for c in NCOLS:\n",
    "        num[c] = get_col_value(c, inp, NSTATS)\n",
    "    \n",
    "    num = normalize_numeric(num)\n",
    "    \n",
    "    for c in CCOLS:\n",
    "        cat[c] = get_col_value(c, inp, CSTATS)\n",
    "    \n",
    "    for c in ACOLS:\n",
    "        amen[c] = get_col_value(c, inp, ASTATS)\n",
    "\n",
    "    return pd.concat([num, cat, amen], axis=1)\n",
    "\n",
    "def normalize_numeric(df):\n",
    "    outdf = pd.DataFrame(columns=df.columns)\n",
    "    \n",
    "    for c in df.columns:\n",
    "        mmin = NSTATS.loc['min', c]\n",
    "        mmax = NSTATS.loc['max', c]\n",
    "        outdf[c] = (df[c] - 1. * mmin) / (mmax - mmin)\n",
    "    return outdf\n",
    "\n"
   ]
  },
  {
   "cell_type": "code",
   "execution_count": 34,
   "metadata": {},
   "outputs": [],
   "source": [
    "si = pd.read_csv('./data/sample_input.csv', encoding='utf8', dtype=float)\n",
    "rsi = reformulate_input(si)"
   ]
  },
  {
   "cell_type": "raw",
   "metadata": {},
   "source": []
  }
 ],
 "metadata": {
  "kernelspec": {
   "display_name": "Python 2",
   "language": "python",
   "name": "python2"
  },
  "language_info": {
   "codemirror_mode": {
    "name": "ipython",
    "version": 2
   },
   "file_extension": ".py",
   "mimetype": "text/x-python",
   "name": "python",
   "nbconvert_exporter": "python",
   "pygments_lexer": "ipython2",
   "version": "2.7.14"
  }
 },
 "nbformat": 4,
 "nbformat_minor": 2
}
