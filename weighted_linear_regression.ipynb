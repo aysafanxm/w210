{
 "cells": [
  {
   "cell_type": "code",
   "execution_count": 1,
   "metadata": {},
   "outputs": [],
   "source": [
    "%matplotlib inline"
   ]
  },
  {
   "cell_type": "code",
   "execution_count": 2,
   "metadata": {},
   "outputs": [],
   "source": [
    "import pandas as pd"
   ]
  },
  {
   "cell_type": "code",
   "execution_count": 3,
   "metadata": {
    "scrolled": false
   },
   "outputs": [],
   "source": [
    "all_data = pd.read_csv('./data/review_features.csv', low_memory=False)"
   ]
  },
  {
   "cell_type": "code",
   "execution_count": 97,
   "metadata": {
    "scrolled": false
   },
   "outputs": [
    {
     "name": "stdout",
     "output_type": "stream",
     "text": [
      "host_total_listings_count Mission\n",
      "host_total_listings_count Mission\n",
      "host_total_listings_count Mission\n",
      "['bathrooms', 'host_has_profile_pic', 'cancellation_policy', 'host_neighbourhood', 'host_acceptance_rate', 'property_type', 'host_location', 'space', 'zipcode', 'host_since', 'host_identity_verified', 'host_listings_count', 'bedrooms', 'host_response_rate', 'host_about', 'calculated_host_listings_count', 'interaction', 'name', 'license', 'host_response_time', 'beds', 'cleaning_fee', 'host_name', 'guests_included', 'host_total_listings_count']\n"
     ]
    }
   ],
   "source": [
    "data = all_data.sample(20000, random_state=1)\n",
    "cols_to_drop = ['access', 'amenities_', 'description', \\\n",
    "               'house_rules', 'id', 'host_verifications', 'last_review', 'last_scraped', \\\n",
    "               'market', 'neighborhood_overview', 'neighbourhood', 'neighbourhood_cleansed', \\\n",
    "               'neighbourhood_group_cleansed', 'notes', 'street', 'summary', 'transit', \\\n",
    "               'Unnamed: 0', 'first_review', 'calendar_last_scraped', 'calendar_updated', \n",
    "               'review_scores_accuracy', 'review_scores_checkin', 'review_scores_cleanliness', \\\n",
    "                'review_scores_communication', 'review_scores_location']\n",
    "data.loc[:, cols_to_drop]\n",
    "data = data.drop(cols_to_drop, axis=1)\n",
    "\n",
    "data = data.replace('f', 0)\n",
    "data = data.replace('t', 1)\n",
    "data = data.replace(r'[\\$,]','', regex=True)\n",
    "# data['review_scores_rating']\n",
    "\n",
    "\n",
    "# Get a list of non-numeric columns so we can drop them\n",
    "from collections import defaultdict\n",
    "\n",
    "non_numeric_columns = defaultdict(int)\n",
    "\n",
    "for d in data.values:\n",
    "    for k, v in zip(data.columns, d):\n",
    "        if 'Mission' == v:\n",
    "            print k, v\n",
    "        \n",
    "        try: \n",
    "            float(v)\n",
    "        except Exception as e:\n",
    "            non_numeric_columns[k] += 1\n",
    "\n",
    "print non_numeric_columns.keys()\n",
    "# data = data.drop(non_numeric_columns.keys(), axis=1)"
   ]
  },
  {
   "cell_type": "code",
   "execution_count": 98,
   "metadata": {},
   "outputs": [],
   "source": [
    "dependent_variable = 'review_scores_rating'"
   ]
  },
  {
   "cell_type": "code",
   "execution_count": 99,
   "metadata": {},
   "outputs": [],
   "source": [
    "# Drop missing values from depedent variable\n",
    "data = data.dropna(subset=[dependent_variable])"
   ]
  },
  {
   "cell_type": "code",
   "execution_count": 100,
   "metadata": {
    "scrolled": false
   },
   "outputs": [],
   "source": [
    "# read most correlated columns from csv, and drop them\n",
    "\n",
    "corr_cols_to_drop = pd.read_csv('./correlated_columns.csv', encoding='utf8').values.reshape(1,-1).tolist()[0]"
   ]
  },
  {
   "cell_type": "code",
   "execution_count": 101,
   "metadata": {},
   "outputs": [
    {
     "data": {
      "text/plain": [
       "['reviews_per_month',\n",
       " 'number_of_reviews',\n",
       " 'review_scores_value',\n",
       " 'review_scores_rating']"
      ]
     },
     "execution_count": 101,
     "metadata": {},
     "output_type": "execute_result"
    }
   ],
   "source": [
    "# drop review_ related columns\n",
    "review_columns = defaultdict(int)\n",
    "for c in data.columns:\n",
    "    if 'review' in c:\n",
    "        review_columns[c] += 1\n",
    "review_columns.keys()"
   ]
  },
  {
   "cell_type": "code",
   "execution_count": 102,
   "metadata": {},
   "outputs": [],
   "source": [
    "# Drop zipcode, longitude, latitude and such\n",
    "others = ['zipcode', 'latitude', 'longitude', 'experiences_offered_none']"
   ]
  },
  {
   "cell_type": "code",
   "execution_count": 103,
   "metadata": {},
   "outputs": [],
   "source": [
    "cols_to_drop = set(review_columns.keys()).union(non_numeric_columns.keys()).union(corr_cols_to_drop).union(others)\n",
    "# cols_to_drop"
   ]
  },
  {
   "cell_type": "code",
   "execution_count": 146,
   "metadata": {},
   "outputs": [],
   "source": [
    "# drop the columns that we do not need\n",
    "X = data.drop(cols_to_drop, axis=1)\n",
    "y = data[dependent_variable]"
   ]
  },
  {
   "cell_type": "code",
   "execution_count": 147,
   "metadata": {},
   "outputs": [
    {
     "data": {
      "text/plain": [
       "Index([u'accommodates', u'availability_365', u'availability_60',\n",
       "       u'extra_people', u'has_availability', u'host_id', u'host_is_superhost',\n",
       "       u'instant_bookable', u'is_business_travel_ready', u'is_location_exact',\n",
       "       ...\n",
       "       u'amenities_waterfront', u'amenities_well_lit_path_to_entrance',\n",
       "       u'amenities_wheelchair_accessible',\n",
       "       u'amenities_wide_clearance_to_shower_and_toilet', u'amenities_wifi',\n",
       "       u'amenities_window_guards', u'amenities_wireless_internet',\n",
       "       u'bed_type_airbed', u'bed_type_couch', u'room_type_shared_room'],\n",
       "      dtype='object', length=157)"
      ]
     },
     "execution_count": 147,
     "metadata": {},
     "output_type": "execute_result"
    }
   ],
   "source": [
    "X.columns"
   ]
  },
  {
   "cell_type": "code",
   "execution_count": 148,
   "metadata": {},
   "outputs": [],
   "source": [
    "# Double check that we don't see any columns that have \"review\" in them. \n",
    "for c in X.columns:\n",
    "    if 'review' in c:\n",
    "        print c"
   ]
  },
  {
   "cell_type": "code",
   "execution_count": 149,
   "metadata": {},
   "outputs": [
    {
     "name": "stdout",
     "output_type": "stream",
     "text": [
      "(15520, 157)\n",
      "(15520,)\n"
     ]
    }
   ],
   "source": [
    "# Impute missing values using median for both independent and dependent variables\n",
    "\n",
    "import numpy as np\n",
    "from sklearn.preprocessing import Imputer\n",
    "\n",
    "\n",
    "imp = Imputer(missing_values=np.nan, strategy='median', axis=1)\n",
    "imp.fit(X)\n",
    "X = imp.transform(X)\n",
    "\n",
    "imp = Imputer(missing_values=np.nan, strategy='median', axis=1)\n",
    "imp.fit(y)\n",
    "y = imp.transform(y.values.reshape(-1,1))\n",
    "y = y.ravel()\n",
    "\n",
    "print X.shape\n",
    "print y.shape\n"
   ]
  },
  {
   "cell_type": "code",
   "execution_count": 150,
   "metadata": {},
   "outputs": [],
   "source": [
    "y = np.log(y+1)"
   ]
  },
  {
   "cell_type": "code",
   "execution_count": 151,
   "metadata": {},
   "outputs": [],
   "source": [
    "# Divide each column by its variance\n",
    "\n",
    "x_var = X.var(axis=0)\n",
    "\n",
    "X = X / np.sqrt(x_var)"
   ]
  },
  {
   "cell_type": "code",
   "execution_count": 152,
   "metadata": {},
   "outputs": [],
   "source": [
    "# Scale the independent and dependent variables\n",
    "# Center the data around zero by subtracting the mean\n",
    "# Scale it to unit variance\n",
    "# This is helpful in PCA\n",
    "\n",
    "from sklearn.preprocessing import StandardScaler\n",
    "\n",
    "scaler = StandardScaler(copy=True, with_mean=True, with_std=True)\n",
    "scaler.fit(X)\n",
    "X = scaler.transform(X)\n",
    "\n",
    "scaler = StandardScaler(copy=True, with_mean=True, with_std=True)\n",
    "scaler.fit(y.reshape(-1,1))\n",
    "y = scaler.transform(y.reshape(-1,1))\n",
    "y = y.ravel()"
   ]
  },
  {
   "cell_type": "code",
   "execution_count": 153,
   "metadata": {},
   "outputs": [
    {
     "name": "stdout",
     "output_type": "stream",
     "text": [
      "(15520, 157)\n",
      "(15520,)\n"
     ]
    }
   ],
   "source": [
    "print X.shape\n",
    "print y.shape"
   ]
  },
  {
   "cell_type": "code",
   "execution_count": 122,
   "metadata": {},
   "outputs": [],
   "source": [
    "# Try PCA\n",
    "# from sklearn.decomposition import PCA, KernelPCA\n",
    "\n",
    "# pca = PCA(n_components=100)\n",
    "# X = pca.fit_transform(X)\n"
   ]
  },
  {
   "cell_type": "code",
   "execution_count": 154,
   "metadata": {},
   "outputs": [
    {
     "name": "stdout",
     "output_type": "stream",
     "text": [
      "(15520, 157)\n",
      "(15520,)\n"
     ]
    }
   ],
   "source": [
    "print X.shape\n",
    "print y.shape"
   ]
  },
  {
   "cell_type": "code",
   "execution_count": 158,
   "metadata": {},
   "outputs": [
    {
     "data": {
      "image/png": "[encoded data removed]",
      "text/plain": [
       "<Figure size 432x288 with 1 Axes>"
      ]
     },
     "metadata": {},
     "output_type": "display_data"
    }
   ],
   "source": [
    "import matplotlib.pyplot as plt\n",
    "y_lst = y.tolist()\n",
    "plt.hist(y_lst, bins=100)\n",
    "plt.show()"
   ]
  },
  {
   "cell_type": "code",
   "execution_count": 18,
   "metadata": {},
   "outputs": [],
   "source": [
    "# Divide each feature in X by its variance\n"
   ]
  },
  {
   "cell_type": "code",
   "execution_count": 125,
   "metadata": {},
   "outputs": [],
   "source": [
    "# Try KernelPCA\n",
    "# from sklearn.decomposition import KernelPCA\n",
    "\n",
    "# kcpa = KernelPCA(kernel='rbf', fit_inverse_transform=False)\n",
    "# X = kcpa.fit_transform(X)\n",
    "\n",
    "# print X.shape\n",
    "# print y.shape"
   ]
  },
  {
   "cell_type": "code",
   "execution_count": 159,
   "metadata": {},
   "outputs": [],
   "source": [
    "from sklearn.model_selection import train_test_split\n",
    "\n",
    "\n",
    "X_train, X_test, y_train, y_test = train_test_split(X, \n",
    "                                                    y, \n",
    "                                                    test_size=0.33, \n",
    "                                                    random_state=1234)"
   ]
  },
  {
   "cell_type": "code",
   "execution_count": 167,
   "metadata": {
    "scrolled": true
   },
   "outputs": [
    {
     "name": "stdout",
     "output_type": "stream",
     "text": [
      "Mean squared error: 0.50\n",
      "Variance score: 0.52\n"
     ]
    },
    {
     "data": {
      "image/png": "[encoded data removed]",
      "text/plain": [
       "<Figure size 432x288 with 1 Axes>"
      ]
     },
     "metadata": {},
     "output_type": "display_data"
    }
   ],
   "source": [
    "import matplotlib.pyplot as plt\n",
    "import numpy as np\n",
    "from sklearn import datasets, linear_model\n",
    "from sklearn.metrics import mean_squared_error, r2_score, accuracy_score, make_scorer, roc_auc_score\n",
    "\n",
    "# Create linear regression object\n",
    "regr = linear_model.Lasso(alpha=0.001, fit_intercept=False, max_iter=10000)\n",
    "\n",
    "# Train the model using the training sets\n",
    "regr.fit(X_train, y_train)\n",
    "\n",
    "y_train_pred = regr.predict(X_train)\n",
    "\n",
    "# Make predictions using the testing set\n",
    "y_pred = regr.predict(X_test)\n",
    "\n",
    "# The mean squared error\n",
    "print(\"Mean squared error: %.2f\"\n",
    "      % mean_squared_error(y_test, y_pred))\n",
    "# Explained variance score: 1 is perfect prediction\n",
    "print('Variance score: %.2f' % r2_score(y_test.tolist(), y_pred.tolist()))\n",
    "\n",
    "# Plot the residuals\n",
    "plt.scatter(y_train, y_train-y_train_pred, c='b', marker='o', alpha=0.5)\n",
    "plt.scatter(y_test, y_test-y_pred, c='g', marker='s', alpha=0.5)\n",
    "plt.hlines(y=0, xmin=-10, xmax=10, color='r')\n",
    "plt.show()"
   ]
  },
  {
   "cell_type": "code",
   "execution_count": null,
   "metadata": {},
   "outputs": [],
   "source": [
    "def squared_err(org, prd):\n",
    "    return sum((org-prd)**2)"
   ]
  },
  {
   "cell_type": "code",
   "execution_count": null,
   "metadata": {},
   "outputs": [],
   "source": [
    "def coeff_of_determination(org, prd):\n",
    "    mean_org = np.mean(org)\n",
    "    mean_prd = [mean_org for y in org]\n",
    "    squared_error_regr = squared_err(org, prd)\n",
    "    print squared_error_regr \n",
    "    \n",
    "    squared_error_y_mean = squared_err(org, mean_prd)\n",
    "    print squared_error_y_mean\n",
    "    \n",
    "    return 1 - (squared_error_regr / squared_error_y_mean)"
   ]
  },
  {
   "cell_type": "code",
   "execution_count": 161,
   "metadata": {},
   "outputs": [
    {
     "name": "stdout",
     "output_type": "stream",
     "text": [
      "<class 'sklearn.linear_model.base.LinearRegression'> -4.666226790771289e+18\n",
      "<class 'sklearn.linear_model.ridge.Ridge'> 0.32598384890514986\n",
      "<class 'sklearn.linear_model.coordinate_descent.ElasticNet'> 0.05575253209133191\n",
      "<class 'sklearn.ensemble.weight_boosting.AdaBoostRegressor'> -0.2891272839540341\n",
      "<class 'sklearn.ensemble.gradient_boosting.GradientBoostingRegressor'> 0.4104192833471652\n",
      "<class 'sklearn.ensemble.forest.RandomForestRegressor'> 0.4489235660016785\n",
      "<class 'sklearn.svm.classes.SVR'> 0.06445139688300101\n"
     ]
    }
   ],
   "source": [
    "from sklearn import model_selection\n",
    "\n",
    "from sklearn.linear_model import LinearRegression, Ridge, ElasticNet\n",
    "from sklearn.ensemble import AdaBoostRegressor, GradientBoostingRegressor, RandomForestRegressor\n",
    "from sklearn.svm import SVR\n",
    "\n",
    "\n",
    "kfold = model_selection.KFold(n_splits=10, random_state=1234)\n",
    "\n",
    "\n",
    "def build_model(model_name):\n",
    "    return model_name()\n",
    "\n",
    "for model_name in [LinearRegression, Ridge, ElasticNet, \\\n",
    "                   AdaBoostRegressor, GradientBoostingRegressor, RandomForestRegressor, SVR]:\n",
    "    \n",
    "    model = build_model(model_name)\n",
    "    results = model_selection.cross_val_score(model, X_train, y_train, cv=kfold, scoring='r2')\n",
    "    print model_name, results.mean()\n",
    "    "
   ]
  }
 ],
 "metadata": {
  "kernelspec": {
   "display_name": "Python 2",
   "language": "python",
   "name": "python2"
  },
  "language_info": {
   "codemirror_mode": {
    "name": "ipython",
    "version": 2
   },
   "file_extension": ".py",
   "mimetype": "text/x-python",
   "name": "python",
   "nbconvert_exporter": "python",
   "pygments_lexer": "ipython2",
   "version": "2.7.14"
  }
 },
 "nbformat": 4,
 "nbformat_minor": 2
}
